{
 "cells": [
  {
   "cell_type": "code",
   "execution_count": 1,
   "metadata": {},
   "outputs": [],
   "source": [
    "import pandas as pd\n",
    "import matplotlib.pyplot as plt\n",
    "import plotly.express as px\n",
    "import plotly.graph_objects as go\n",
    "import json\n",
    "import os"
   ]
  },
  {
   "cell_type": "code",
   "execution_count": 2,
   "metadata": {},
   "outputs": [],
   "source": [
    "# Get the current script's directory\n",
    "current_dir = os.getcwd()\n",
    "parent_dir = os.path.dirname(current_dir)"
   ]
  },
  {
   "cell_type": "code",
   "execution_count": 3,
   "metadata": {},
   "outputs": [],
   "source": [
    "# Load data from json\n",
    "paths = [parent_dir + '/logs/acdc/seed71/wide_resnet_28x10_71_acdc_block_sparsity0.8_momentum0.9_logs.json',\n",
    "         parent_dir +  '/logs/acdc/seed71/wide_resnet_28x10_71_acdc_block_L1_sparsity0.8_momentum0.9_logs.json',\n",
    "         parent_dir +  '/logs/acdc/seed71/wide_resnet_28x10_71_acdc_block_L2_sparsity0.8_momentum0.9_logs.json',\n",
    "         parent_dir +  '/logs/acdc/seed71/wide_resnet_28x10_71_acdc_block_min_sparsity0.8_momentum0.9_logs.json',\n",
    "         parent_dir +  '/logs/acdc/seed71/wide_resnet_28x10_71_acdc_global_unstructured_sparsity0.8_momentum0.9_logs.json'\n",
    "        ]       "
   ]
  },
  {
   "cell_type": "code",
   "execution_count": 4,
   "metadata": {},
   "outputs": [],
   "source": [
    "def create_pandas_dataframe_entries_for_each_epoch_from_logs(log_file_paths: list) -> pd.DataFrame:\n",
    "    \"\"\"\n",
    "    Create a pandas DataFrame from the log files. The DataFrame will have a row for each epoch in each training.\n",
    "    \"\"\"\n",
    "    df_list = []\n",
    "    for log_file_path in log_file_paths:\n",
    "        with open(log_file_path, 'r') as file:\n",
    "            data = json.load(file)\n",
    "        common_data = {key: value for key, value in data.items() if key != 'epochs'}\n",
    "        for epoch_data in data['epochs']:\n",
    "            combined_data = {**common_data, **epoch_data}\n",
    "            df_list.append(pd.DataFrame([combined_data]))\n",
    "    df = pd.concat(df_list, ignore_index=True)\n",
    "    return df"
   ]
  },
  {
   "cell_type": "code",
   "execution_count": 5,
   "metadata": {},
   "outputs": [
    {
     "data": {
      "text/html": [
       "<div>\n",
       "<style scoped>\n",
       "    .dataframe tbody tr th:only-of-type {\n",
       "        vertical-align: middle;\n",
       "    }\n",
       "\n",
       "    .dataframe tbody tr th {\n",
       "        vertical-align: top;\n",
       "    }\n",
       "\n",
       "    .dataframe thead th {\n",
       "        text-align: right;\n",
       "    }\n",
       "</style>\n",
       "<table border=\"1\" class=\"dataframe\">\n",
       "  <thead>\n",
       "    <tr style=\"text-align: right;\">\n",
       "      <th></th>\n",
       "      <th>device</th>\n",
       "      <th>initial_learning_rate</th>\n",
       "      <th>net_type</th>\n",
       "      <th>depth</th>\n",
       "      <th>widen_factor</th>\n",
       "      <th>dropout</th>\n",
       "      <th>dataset</th>\n",
       "      <th>checkpoint_filename</th>\n",
       "      <th>seed</th>\n",
       "      <th>resume</th>\n",
       "      <th>...</th>\n",
       "      <th>elapsed_time_seconds</th>\n",
       "      <th>final_global_sparsity</th>\n",
       "      <th>final_sparsity_across_pruned_layers</th>\n",
       "      <th>epoch</th>\n",
       "      <th>learning_rate</th>\n",
       "      <th>valid_accuracy</th>\n",
       "      <th>valid_loss</th>\n",
       "      <th>epoch_time</th>\n",
       "      <th>phase</th>\n",
       "      <th>optimizer_momentum</th>\n",
       "    </tr>\n",
       "  </thead>\n",
       "  <tbody>\n",
       "    <tr>\n",
       "      <th>0</th>\n",
       "      <td>NVIDIA GeForce RTX 2080 Ti</td>\n",
       "      <td>0.1</td>\n",
       "      <td>wide-resnet</td>\n",
       "      <td>28</td>\n",
       "      <td>10</td>\n",
       "      <td>0</td>\n",
       "      <td>cifar100</td>\n",
       "      <td>seed71/acdc/wide_resnet_28x10_71_acdc_block_sp...</td>\n",
       "      <td>71</td>\n",
       "      <td>False</td>\n",
       "      <td>...</td>\n",
       "      <td>21561.837193</td>\n",
       "      <td>0.799157</td>\n",
       "      <td>0.800766</td>\n",
       "      <td>1</td>\n",
       "      <td>0.1</td>\n",
       "      <td>12.660000</td>\n",
       "      <td>372.157214</td>\n",
       "      <td>114.806673</td>\n",
       "      <td>dense</td>\n",
       "      <td>0.9</td>\n",
       "    </tr>\n",
       "    <tr>\n",
       "      <th>1</th>\n",
       "      <td>NVIDIA GeForce RTX 2080 Ti</td>\n",
       "      <td>0.1</td>\n",
       "      <td>wide-resnet</td>\n",
       "      <td>28</td>\n",
       "      <td>10</td>\n",
       "      <td>0</td>\n",
       "      <td>cifar100</td>\n",
       "      <td>seed71/acdc/wide_resnet_28x10_71_acdc_block_sp...</td>\n",
       "      <td>71</td>\n",
       "      <td>False</td>\n",
       "      <td>...</td>\n",
       "      <td>21561.837193</td>\n",
       "      <td>0.799157</td>\n",
       "      <td>0.800766</td>\n",
       "      <td>2</td>\n",
       "      <td>0.1</td>\n",
       "      <td>22.850000</td>\n",
       "      <td>306.089084</td>\n",
       "      <td>105.455266</td>\n",
       "      <td>dense</td>\n",
       "      <td>0.9</td>\n",
       "    </tr>\n",
       "    <tr>\n",
       "      <th>2</th>\n",
       "      <td>NVIDIA GeForce RTX 2080 Ti</td>\n",
       "      <td>0.1</td>\n",
       "      <td>wide-resnet</td>\n",
       "      <td>28</td>\n",
       "      <td>10</td>\n",
       "      <td>0</td>\n",
       "      <td>cifar100</td>\n",
       "      <td>seed71/acdc/wide_resnet_28x10_71_acdc_block_sp...</td>\n",
       "      <td>71</td>\n",
       "      <td>False</td>\n",
       "      <td>...</td>\n",
       "      <td>21561.837193</td>\n",
       "      <td>0.799157</td>\n",
       "      <td>0.800766</td>\n",
       "      <td>3</td>\n",
       "      <td>0.1</td>\n",
       "      <td>25.740000</td>\n",
       "      <td>306.950976</td>\n",
       "      <td>105.382299</td>\n",
       "      <td>dense</td>\n",
       "      <td>0.9</td>\n",
       "    </tr>\n",
       "    <tr>\n",
       "      <th>3</th>\n",
       "      <td>NVIDIA GeForce RTX 2080 Ti</td>\n",
       "      <td>0.1</td>\n",
       "      <td>wide-resnet</td>\n",
       "      <td>28</td>\n",
       "      <td>10</td>\n",
       "      <td>0</td>\n",
       "      <td>cifar100</td>\n",
       "      <td>seed71/acdc/wide_resnet_28x10_71_acdc_block_sp...</td>\n",
       "      <td>71</td>\n",
       "      <td>False</td>\n",
       "      <td>...</td>\n",
       "      <td>21561.837193</td>\n",
       "      <td>0.799157</td>\n",
       "      <td>0.800766</td>\n",
       "      <td>4</td>\n",
       "      <td>0.1</td>\n",
       "      <td>33.500000</td>\n",
       "      <td>271.965646</td>\n",
       "      <td>105.348509</td>\n",
       "      <td>dense</td>\n",
       "      <td>0.9</td>\n",
       "    </tr>\n",
       "    <tr>\n",
       "      <th>4</th>\n",
       "      <td>NVIDIA GeForce RTX 2080 Ti</td>\n",
       "      <td>0.1</td>\n",
       "      <td>wide-resnet</td>\n",
       "      <td>28</td>\n",
       "      <td>10</td>\n",
       "      <td>0</td>\n",
       "      <td>cifar100</td>\n",
       "      <td>seed71/acdc/wide_resnet_28x10_71_acdc_block_sp...</td>\n",
       "      <td>71</td>\n",
       "      <td>False</td>\n",
       "      <td>...</td>\n",
       "      <td>21561.837193</td>\n",
       "      <td>0.799157</td>\n",
       "      <td>0.800766</td>\n",
       "      <td>5</td>\n",
       "      <td>0.1</td>\n",
       "      <td>38.840000</td>\n",
       "      <td>239.321878</td>\n",
       "      <td>105.274102</td>\n",
       "      <td>dense</td>\n",
       "      <td>0.9</td>\n",
       "    </tr>\n",
       "    <tr>\n",
       "      <th>5</th>\n",
       "      <td>NVIDIA GeForce RTX 2080 Ti</td>\n",
       "      <td>0.1</td>\n",
       "      <td>wide-resnet</td>\n",
       "      <td>28</td>\n",
       "      <td>10</td>\n",
       "      <td>0</td>\n",
       "      <td>cifar100</td>\n",
       "      <td>seed71/acdc/wide_resnet_28x10_71_acdc_block_sp...</td>\n",
       "      <td>71</td>\n",
       "      <td>False</td>\n",
       "      <td>...</td>\n",
       "      <td>21561.837193</td>\n",
       "      <td>0.799157</td>\n",
       "      <td>0.800766</td>\n",
       "      <td>6</td>\n",
       "      <td>0.1</td>\n",
       "      <td>41.029999</td>\n",
       "      <td>219.552708</td>\n",
       "      <td>105.250989</td>\n",
       "      <td>dense</td>\n",
       "      <td>0.9</td>\n",
       "    </tr>\n",
       "    <tr>\n",
       "      <th>6</th>\n",
       "      <td>NVIDIA GeForce RTX 2080 Ti</td>\n",
       "      <td>0.1</td>\n",
       "      <td>wide-resnet</td>\n",
       "      <td>28</td>\n",
       "      <td>10</td>\n",
       "      <td>0</td>\n",
       "      <td>cifar100</td>\n",
       "      <td>seed71/acdc/wide_resnet_28x10_71_acdc_block_sp...</td>\n",
       "      <td>71</td>\n",
       "      <td>False</td>\n",
       "      <td>...</td>\n",
       "      <td>21561.837193</td>\n",
       "      <td>0.799157</td>\n",
       "      <td>0.800766</td>\n",
       "      <td>7</td>\n",
       "      <td>0.1</td>\n",
       "      <td>46.930000</td>\n",
       "      <td>194.306056</td>\n",
       "      <td>105.209845</td>\n",
       "      <td>dense</td>\n",
       "      <td>0.9</td>\n",
       "    </tr>\n",
       "    <tr>\n",
       "      <th>7</th>\n",
       "      <td>NVIDIA GeForce RTX 2080 Ti</td>\n",
       "      <td>0.1</td>\n",
       "      <td>wide-resnet</td>\n",
       "      <td>28</td>\n",
       "      <td>10</td>\n",
       "      <td>0</td>\n",
       "      <td>cifar100</td>\n",
       "      <td>seed71/acdc/wide_resnet_28x10_71_acdc_block_sp...</td>\n",
       "      <td>71</td>\n",
       "      <td>False</td>\n",
       "      <td>...</td>\n",
       "      <td>21561.837193</td>\n",
       "      <td>0.799157</td>\n",
       "      <td>0.800766</td>\n",
       "      <td>8</td>\n",
       "      <td>0.1</td>\n",
       "      <td>47.740002</td>\n",
       "      <td>193.125646</td>\n",
       "      <td>105.180278</td>\n",
       "      <td>dense</td>\n",
       "      <td>0.9</td>\n",
       "    </tr>\n",
       "    <tr>\n",
       "      <th>8</th>\n",
       "      <td>NVIDIA GeForce RTX 2080 Ti</td>\n",
       "      <td>0.1</td>\n",
       "      <td>wide-resnet</td>\n",
       "      <td>28</td>\n",
       "      <td>10</td>\n",
       "      <td>0</td>\n",
       "      <td>cifar100</td>\n",
       "      <td>seed71/acdc/wide_resnet_28x10_71_acdc_block_sp...</td>\n",
       "      <td>71</td>\n",
       "      <td>False</td>\n",
       "      <td>...</td>\n",
       "      <td>21561.837193</td>\n",
       "      <td>0.799157</td>\n",
       "      <td>0.800766</td>\n",
       "      <td>9</td>\n",
       "      <td>0.1</td>\n",
       "      <td>45.459999</td>\n",
       "      <td>207.808055</td>\n",
       "      <td>105.126694</td>\n",
       "      <td>dense</td>\n",
       "      <td>0.9</td>\n",
       "    </tr>\n",
       "    <tr>\n",
       "      <th>9</th>\n",
       "      <td>NVIDIA GeForce RTX 2080 Ti</td>\n",
       "      <td>0.1</td>\n",
       "      <td>wide-resnet</td>\n",
       "      <td>28</td>\n",
       "      <td>10</td>\n",
       "      <td>0</td>\n",
       "      <td>cifar100</td>\n",
       "      <td>seed71/acdc/wide_resnet_28x10_71_acdc_block_sp...</td>\n",
       "      <td>71</td>\n",
       "      <td>False</td>\n",
       "      <td>...</td>\n",
       "      <td>21561.837193</td>\n",
       "      <td>0.799157</td>\n",
       "      <td>0.800766</td>\n",
       "      <td>10</td>\n",
       "      <td>0.1</td>\n",
       "      <td>46.950001</td>\n",
       "      <td>196.649434</td>\n",
       "      <td>105.142949</td>\n",
       "      <td>dense</td>\n",
       "      <td>0.9</td>\n",
       "    </tr>\n",
       "    <tr>\n",
       "      <th>10</th>\n",
       "      <td>NVIDIA GeForce RTX 2080 Ti</td>\n",
       "      <td>0.1</td>\n",
       "      <td>wide-resnet</td>\n",
       "      <td>28</td>\n",
       "      <td>10</td>\n",
       "      <td>0</td>\n",
       "      <td>cifar100</td>\n",
       "      <td>seed71/acdc/wide_resnet_28x10_71_acdc_block_sp...</td>\n",
       "      <td>71</td>\n",
       "      <td>False</td>\n",
       "      <td>...</td>\n",
       "      <td>21561.837193</td>\n",
       "      <td>0.799157</td>\n",
       "      <td>0.800766</td>\n",
       "      <td>11</td>\n",
       "      <td>0.1</td>\n",
       "      <td>44.410000</td>\n",
       "      <td>217.231835</td>\n",
       "      <td>104.356385</td>\n",
       "      <td>sparse</td>\n",
       "      <td>0.9</td>\n",
       "    </tr>\n",
       "  </tbody>\n",
       "</table>\n",
       "<p>11 rows × 30 columns</p>\n",
       "</div>"
      ],
      "text/plain": [
       "                        device  initial_learning_rate     net_type  depth  \\\n",
       "0   NVIDIA GeForce RTX 2080 Ti                    0.1  wide-resnet     28   \n",
       "1   NVIDIA GeForce RTX 2080 Ti                    0.1  wide-resnet     28   \n",
       "2   NVIDIA GeForce RTX 2080 Ti                    0.1  wide-resnet     28   \n",
       "3   NVIDIA GeForce RTX 2080 Ti                    0.1  wide-resnet     28   \n",
       "4   NVIDIA GeForce RTX 2080 Ti                    0.1  wide-resnet     28   \n",
       "5   NVIDIA GeForce RTX 2080 Ti                    0.1  wide-resnet     28   \n",
       "6   NVIDIA GeForce RTX 2080 Ti                    0.1  wide-resnet     28   \n",
       "7   NVIDIA GeForce RTX 2080 Ti                    0.1  wide-resnet     28   \n",
       "8   NVIDIA GeForce RTX 2080 Ti                    0.1  wide-resnet     28   \n",
       "9   NVIDIA GeForce RTX 2080 Ti                    0.1  wide-resnet     28   \n",
       "10  NVIDIA GeForce RTX 2080 Ti                    0.1  wide-resnet     28   \n",
       "\n",
       "    widen_factor  dropout   dataset  \\\n",
       "0             10        0  cifar100   \n",
       "1             10        0  cifar100   \n",
       "2             10        0  cifar100   \n",
       "3             10        0  cifar100   \n",
       "4             10        0  cifar100   \n",
       "5             10        0  cifar100   \n",
       "6             10        0  cifar100   \n",
       "7             10        0  cifar100   \n",
       "8             10        0  cifar100   \n",
       "9             10        0  cifar100   \n",
       "10            10        0  cifar100   \n",
       "\n",
       "                                  checkpoint_filename  seed  resume  ...  \\\n",
       "0   seed71/acdc/wide_resnet_28x10_71_acdc_block_sp...    71   False  ...   \n",
       "1   seed71/acdc/wide_resnet_28x10_71_acdc_block_sp...    71   False  ...   \n",
       "2   seed71/acdc/wide_resnet_28x10_71_acdc_block_sp...    71   False  ...   \n",
       "3   seed71/acdc/wide_resnet_28x10_71_acdc_block_sp...    71   False  ...   \n",
       "4   seed71/acdc/wide_resnet_28x10_71_acdc_block_sp...    71   False  ...   \n",
       "5   seed71/acdc/wide_resnet_28x10_71_acdc_block_sp...    71   False  ...   \n",
       "6   seed71/acdc/wide_resnet_28x10_71_acdc_block_sp...    71   False  ...   \n",
       "7   seed71/acdc/wide_resnet_28x10_71_acdc_block_sp...    71   False  ...   \n",
       "8   seed71/acdc/wide_resnet_28x10_71_acdc_block_sp...    71   False  ...   \n",
       "9   seed71/acdc/wide_resnet_28x10_71_acdc_block_sp...    71   False  ...   \n",
       "10  seed71/acdc/wide_resnet_28x10_71_acdc_block_sp...    71   False  ...   \n",
       "\n",
       "   elapsed_time_seconds  final_global_sparsity  \\\n",
       "0          21561.837193               0.799157   \n",
       "1          21561.837193               0.799157   \n",
       "2          21561.837193               0.799157   \n",
       "3          21561.837193               0.799157   \n",
       "4          21561.837193               0.799157   \n",
       "5          21561.837193               0.799157   \n",
       "6          21561.837193               0.799157   \n",
       "7          21561.837193               0.799157   \n",
       "8          21561.837193               0.799157   \n",
       "9          21561.837193               0.799157   \n",
       "10         21561.837193               0.799157   \n",
       "\n",
       "   final_sparsity_across_pruned_layers  epoch learning_rate  valid_accuracy  \\\n",
       "0                             0.800766      1           0.1       12.660000   \n",
       "1                             0.800766      2           0.1       22.850000   \n",
       "2                             0.800766      3           0.1       25.740000   \n",
       "3                             0.800766      4           0.1       33.500000   \n",
       "4                             0.800766      5           0.1       38.840000   \n",
       "5                             0.800766      6           0.1       41.029999   \n",
       "6                             0.800766      7           0.1       46.930000   \n",
       "7                             0.800766      8           0.1       47.740002   \n",
       "8                             0.800766      9           0.1       45.459999   \n",
       "9                             0.800766     10           0.1       46.950001   \n",
       "10                            0.800766     11           0.1       44.410000   \n",
       "\n",
       "    valid_loss  epoch_time   phase  optimizer_momentum  \n",
       "0   372.157214  114.806673   dense                 0.9  \n",
       "1   306.089084  105.455266   dense                 0.9  \n",
       "2   306.950976  105.382299   dense                 0.9  \n",
       "3   271.965646  105.348509   dense                 0.9  \n",
       "4   239.321878  105.274102   dense                 0.9  \n",
       "5   219.552708  105.250989   dense                 0.9  \n",
       "6   194.306056  105.209845   dense                 0.9  \n",
       "7   193.125646  105.180278   dense                 0.9  \n",
       "8   207.808055  105.126694   dense                 0.9  \n",
       "9   196.649434  105.142949   dense                 0.9  \n",
       "10  217.231835  104.356385  sparse                 0.9  \n",
       "\n",
       "[11 rows x 30 columns]"
      ]
     },
     "execution_count": 5,
     "metadata": {},
     "output_type": "execute_result"
    }
   ],
   "source": [
    "df = create_pandas_dataframe_entries_for_each_epoch_from_logs(paths)\n",
    "df.head(11)"
   ]
  },
  {
   "cell_type": "code",
   "execution_count": 6,
   "metadata": {},
   "outputs": [
    {
     "data": {
      "text/plain": [
       "Index(['device', 'initial_learning_rate', 'net_type', 'depth', 'widen_factor',\n",
       "       'dropout', 'dataset', 'checkpoint_filename', 'seed', 'resume',\n",
       "       'resumed_from_file', 'testOnly', 'pruning_method', 'sparsity',\n",
       "       'block_criterion', 'acdc', 'pruning_time', 'block_size', 'batch_size',\n",
       "       'num_epochs', 'elapsed_time_seconds', 'final_global_sparsity',\n",
       "       'final_sparsity_across_pruned_layers', 'epoch', 'learning_rate',\n",
       "       'valid_accuracy', 'valid_loss', 'epoch_time', 'phase',\n",
       "       'optimizer_momentum'],\n",
       "      dtype='object')"
      ]
     },
     "execution_count": 6,
     "metadata": {},
     "output_type": "execute_result"
    }
   ],
   "source": [
    "df.columns"
   ]
  },
  {
   "cell_type": "code",
   "execution_count": 7,
   "metadata": {},
   "outputs": [],
   "source": [
    "# Change block_criterion values: max to abs max, min to abs min, L1 to L1 norm, L2 to L2 norm\n",
    "df['block_criterion'] = df['block_criterion'].replace({'max': 'abs max', 'min': 'abs min', 'L1': 'L1 norm', 'L2': 'L2 norm'})\n",
    "# Change pruning_method value: global_unstructured to unstructured\n",
    "df['pruning_method'] = df['pruning_method'].replace({'global_unstructured': 'unstructured'})\n",
    "# Change block_criterion to L1 norm for pruning_method = unstructured\n",
    "df.loc[df['pruning_method'] == 'unstructured', 'block_criterion'] = 'L1 norm'\n",
    "# Create column pruning_type as a combination of pruning_method and block_criterion\n",
    "df['pruning_type'] = df['pruning_method'] + ', ' + df['block_criterion']"
   ]
  },
  {
   "cell_type": "code",
   "execution_count": 8,
   "metadata": {},
   "outputs": [
    {
     "data": {
      "text/html": [
       "<div>\n",
       "<style scoped>\n",
       "    .dataframe tbody tr th:only-of-type {\n",
       "        vertical-align: middle;\n",
       "    }\n",
       "\n",
       "    .dataframe tbody tr th {\n",
       "        vertical-align: top;\n",
       "    }\n",
       "\n",
       "    .dataframe thead th {\n",
       "        text-align: right;\n",
       "    }\n",
       "</style>\n",
       "<table border=\"1\" class=\"dataframe\">\n",
       "  <thead>\n",
       "    <tr style=\"text-align: right;\">\n",
       "      <th></th>\n",
       "      <th>device</th>\n",
       "      <th>initial_learning_rate</th>\n",
       "      <th>net_type</th>\n",
       "      <th>depth</th>\n",
       "      <th>widen_factor</th>\n",
       "      <th>dropout</th>\n",
       "      <th>dataset</th>\n",
       "      <th>checkpoint_filename</th>\n",
       "      <th>seed</th>\n",
       "      <th>resume</th>\n",
       "      <th>...</th>\n",
       "      <th>final_global_sparsity</th>\n",
       "      <th>final_sparsity_across_pruned_layers</th>\n",
       "      <th>epoch</th>\n",
       "      <th>learning_rate</th>\n",
       "      <th>valid_accuracy</th>\n",
       "      <th>valid_loss</th>\n",
       "      <th>epoch_time</th>\n",
       "      <th>phase</th>\n",
       "      <th>optimizer_momentum</th>\n",
       "      <th>pruning_type</th>\n",
       "    </tr>\n",
       "  </thead>\n",
       "  <tbody>\n",
       "    <tr>\n",
       "      <th>800</th>\n",
       "      <td>NVIDIA GeForce RTX 2080 Ti</td>\n",
       "      <td>0.1</td>\n",
       "      <td>wide-resnet</td>\n",
       "      <td>28</td>\n",
       "      <td>10</td>\n",
       "      <td>0</td>\n",
       "      <td>cifar100</td>\n",
       "      <td>seed71/acdc/wide_resnet_28x10_71_acdc_global_u...</td>\n",
       "      <td>71</td>\n",
       "      <td>False</td>\n",
       "      <td>...</td>\n",
       "      <td>0.798392</td>\n",
       "      <td>0.8</td>\n",
       "      <td>1</td>\n",
       "      <td>0.1000</td>\n",
       "      <td>13.430000</td>\n",
       "      <td>365.187206</td>\n",
       "      <td>114.155555</td>\n",
       "      <td>dense</td>\n",
       "      <td>0.9</td>\n",
       "      <td>unstructured, L1 norm</td>\n",
       "    </tr>\n",
       "    <tr>\n",
       "      <th>801</th>\n",
       "      <td>NVIDIA GeForce RTX 2080 Ti</td>\n",
       "      <td>0.1</td>\n",
       "      <td>wide-resnet</td>\n",
       "      <td>28</td>\n",
       "      <td>10</td>\n",
       "      <td>0</td>\n",
       "      <td>cifar100</td>\n",
       "      <td>seed71/acdc/wide_resnet_28x10_71_acdc_global_u...</td>\n",
       "      <td>71</td>\n",
       "      <td>False</td>\n",
       "      <td>...</td>\n",
       "      <td>0.798392</td>\n",
       "      <td>0.8</td>\n",
       "      <td>2</td>\n",
       "      <td>0.1000</td>\n",
       "      <td>24.440001</td>\n",
       "      <td>298.479884</td>\n",
       "      <td>106.599436</td>\n",
       "      <td>dense</td>\n",
       "      <td>0.9</td>\n",
       "      <td>unstructured, L1 norm</td>\n",
       "    </tr>\n",
       "    <tr>\n",
       "      <th>802</th>\n",
       "      <td>NVIDIA GeForce RTX 2080 Ti</td>\n",
       "      <td>0.1</td>\n",
       "      <td>wide-resnet</td>\n",
       "      <td>28</td>\n",
       "      <td>10</td>\n",
       "      <td>0</td>\n",
       "      <td>cifar100</td>\n",
       "      <td>seed71/acdc/wide_resnet_28x10_71_acdc_global_u...</td>\n",
       "      <td>71</td>\n",
       "      <td>False</td>\n",
       "      <td>...</td>\n",
       "      <td>0.798392</td>\n",
       "      <td>0.8</td>\n",
       "      <td>3</td>\n",
       "      <td>0.1000</td>\n",
       "      <td>27.570000</td>\n",
       "      <td>289.479594</td>\n",
       "      <td>106.701546</td>\n",
       "      <td>dense</td>\n",
       "      <td>0.9</td>\n",
       "      <td>unstructured, L1 norm</td>\n",
       "    </tr>\n",
       "    <tr>\n",
       "      <th>803</th>\n",
       "      <td>NVIDIA GeForce RTX 2080 Ti</td>\n",
       "      <td>0.1</td>\n",
       "      <td>wide-resnet</td>\n",
       "      <td>28</td>\n",
       "      <td>10</td>\n",
       "      <td>0</td>\n",
       "      <td>cifar100</td>\n",
       "      <td>seed71/acdc/wide_resnet_28x10_71_acdc_global_u...</td>\n",
       "      <td>71</td>\n",
       "      <td>False</td>\n",
       "      <td>...</td>\n",
       "      <td>0.798392</td>\n",
       "      <td>0.8</td>\n",
       "      <td>4</td>\n",
       "      <td>0.1000</td>\n",
       "      <td>30.850000</td>\n",
       "      <td>287.857772</td>\n",
       "      <td>106.710074</td>\n",
       "      <td>dense</td>\n",
       "      <td>0.9</td>\n",
       "      <td>unstructured, L1 norm</td>\n",
       "    </tr>\n",
       "    <tr>\n",
       "      <th>804</th>\n",
       "      <td>NVIDIA GeForce RTX 2080 Ti</td>\n",
       "      <td>0.1</td>\n",
       "      <td>wide-resnet</td>\n",
       "      <td>28</td>\n",
       "      <td>10</td>\n",
       "      <td>0</td>\n",
       "      <td>cifar100</td>\n",
       "      <td>seed71/acdc/wide_resnet_28x10_71_acdc_global_u...</td>\n",
       "      <td>71</td>\n",
       "      <td>False</td>\n",
       "      <td>...</td>\n",
       "      <td>0.798392</td>\n",
       "      <td>0.8</td>\n",
       "      <td>5</td>\n",
       "      <td>0.1000</td>\n",
       "      <td>38.110001</td>\n",
       "      <td>242.412813</td>\n",
       "      <td>106.630279</td>\n",
       "      <td>dense</td>\n",
       "      <td>0.9</td>\n",
       "      <td>unstructured, L1 norm</td>\n",
       "    </tr>\n",
       "    <tr>\n",
       "      <th>...</th>\n",
       "      <td>...</td>\n",
       "      <td>...</td>\n",
       "      <td>...</td>\n",
       "      <td>...</td>\n",
       "      <td>...</td>\n",
       "      <td>...</td>\n",
       "      <td>...</td>\n",
       "      <td>...</td>\n",
       "      <td>...</td>\n",
       "      <td>...</td>\n",
       "      <td>...</td>\n",
       "      <td>...</td>\n",
       "      <td>...</td>\n",
       "      <td>...</td>\n",
       "      <td>...</td>\n",
       "      <td>...</td>\n",
       "      <td>...</td>\n",
       "      <td>...</td>\n",
       "      <td>...</td>\n",
       "      <td>...</td>\n",
       "      <td>...</td>\n",
       "    </tr>\n",
       "    <tr>\n",
       "      <th>795</th>\n",
       "      <td>NVIDIA GeForce RTX 2080 Ti</td>\n",
       "      <td>0.1</td>\n",
       "      <td>wide-resnet</td>\n",
       "      <td>28</td>\n",
       "      <td>10</td>\n",
       "      <td>0</td>\n",
       "      <td>cifar100</td>\n",
       "      <td>seed71/acdc/wide_resnet_28x10_71_acdc_block_mi...</td>\n",
       "      <td>71</td>\n",
       "      <td>False</td>\n",
       "      <td>...</td>\n",
       "      <td>0.798392</td>\n",
       "      <td>0.8</td>\n",
       "      <td>196</td>\n",
       "      <td>0.0008</td>\n",
       "      <td>78.040001</td>\n",
       "      <td>89.649708</td>\n",
       "      <td>104.185717</td>\n",
       "      <td>sparse</td>\n",
       "      <td>0.9</td>\n",
       "      <td>block, abs min</td>\n",
       "    </tr>\n",
       "    <tr>\n",
       "      <th>796</th>\n",
       "      <td>NVIDIA GeForce RTX 2080 Ti</td>\n",
       "      <td>0.1</td>\n",
       "      <td>wide-resnet</td>\n",
       "      <td>28</td>\n",
       "      <td>10</td>\n",
       "      <td>0</td>\n",
       "      <td>cifar100</td>\n",
       "      <td>seed71/acdc/wide_resnet_28x10_71_acdc_block_mi...</td>\n",
       "      <td>71</td>\n",
       "      <td>False</td>\n",
       "      <td>...</td>\n",
       "      <td>0.798392</td>\n",
       "      <td>0.8</td>\n",
       "      <td>197</td>\n",
       "      <td>0.0008</td>\n",
       "      <td>78.279999</td>\n",
       "      <td>89.309683</td>\n",
       "      <td>105.193275</td>\n",
       "      <td>sparse</td>\n",
       "      <td>0.9</td>\n",
       "      <td>block, abs min</td>\n",
       "    </tr>\n",
       "    <tr>\n",
       "      <th>797</th>\n",
       "      <td>NVIDIA GeForce RTX 2080 Ti</td>\n",
       "      <td>0.1</td>\n",
       "      <td>wide-resnet</td>\n",
       "      <td>28</td>\n",
       "      <td>10</td>\n",
       "      <td>0</td>\n",
       "      <td>cifar100</td>\n",
       "      <td>seed71/acdc/wide_resnet_28x10_71_acdc_block_mi...</td>\n",
       "      <td>71</td>\n",
       "      <td>False</td>\n",
       "      <td>...</td>\n",
       "      <td>0.798392</td>\n",
       "      <td>0.8</td>\n",
       "      <td>198</td>\n",
       "      <td>0.0008</td>\n",
       "      <td>78.290001</td>\n",
       "      <td>88.787976</td>\n",
       "      <td>105.545434</td>\n",
       "      <td>sparse</td>\n",
       "      <td>0.9</td>\n",
       "      <td>block, abs min</td>\n",
       "    </tr>\n",
       "    <tr>\n",
       "      <th>798</th>\n",
       "      <td>NVIDIA GeForce RTX 2080 Ti</td>\n",
       "      <td>0.1</td>\n",
       "      <td>wide-resnet</td>\n",
       "      <td>28</td>\n",
       "      <td>10</td>\n",
       "      <td>0</td>\n",
       "      <td>cifar100</td>\n",
       "      <td>seed71/acdc/wide_resnet_28x10_71_acdc_block_mi...</td>\n",
       "      <td>71</td>\n",
       "      <td>False</td>\n",
       "      <td>...</td>\n",
       "      <td>0.798392</td>\n",
       "      <td>0.8</td>\n",
       "      <td>199</td>\n",
       "      <td>0.0008</td>\n",
       "      <td>77.989998</td>\n",
       "      <td>90.864106</td>\n",
       "      <td>105.268249</td>\n",
       "      <td>sparse</td>\n",
       "      <td>0.9</td>\n",
       "      <td>block, abs min</td>\n",
       "    </tr>\n",
       "    <tr>\n",
       "      <th>799</th>\n",
       "      <td>NVIDIA GeForce RTX 2080 Ti</td>\n",
       "      <td>0.1</td>\n",
       "      <td>wide-resnet</td>\n",
       "      <td>28</td>\n",
       "      <td>10</td>\n",
       "      <td>0</td>\n",
       "      <td>cifar100</td>\n",
       "      <td>seed71/acdc/wide_resnet_28x10_71_acdc_block_mi...</td>\n",
       "      <td>71</td>\n",
       "      <td>False</td>\n",
       "      <td>...</td>\n",
       "      <td>0.798392</td>\n",
       "      <td>0.8</td>\n",
       "      <td>200</td>\n",
       "      <td>0.0008</td>\n",
       "      <td>77.970001</td>\n",
       "      <td>90.294446</td>\n",
       "      <td>105.347543</td>\n",
       "      <td>sparse</td>\n",
       "      <td>0.9</td>\n",
       "      <td>block, abs min</td>\n",
       "    </tr>\n",
       "  </tbody>\n",
       "</table>\n",
       "<p>1000 rows × 31 columns</p>\n",
       "</div>"
      ],
      "text/plain": [
       "                         device  initial_learning_rate     net_type  depth  \\\n",
       "800  NVIDIA GeForce RTX 2080 Ti                    0.1  wide-resnet     28   \n",
       "801  NVIDIA GeForce RTX 2080 Ti                    0.1  wide-resnet     28   \n",
       "802  NVIDIA GeForce RTX 2080 Ti                    0.1  wide-resnet     28   \n",
       "803  NVIDIA GeForce RTX 2080 Ti                    0.1  wide-resnet     28   \n",
       "804  NVIDIA GeForce RTX 2080 Ti                    0.1  wide-resnet     28   \n",
       "..                          ...                    ...          ...    ...   \n",
       "795  NVIDIA GeForce RTX 2080 Ti                    0.1  wide-resnet     28   \n",
       "796  NVIDIA GeForce RTX 2080 Ti                    0.1  wide-resnet     28   \n",
       "797  NVIDIA GeForce RTX 2080 Ti                    0.1  wide-resnet     28   \n",
       "798  NVIDIA GeForce RTX 2080 Ti                    0.1  wide-resnet     28   \n",
       "799  NVIDIA GeForce RTX 2080 Ti                    0.1  wide-resnet     28   \n",
       "\n",
       "     widen_factor  dropout   dataset  \\\n",
       "800            10        0  cifar100   \n",
       "801            10        0  cifar100   \n",
       "802            10        0  cifar100   \n",
       "803            10        0  cifar100   \n",
       "804            10        0  cifar100   \n",
       "..            ...      ...       ...   \n",
       "795            10        0  cifar100   \n",
       "796            10        0  cifar100   \n",
       "797            10        0  cifar100   \n",
       "798            10        0  cifar100   \n",
       "799            10        0  cifar100   \n",
       "\n",
       "                                   checkpoint_filename  seed  resume  ...  \\\n",
       "800  seed71/acdc/wide_resnet_28x10_71_acdc_global_u...    71   False  ...   \n",
       "801  seed71/acdc/wide_resnet_28x10_71_acdc_global_u...    71   False  ...   \n",
       "802  seed71/acdc/wide_resnet_28x10_71_acdc_global_u...    71   False  ...   \n",
       "803  seed71/acdc/wide_resnet_28x10_71_acdc_global_u...    71   False  ...   \n",
       "804  seed71/acdc/wide_resnet_28x10_71_acdc_global_u...    71   False  ...   \n",
       "..                                                 ...   ...     ...  ...   \n",
       "795  seed71/acdc/wide_resnet_28x10_71_acdc_block_mi...    71   False  ...   \n",
       "796  seed71/acdc/wide_resnet_28x10_71_acdc_block_mi...    71   False  ...   \n",
       "797  seed71/acdc/wide_resnet_28x10_71_acdc_block_mi...    71   False  ...   \n",
       "798  seed71/acdc/wide_resnet_28x10_71_acdc_block_mi...    71   False  ...   \n",
       "799  seed71/acdc/wide_resnet_28x10_71_acdc_block_mi...    71   False  ...   \n",
       "\n",
       "    final_global_sparsity  final_sparsity_across_pruned_layers epoch  \\\n",
       "800              0.798392                                  0.8     1   \n",
       "801              0.798392                                  0.8     2   \n",
       "802              0.798392                                  0.8     3   \n",
       "803              0.798392                                  0.8     4   \n",
       "804              0.798392                                  0.8     5   \n",
       "..                    ...                                  ...   ...   \n",
       "795              0.798392                                  0.8   196   \n",
       "796              0.798392                                  0.8   197   \n",
       "797              0.798392                                  0.8   198   \n",
       "798              0.798392                                  0.8   199   \n",
       "799              0.798392                                  0.8   200   \n",
       "\n",
       "     learning_rate valid_accuracy  valid_loss  epoch_time   phase  \\\n",
       "800         0.1000      13.430000  365.187206  114.155555   dense   \n",
       "801         0.1000      24.440001  298.479884  106.599436   dense   \n",
       "802         0.1000      27.570000  289.479594  106.701546   dense   \n",
       "803         0.1000      30.850000  287.857772  106.710074   dense   \n",
       "804         0.1000      38.110001  242.412813  106.630279   dense   \n",
       "..             ...            ...         ...         ...     ...   \n",
       "795         0.0008      78.040001   89.649708  104.185717  sparse   \n",
       "796         0.0008      78.279999   89.309683  105.193275  sparse   \n",
       "797         0.0008      78.290001   88.787976  105.545434  sparse   \n",
       "798         0.0008      77.989998   90.864106  105.268249  sparse   \n",
       "799         0.0008      77.970001   90.294446  105.347543  sparse   \n",
       "\n",
       "     optimizer_momentum           pruning_type  \n",
       "800                 0.9  unstructured, L1 norm  \n",
       "801                 0.9  unstructured, L1 norm  \n",
       "802                 0.9  unstructured, L1 norm  \n",
       "803                 0.9  unstructured, L1 norm  \n",
       "804                 0.9  unstructured, L1 norm  \n",
       "..                  ...                    ...  \n",
       "795                 0.9         block, abs min  \n",
       "796                 0.9         block, abs min  \n",
       "797                 0.9         block, abs min  \n",
       "798                 0.9         block, abs min  \n",
       "799                 0.9         block, abs min  \n",
       "\n",
       "[1000 rows x 31 columns]"
      ]
     },
     "execution_count": 8,
     "metadata": {},
     "output_type": "execute_result"
    }
   ],
   "source": [
    "df['pruning_method'] = pd.Categorical(df['pruning_method'], ['unstructured', 'block'])\n",
    "df = df.sort_values(['pruning_method', 'block_criterion'])\n",
    "\n",
    "df"
   ]
  },
  {
   "cell_type": "code",
   "execution_count": 9,
   "metadata": {},
   "outputs": [],
   "source": [
    "def create_visualisation_accuracy_over_epochs(df=df, hue='pruning_type', title=None):\n",
    "    \n",
    "    custom_colors = ['#6A5ACD', '#E71D36', '#95C623', '#E082DA', '#FFA526']\n",
    "\n",
    "\n",
    "    fig = px.line(df, x='epoch', y='valid_accuracy', color=hue,\n",
    "                  hover_data={'learning_rate': True, 'final_sparsity_across_pruned_layers': True, 'phase': True},\n",
    "                  color_discrete_sequence=custom_colors)\n",
    "    \n",
    "    # Add shaded regions for sparse windows\n",
    "    shaded_regions = [(11, 30), (51, 70), (91, 110), (131, 150), (171, 200)]\n",
    "    for start, end in shaded_regions:\n",
    "        fig.add_shape(\n",
    "            type='rect',\n",
    "            x0=start, x1=end,\n",
    "            y0=10, y1=85,\n",
    "            # Blue with transparency\n",
    "            fillcolor='rgba(0, 0, 255, 0.2)',\n",
    "            line=dict(width=0)  # No border\n",
    "        )\n",
    "\n",
    "    # Add a blank trace to create space in the legend\n",
    "    fig.add_trace(\n",
    "        go.Scatter(\n",
    "        x=[None], y=[None],\n",
    "        mode='markers',\n",
    "        marker=dict(size=0, opacity=0),  # Invisible marker\n",
    "        name=''  # Empty name to act as a separator\n",
    "        )\n",
    "    )\n",
    "    \n",
    "    fig.add_trace(\n",
    "        go.Scatter(\n",
    "            x=[None], y=[None],\n",
    "            mode='markers',\n",
    "            marker=dict(size=10, color='rgba(0, 0, 255, 0.2)'),\n",
    "            name='Sparse phase'\n",
    "        )\n",
    "    )\n",
    "    fig.add_trace(\n",
    "        go.Scatter(\n",
    "            x=[None], y=[None],\n",
    "            mode='markers',\n",
    "            marker=dict(size=10, color='rgba(240, 240, 240, 1)'),\n",
    "            name='Dense phase'\n",
    "        )\n",
    "    )\n",
    "\n",
    "    fig.update_yaxes(range=[10, 85], title_text='Validation accuracy [%]')\n",
    "    fig.update_xaxes(title_text='Epoch')\n",
    "\n",
    "    fig.update_layout(\n",
    "        plot_bgcolor='rgba(240, 240, 240, 1)',  # Background for the plot area\n",
    "        height=600*1.2,\n",
    "        width=800*1.2,\n",
    "        # Change legend title\n",
    "        legend_title_text='Pruning method, Metric',\n",
    "        margin=dict(\n",
    "            l=50,  \n",
    "            r=50,  \n",
    "            t=70,  \n",
    "            b=50\n",
    "        ),\n",
    "        xaxis_title_font=dict(size=19),  \n",
    "        yaxis_title_font=dict(size=19), \n",
    "        legend_font=dict(size=17),  \n",
    "        font=dict(size=19),\n",
    "        title=dict(\n",
    "            text=title,\n",
    "            x=0.41,  # Center the title,\n",
    "            y=0.95,\n",
    "            font=dict(size=22) \n",
    "        ),\n",
    "    )   \n",
    "\n",
    "    fig.show()"
   ]
  },
  {
   "cell_type": "code",
   "execution_count": 10,
   "metadata": {},
   "outputs": [
    {
     "data": {
      "application/vnd.plotly.v1+json": {
       "config": {
        "plotlyServerURL": "https://plot.ly"
       },
       "data": [
        {
         "customdata": [
          [
           0.1,
           0.8,
           "dense"
          ],
          [
           0.1,
           0.8,
           "dense"
          ],
          [
           0.1,
           0.8,
           "dense"
          ],
          [
           0.1,
           0.8,
           "dense"
          ],
          [
           0.1,
           0.8,
           "dense"
          ],
          [
           0.1,
           0.8,
           "dense"
          ],
          [
           0.1,
           0.8,
           "dense"
          ],
          [
           0.1,
           0.8,
           "dense"
          ],
          [
           0.1,
           0.8,
           "dense"
          ],
          [
           0.1,
           0.8,
           "dense"
          ],
          [
           0.1,
           0.8,
           "sparse"
          ],
          [
           0.1,
           0.8,
           "sparse"
          ],
          [
           0.1,
           0.8,
           "sparse"
          ],
          [
           0.1,
           0.8,
           "sparse"
          ],
          [
           0.1,
           0.8,
           "sparse"
          ],
          [
           0.1,
           0.8,
           "sparse"
          ],
          [
           0.1,
           0.8,
           "sparse"
          ],
          [
           0.1,
           0.8,
           "sparse"
          ],
          [
           0.1,
           0.8,
           "sparse"
          ],
          [
           0.1,
           0.8,
           "sparse"
          ],
          [
           0.1,
           0.8,
           "sparse"
          ],
          [
           0.1,
           0.8,
           "sparse"
          ],
          [
           0.1,
           0.8,
           "sparse"
          ],
          [
           0.1,
           0.8,
           "sparse"
          ],
          [
           0.1,
           0.8,
           "sparse"
          ],
          [
           0.1,
           0.8,
           "sparse"
          ],
          [
           0.1,
           0.8,
           "sparse"
          ],
          [
           0.1,
           0.8,
           "sparse"
          ],
          [
           0.1,
           0.8,
           "sparse"
          ],
          [
           0.1,
           0.8,
           "sparse"
          ],
          [
           0.1,
           0.8,
           "dense"
          ],
          [
           0.1,
           0.8,
           "dense"
          ],
          [
           0.1,
           0.8,
           "dense"
          ],
          [
           0.1,
           0.8,
           "dense"
          ],
          [
           0.1,
           0.8,
           "dense"
          ],
          [
           0.1,
           0.8,
           "dense"
          ],
          [
           0.1,
           0.8,
           "dense"
          ],
          [
           0.1,
           0.8,
           "dense"
          ],
          [
           0.1,
           0.8,
           "dense"
          ],
          [
           0.1,
           0.8,
           "dense"
          ],
          [
           0.1,
           0.8,
           "dense"
          ],
          [
           0.1,
           0.8,
           "dense"
          ],
          [
           0.1,
           0.8,
           "dense"
          ],
          [
           0.1,
           0.8,
           "dense"
          ],
          [
           0.1,
           0.8,
           "dense"
          ],
          [
           0.1,
           0.8,
           "dense"
          ],
          [
           0.1,
           0.8,
           "dense"
          ],
          [
           0.1,
           0.8,
           "dense"
          ],
          [
           0.1,
           0.8,
           "dense"
          ],
          [
           0.1,
           0.8,
           "dense"
          ],
          [
           0.1,
           0.8,
           "sparse"
          ],
          [
           0.1,
           0.8,
           "sparse"
          ],
          [
           0.1,
           0.8,
           "sparse"
          ],
          [
           0.1,
           0.8,
           "sparse"
          ],
          [
           0.1,
           0.8,
           "sparse"
          ],
          [
           0.1,
           0.8,
           "sparse"
          ],
          [
           0.1,
           0.8,
           "sparse"
          ],
          [
           0.1,
           0.8,
           "sparse"
          ],
          [
           0.1,
           0.8,
           "sparse"
          ],
          [
           0.1,
           0.8,
           "sparse"
          ],
          [
           0.020000000000000004,
           0.8,
           "sparse"
          ],
          [
           0.020000000000000004,
           0.8,
           "sparse"
          ],
          [
           0.020000000000000004,
           0.8,
           "sparse"
          ],
          [
           0.020000000000000004,
           0.8,
           "sparse"
          ],
          [
           0.020000000000000004,
           0.8,
           "sparse"
          ],
          [
           0.020000000000000004,
           0.8,
           "sparse"
          ],
          [
           0.020000000000000004,
           0.8,
           "sparse"
          ],
          [
           0.020000000000000004,
           0.8,
           "sparse"
          ],
          [
           0.020000000000000004,
           0.8,
           "sparse"
          ],
          [
           0.020000000000000004,
           0.8,
           "sparse"
          ],
          [
           0.020000000000000004,
           0.8,
           "dense"
          ],
          [
           0.020000000000000004,
           0.8,
           "dense"
          ],
          [
           0.020000000000000004,
           0.8,
           "dense"
          ],
          [
           0.020000000000000004,
           0.8,
           "dense"
          ],
          [
           0.020000000000000004,
           0.8,
           "dense"
          ],
          [
           0.020000000000000004,
           0.8,
           "dense"
          ],
          [
           0.020000000000000004,
           0.8,
           "dense"
          ],
          [
           0.020000000000000004,
           0.8,
           "dense"
          ],
          [
           0.020000000000000004,
           0.8,
           "dense"
          ],
          [
           0.020000000000000004,
           0.8,
           "dense"
          ],
          [
           0.020000000000000004,
           0.8,
           "dense"
          ],
          [
           0.020000000000000004,
           0.8,
           "dense"
          ],
          [
           0.020000000000000004,
           0.8,
           "dense"
          ],
          [
           0.020000000000000004,
           0.8,
           "dense"
          ],
          [
           0.020000000000000004,
           0.8,
           "dense"
          ],
          [
           0.020000000000000004,
           0.8,
           "dense"
          ],
          [
           0.020000000000000004,
           0.8,
           "dense"
          ],
          [
           0.020000000000000004,
           0.8,
           "dense"
          ],
          [
           0.020000000000000004,
           0.8,
           "dense"
          ],
          [
           0.020000000000000004,
           0.8,
           "dense"
          ],
          [
           0.020000000000000004,
           0.8,
           "sparse"
          ],
          [
           0.020000000000000004,
           0.8,
           "sparse"
          ],
          [
           0.020000000000000004,
           0.8,
           "sparse"
          ],
          [
           0.020000000000000004,
           0.8,
           "sparse"
          ],
          [
           0.020000000000000004,
           0.8,
           "sparse"
          ],
          [
           0.020000000000000004,
           0.8,
           "sparse"
          ],
          [
           0.020000000000000004,
           0.8,
           "sparse"
          ],
          [
           0.020000000000000004,
           0.8,
           "sparse"
          ],
          [
           0.020000000000000004,
           0.8,
           "sparse"
          ],
          [
           0.020000000000000004,
           0.8,
           "sparse"
          ],
          [
           0.020000000000000004,
           0.8,
           "sparse"
          ],
          [
           0.020000000000000004,
           0.8,
           "sparse"
          ],
          [
           0.020000000000000004,
           0.8,
           "sparse"
          ],
          [
           0.020000000000000004,
           0.8,
           "sparse"
          ],
          [
           0.020000000000000004,
           0.8,
           "sparse"
          ],
          [
           0.020000000000000004,
           0.8,
           "sparse"
          ],
          [
           0.020000000000000004,
           0.8,
           "sparse"
          ],
          [
           0.020000000000000004,
           0.8,
           "sparse"
          ],
          [
           0.020000000000000004,
           0.8,
           "sparse"
          ],
          [
           0.020000000000000004,
           0.8,
           "sparse"
          ],
          [
           0.020000000000000004,
           0.8,
           "dense"
          ],
          [
           0.020000000000000004,
           0.8,
           "dense"
          ],
          [
           0.020000000000000004,
           0.8,
           "dense"
          ],
          [
           0.020000000000000004,
           0.8,
           "dense"
          ],
          [
           0.020000000000000004,
           0.8,
           "dense"
          ],
          [
           0.020000000000000004,
           0.8,
           "dense"
          ],
          [
           0.020000000000000004,
           0.8,
           "dense"
          ],
          [
           0.020000000000000004,
           0.8,
           "dense"
          ],
          [
           0.020000000000000004,
           0.8,
           "dense"
          ],
          [
           0.020000000000000004,
           0.8,
           "dense"
          ],
          [
           0.004000000000000001,
           0.8,
           "dense"
          ],
          [
           0.004000000000000001,
           0.8,
           "dense"
          ],
          [
           0.004000000000000001,
           0.8,
           "dense"
          ],
          [
           0.004000000000000001,
           0.8,
           "dense"
          ],
          [
           0.004000000000000001,
           0.8,
           "dense"
          ],
          [
           0.004000000000000001,
           0.8,
           "dense"
          ],
          [
           0.004000000000000001,
           0.8,
           "dense"
          ],
          [
           0.004000000000000001,
           0.8,
           "dense"
          ],
          [
           0.004000000000000001,
           0.8,
           "dense"
          ],
          [
           0.004000000000000001,
           0.8,
           "dense"
          ],
          [
           0.004000000000000001,
           0.8,
           "sparse"
          ],
          [
           0.004000000000000001,
           0.8,
           "sparse"
          ],
          [
           0.004000000000000001,
           0.8,
           "sparse"
          ],
          [
           0.004000000000000001,
           0.8,
           "sparse"
          ],
          [
           0.004000000000000001,
           0.8,
           "sparse"
          ],
          [
           0.004000000000000001,
           0.8,
           "sparse"
          ],
          [
           0.004000000000000001,
           0.8,
           "sparse"
          ],
          [
           0.004000000000000001,
           0.8,
           "sparse"
          ],
          [
           0.004000000000000001,
           0.8,
           "sparse"
          ],
          [
           0.004000000000000001,
           0.8,
           "sparse"
          ],
          [
           0.004000000000000001,
           0.8,
           "sparse"
          ],
          [
           0.004000000000000001,
           0.8,
           "sparse"
          ],
          [
           0.004000000000000001,
           0.8,
           "sparse"
          ],
          [
           0.004000000000000001,
           0.8,
           "sparse"
          ],
          [
           0.004000000000000001,
           0.8,
           "sparse"
          ],
          [
           0.004000000000000001,
           0.8,
           "sparse"
          ],
          [
           0.004000000000000001,
           0.8,
           "sparse"
          ],
          [
           0.004000000000000001,
           0.8,
           "sparse"
          ],
          [
           0.004000000000000001,
           0.8,
           "sparse"
          ],
          [
           0.004000000000000001,
           0.8,
           "sparse"
          ],
          [
           0.004000000000000001,
           0.8,
           "dense"
          ],
          [
           0.004000000000000001,
           0.8,
           "dense"
          ],
          [
           0.004000000000000001,
           0.8,
           "dense"
          ],
          [
           0.004000000000000001,
           0.8,
           "dense"
          ],
          [
           0.004000000000000001,
           0.8,
           "dense"
          ],
          [
           0.004000000000000001,
           0.8,
           "dense"
          ],
          [
           0.004000000000000001,
           0.8,
           "dense"
          ],
          [
           0.004000000000000001,
           0.8,
           "dense"
          ],
          [
           0.004000000000000001,
           0.8,
           "dense"
          ],
          [
           0.004000000000000001,
           0.8,
           "dense"
          ],
          [
           0.0008000000000000003,
           0.8,
           "dense"
          ],
          [
           0.0008000000000000003,
           0.8,
           "dense"
          ],
          [
           0.0008000000000000003,
           0.8,
           "dense"
          ],
          [
           0.0008000000000000003,
           0.8,
           "dense"
          ],
          [
           0.0008000000000000003,
           0.8,
           "dense"
          ],
          [
           0.0008000000000000003,
           0.8,
           "dense"
          ],
          [
           0.0008000000000000003,
           0.8,
           "dense"
          ],
          [
           0.0008000000000000003,
           0.8,
           "dense"
          ],
          [
           0.0008000000000000003,
           0.8,
           "dense"
          ],
          [
           0.0008000000000000003,
           0.8,
           "dense"
          ],
          [
           0.0008000000000000003,
           0.8,
           "sparse"
          ],
          [
           0.0008000000000000003,
           0.8,
           "sparse"
          ],
          [
           0.0008000000000000003,
           0.8,
           "sparse"
          ],
          [
           0.0008000000000000003,
           0.8,
           "sparse"
          ],
          [
           0.0008000000000000003,
           0.8,
           "sparse"
          ],
          [
           0.0008000000000000003,
           0.8,
           "sparse"
          ],
          [
           0.0008000000000000003,
           0.8,
           "sparse"
          ],
          [
           0.0008000000000000003,
           0.8,
           "sparse"
          ],
          [
           0.0008000000000000003,
           0.8,
           "sparse"
          ],
          [
           0.0008000000000000003,
           0.8,
           "sparse"
          ],
          [
           0.0008000000000000003,
           0.8,
           "sparse"
          ],
          [
           0.0008000000000000003,
           0.8,
           "sparse"
          ],
          [
           0.0008000000000000003,
           0.8,
           "sparse"
          ],
          [
           0.0008000000000000003,
           0.8,
           "sparse"
          ],
          [
           0.0008000000000000003,
           0.8,
           "sparse"
          ],
          [
           0.0008000000000000003,
           0.8,
           "sparse"
          ],
          [
           0.0008000000000000003,
           0.8,
           "sparse"
          ],
          [
           0.0008000000000000003,
           0.8,
           "sparse"
          ],
          [
           0.0008000000000000003,
           0.8,
           "sparse"
          ],
          [
           0.0008000000000000003,
           0.8,
           "sparse"
          ],
          [
           0.0008000000000000003,
           0.8,
           "sparse"
          ],
          [
           0.0008000000000000003,
           0.8,
           "sparse"
          ],
          [
           0.0008000000000000003,
           0.8,
           "sparse"
          ],
          [
           0.0008000000000000003,
           0.8,
           "sparse"
          ],
          [
           0.0008000000000000003,
           0.8,
           "sparse"
          ],
          [
           0.0008000000000000003,
           0.8,
           "sparse"
          ],
          [
           0.0008000000000000003,
           0.8,
           "sparse"
          ],
          [
           0.0008000000000000003,
           0.8,
           "sparse"
          ],
          [
           0.0008000000000000003,
           0.8,
           "sparse"
          ],
          [
           0.0008000000000000003,
           0.8,
           "sparse"
          ]
         ],
         "hovertemplate": "pruning_type=unstructured, L1 norm<br>epoch=%{x}<br>valid_accuracy=%{y}<br>learning_rate=%{customdata[0]}<br>final_sparsity_across_pruned_layers=%{customdata[1]}<br>phase=%{customdata[2]}<extra></extra>",
         "legendgroup": "unstructured, L1 norm",
         "line": {
          "color": "#6A5ACD",
          "dash": "solid"
         },
         "marker": {
          "symbol": "circle"
         },
         "mode": "lines",
         "name": "unstructured, L1 norm",
         "orientation": "v",
         "showlegend": true,
         "type": "scatter",
         "x": [
          1,
          2,
          3,
          4,
          5,
          6,
          7,
          8,
          9,
          10,
          11,
          12,
          13,
          14,
          15,
          16,
          17,
          18,
          19,
          20,
          21,
          22,
          23,
          24,
          25,
          26,
          27,
          28,
          29,
          30,
          31,
          32,
          33,
          34,
          35,
          36,
          37,
          38,
          39,
          40,
          41,
          42,
          43,
          44,
          45,
          46,
          47,
          48,
          49,
          50,
          51,
          52,
          53,
          54,
          55,
          56,
          57,
          58,
          59,
          60,
          61,
          62,
          63,
          64,
          65,
          66,
          67,
          68,
          69,
          70,
          71,
          72,
          73,
          74,
          75,
          76,
          77,
          78,
          79,
          80,
          81,
          82,
          83,
          84,
          85,
          86,
          87,
          88,
          89,
          90,
          91,
          92,
          93,
          94,
          95,
          96,
          97,
          98,
          99,
          100,
          101,
          102,
          103,
          104,
          105,
          106,
          107,
          108,
          109,
          110,
          111,
          112,
          113,
          114,
          115,
          116,
          117,
          118,
          119,
          120,
          121,
          122,
          123,
          124,
          125,
          126,
          127,
          128,
          129,
          130,
          131,
          132,
          133,
          134,
          135,
          136,
          137,
          138,
          139,
          140,
          141,
          142,
          143,
          144,
          145,
          146,
          147,
          148,
          149,
          150,
          151,
          152,
          153,
          154,
          155,
          156,
          157,
          158,
          159,
          160,
          161,
          162,
          163,
          164,
          165,
          166,
          167,
          168,
          169,
          170,
          171,
          172,
          173,
          174,
          175,
          176,
          177,
          178,
          179,
          180,
          181,
          182,
          183,
          184,
          185,
          186,
          187,
          188,
          189,
          190,
          191,
          192,
          193,
          194,
          195,
          196,
          197,
          198,
          199,
          200
         ],
         "xaxis": "x",
         "y": [
          13.430000305175781,
          24.440000534057617,
          27.56999969482422,
          30.850000381469727,
          38.11000061035156,
          43.220001220703125,
          45.40999984741211,
          46.060001373291016,
          45.18000030517578,
          45.939998626708984,
          53.459999084472656,
          51.220001220703125,
          55.97999954223633,
          51.09000015258789,
          54.369998931884766,
          57.22999954223633,
          56.119998931884766,
          56.7400016784668,
          56.720001220703125,
          58.290000915527344,
          56.40999984741211,
          57.900001525878906,
          59.06999969482422,
          57.83000183105469,
          55.040000915527344,
          59.720001220703125,
          55.5099983215332,
          59.02000045776367,
          59.0099983215332,
          60.79999923706055,
          52.029998779296875,
          53.09000015258789,
          57.599998474121094,
          57.16999816894531,
          56.7599983215332,
          57.27000045776367,
          56.7599983215332,
          59.540000915527344,
          58.5099983215332,
          56.970001220703125,
          61.040000915527344,
          58.16999816894531,
          58.720001220703125,
          59.599998474121094,
          58.08000183105469,
          56.7599983215332,
          59.400001525878906,
          59.70000076293945,
          58.150001525878906,
          58.04999923706055,
          65.27999877929688,
          58.47999954223633,
          63.66999816894531,
          63.59000015258789,
          61.63999938964844,
          62.060001373291016,
          60.84000015258789,
          64.44999694824219,
          60.290000915527344,
          59.5099983215332,
          78.29000091552734,
          78.69999694824219,
          78.44000244140625,
          78,
          77.87999725341797,
          77.75,
          77.13999938964844,
          76.16000366210938,
          75.83999633789062,
          75.69999694824219,
          68.88999938964844,
          72.80000305175781,
          68.86000061035156,
          72.08999633789062,
          71.27999877929688,
          72.2699966430664,
          71.83999633789062,
          70.55999755859375,
          72.25,
          70.44000244140625,
          71.23999786376953,
          71.55000305175781,
          70.62000274658203,
          71.30000305175781,
          70.37000274658203,
          70.44999694824219,
          71.19999694824219,
          69.55999755859375,
          73.41999816894531,
          70.16999816894531,
          76.4800033569336,
          77.95999908447266,
          77.30999755859375,
          77.38999938964844,
          77.41999816894531,
          77.27999877929688,
          74.87000274658203,
          73.33000183105469,
          72.95999908447266,
          69.51000213623047,
          71.30000305175781,
          71.0999984741211,
          71.69000244140625,
          72.56999969482422,
          71.52999877929688,
          71.91000366210938,
          72.29000091552734,
          72.30999755859375,
          72.62000274658203,
          73.45999908447266,
          64.22000122070312,
          65.83000183105469,
          65.19000244140625,
          69.30000305175781,
          69.43000030517578,
          70.16000366210938,
          70.1500015258789,
          71.83000183105469,
          69.27999877929688,
          70.02999877929688,
          78.61000061035156,
          79.0999984741211,
          79.43000030517578,
          79.62999725341797,
          79.30000305175781,
          79.83999633789062,
          79.88999938964844,
          79.58999633789062,
          79.91000366210938,
          79.55000305175781,
          79.91999816894531,
          79.87999725341797,
          80.05999755859375,
          79.86000061035156,
          80.0199966430664,
          79.8499984741211,
          80,
          80,
          80.06999969482422,
          80.29000091552734,
          79.83000183105469,
          79.86000061035156,
          79.8499984741211,
          80.41000366210938,
          80.22000122070312,
          79.83999633789062,
          80.05000305175781,
          80.05000305175781,
          79.97000122070312,
          80,
          80.31999969482422,
          80.1500015258789,
          80.19999694824219,
          80.2699966430664,
          80.37000274658203,
          80.41000366210938,
          80.4800033569336,
          80.18000030517578,
          80.29000091552734,
          80.2300033569336,
          80.48999786376953,
          80.19999694824219,
          80.08000183105469,
          80.45999908447266,
          80.44000244140625,
          80.69000244140625,
          80.5,
          80.69999694824219,
          80.08999633789062,
          80.29000091552734,
          80.19999694824219,
          80.16999816894531,
          80.41000366210938,
          80.18000030517578,
          80.41000366210938,
          80.31999969482422,
          80.62999725341797,
          80.58000183105469,
          80.31999969482422,
          80.33000183105469,
          80.2300033569336,
          80.11000061035156,
          80.55999755859375,
          80.43000030517578,
          80.37000274658203,
          80.56999969482422,
          80.30000305175781,
          80.52999877929688,
          80.4000015258789,
          80.33000183105469,
          80.52999877929688,
          80.51000213623047,
          80.33999633789062,
          80.19000244140625,
          80.55000305175781,
          80.61000061035156,
          80.27999877929688,
          80.41999816894531,
          80.19999694824219,
          80.25
         ],
         "yaxis": "y"
        },
        {
         "customdata": [
          [
           0.1,
           0.8,
           "dense"
          ],
          [
           0.1,
           0.8,
           "dense"
          ],
          [
           0.1,
           0.8,
           "dense"
          ],
          [
           0.1,
           0.8,
           "dense"
          ],
          [
           0.1,
           0.8,
           "dense"
          ],
          [
           0.1,
           0.8,
           "dense"
          ],
          [
           0.1,
           0.8,
           "dense"
          ],
          [
           0.1,
           0.8,
           "dense"
          ],
          [
           0.1,
           0.8,
           "dense"
          ],
          [
           0.1,
           0.8,
           "dense"
          ],
          [
           0.1,
           0.8,
           "sparse"
          ],
          [
           0.1,
           0.8,
           "sparse"
          ],
          [
           0.1,
           0.8,
           "sparse"
          ],
          [
           0.1,
           0.8,
           "sparse"
          ],
          [
           0.1,
           0.8,
           "sparse"
          ],
          [
           0.1,
           0.8,
           "sparse"
          ],
          [
           0.1,
           0.8,
           "sparse"
          ],
          [
           0.1,
           0.8,
           "sparse"
          ],
          [
           0.1,
           0.8,
           "sparse"
          ],
          [
           0.1,
           0.8,
           "sparse"
          ],
          [
           0.1,
           0.8,
           "sparse"
          ],
          [
           0.1,
           0.8,
           "sparse"
          ],
          [
           0.1,
           0.8,
           "sparse"
          ],
          [
           0.1,
           0.8,
           "sparse"
          ],
          [
           0.1,
           0.8,
           "sparse"
          ],
          [
           0.1,
           0.8,
           "sparse"
          ],
          [
           0.1,
           0.8,
           "sparse"
          ],
          [
           0.1,
           0.8,
           "sparse"
          ],
          [
           0.1,
           0.8,
           "sparse"
          ],
          [
           0.1,
           0.8,
           "sparse"
          ],
          [
           0.1,
           0.8,
           "dense"
          ],
          [
           0.1,
           0.8,
           "dense"
          ],
          [
           0.1,
           0.8,
           "dense"
          ],
          [
           0.1,
           0.8,
           "dense"
          ],
          [
           0.1,
           0.8,
           "dense"
          ],
          [
           0.1,
           0.8,
           "dense"
          ],
          [
           0.1,
           0.8,
           "dense"
          ],
          [
           0.1,
           0.8,
           "dense"
          ],
          [
           0.1,
           0.8,
           "dense"
          ],
          [
           0.1,
           0.8,
           "dense"
          ],
          [
           0.1,
           0.8,
           "dense"
          ],
          [
           0.1,
           0.8,
           "dense"
          ],
          [
           0.1,
           0.8,
           "dense"
          ],
          [
           0.1,
           0.8,
           "dense"
          ],
          [
           0.1,
           0.8,
           "dense"
          ],
          [
           0.1,
           0.8,
           "dense"
          ],
          [
           0.1,
           0.8,
           "dense"
          ],
          [
           0.1,
           0.8,
           "dense"
          ],
          [
           0.1,
           0.8,
           "dense"
          ],
          [
           0.1,
           0.8,
           "dense"
          ],
          [
           0.1,
           0.8,
           "sparse"
          ],
          [
           0.1,
           0.8,
           "sparse"
          ],
          [
           0.1,
           0.8,
           "sparse"
          ],
          [
           0.1,
           0.8,
           "sparse"
          ],
          [
           0.1,
           0.8,
           "sparse"
          ],
          [
           0.1,
           0.8,
           "sparse"
          ],
          [
           0.1,
           0.8,
           "sparse"
          ],
          [
           0.1,
           0.8,
           "sparse"
          ],
          [
           0.1,
           0.8,
           "sparse"
          ],
          [
           0.1,
           0.8,
           "sparse"
          ],
          [
           0.020000000000000004,
           0.8,
           "sparse"
          ],
          [
           0.020000000000000004,
           0.8,
           "sparse"
          ],
          [
           0.020000000000000004,
           0.8,
           "sparse"
          ],
          [
           0.020000000000000004,
           0.8,
           "sparse"
          ],
          [
           0.020000000000000004,
           0.8,
           "sparse"
          ],
          [
           0.020000000000000004,
           0.8,
           "sparse"
          ],
          [
           0.020000000000000004,
           0.8,
           "sparse"
          ],
          [
           0.020000000000000004,
           0.8,
           "sparse"
          ],
          [
           0.020000000000000004,
           0.8,
           "sparse"
          ],
          [
           0.020000000000000004,
           0.8,
           "sparse"
          ],
          [
           0.020000000000000004,
           0.8,
           "dense"
          ],
          [
           0.020000000000000004,
           0.8,
           "dense"
          ],
          [
           0.020000000000000004,
           0.8,
           "dense"
          ],
          [
           0.020000000000000004,
           0.8,
           "dense"
          ],
          [
           0.020000000000000004,
           0.8,
           "dense"
          ],
          [
           0.020000000000000004,
           0.8,
           "dense"
          ],
          [
           0.020000000000000004,
           0.8,
           "dense"
          ],
          [
           0.020000000000000004,
           0.8,
           "dense"
          ],
          [
           0.020000000000000004,
           0.8,
           "dense"
          ],
          [
           0.020000000000000004,
           0.8,
           "dense"
          ],
          [
           0.020000000000000004,
           0.8,
           "dense"
          ],
          [
           0.020000000000000004,
           0.8,
           "dense"
          ],
          [
           0.020000000000000004,
           0.8,
           "dense"
          ],
          [
           0.020000000000000004,
           0.8,
           "dense"
          ],
          [
           0.020000000000000004,
           0.8,
           "dense"
          ],
          [
           0.020000000000000004,
           0.8,
           "dense"
          ],
          [
           0.020000000000000004,
           0.8,
           "dense"
          ],
          [
           0.020000000000000004,
           0.8,
           "dense"
          ],
          [
           0.020000000000000004,
           0.8,
           "dense"
          ],
          [
           0.020000000000000004,
           0.8,
           "dense"
          ],
          [
           0.020000000000000004,
           0.8,
           "sparse"
          ],
          [
           0.020000000000000004,
           0.8,
           "sparse"
          ],
          [
           0.020000000000000004,
           0.8,
           "sparse"
          ],
          [
           0.020000000000000004,
           0.8,
           "sparse"
          ],
          [
           0.020000000000000004,
           0.8,
           "sparse"
          ],
          [
           0.020000000000000004,
           0.8,
           "sparse"
          ],
          [
           0.020000000000000004,
           0.8,
           "sparse"
          ],
          [
           0.020000000000000004,
           0.8,
           "sparse"
          ],
          [
           0.020000000000000004,
           0.8,
           "sparse"
          ],
          [
           0.020000000000000004,
           0.8,
           "sparse"
          ],
          [
           0.020000000000000004,
           0.8,
           "sparse"
          ],
          [
           0.020000000000000004,
           0.8,
           "sparse"
          ],
          [
           0.020000000000000004,
           0.8,
           "sparse"
          ],
          [
           0.020000000000000004,
           0.8,
           "sparse"
          ],
          [
           0.020000000000000004,
           0.8,
           "sparse"
          ],
          [
           0.020000000000000004,
           0.8,
           "sparse"
          ],
          [
           0.020000000000000004,
           0.8,
           "sparse"
          ],
          [
           0.020000000000000004,
           0.8,
           "sparse"
          ],
          [
           0.020000000000000004,
           0.8,
           "sparse"
          ],
          [
           0.020000000000000004,
           0.8,
           "sparse"
          ],
          [
           0.020000000000000004,
           0.8,
           "dense"
          ],
          [
           0.020000000000000004,
           0.8,
           "dense"
          ],
          [
           0.020000000000000004,
           0.8,
           "dense"
          ],
          [
           0.020000000000000004,
           0.8,
           "dense"
          ],
          [
           0.020000000000000004,
           0.8,
           "dense"
          ],
          [
           0.020000000000000004,
           0.8,
           "dense"
          ],
          [
           0.020000000000000004,
           0.8,
           "dense"
          ],
          [
           0.020000000000000004,
           0.8,
           "dense"
          ],
          [
           0.020000000000000004,
           0.8,
           "dense"
          ],
          [
           0.020000000000000004,
           0.8,
           "dense"
          ],
          [
           0.004000000000000001,
           0.8,
           "dense"
          ],
          [
           0.004000000000000001,
           0.8,
           "dense"
          ],
          [
           0.004000000000000001,
           0.8,
           "dense"
          ],
          [
           0.004000000000000001,
           0.8,
           "dense"
          ],
          [
           0.004000000000000001,
           0.8,
           "dense"
          ],
          [
           0.004000000000000001,
           0.8,
           "dense"
          ],
          [
           0.004000000000000001,
           0.8,
           "dense"
          ],
          [
           0.004000000000000001,
           0.8,
           "dense"
          ],
          [
           0.004000000000000001,
           0.8,
           "dense"
          ],
          [
           0.004000000000000001,
           0.8,
           "dense"
          ],
          [
           0.004000000000000001,
           0.8,
           "sparse"
          ],
          [
           0.004000000000000001,
           0.8,
           "sparse"
          ],
          [
           0.004000000000000001,
           0.8,
           "sparse"
          ],
          [
           0.004000000000000001,
           0.8,
           "sparse"
          ],
          [
           0.004000000000000001,
           0.8,
           "sparse"
          ],
          [
           0.004000000000000001,
           0.8,
           "sparse"
          ],
          [
           0.004000000000000001,
           0.8,
           "sparse"
          ],
          [
           0.004000000000000001,
           0.8,
           "sparse"
          ],
          [
           0.004000000000000001,
           0.8,
           "sparse"
          ],
          [
           0.004000000000000001,
           0.8,
           "sparse"
          ],
          [
           0.004000000000000001,
           0.8,
           "sparse"
          ],
          [
           0.004000000000000001,
           0.8,
           "sparse"
          ],
          [
           0.004000000000000001,
           0.8,
           "sparse"
          ],
          [
           0.004000000000000001,
           0.8,
           "sparse"
          ],
          [
           0.004000000000000001,
           0.8,
           "sparse"
          ],
          [
           0.004000000000000001,
           0.8,
           "sparse"
          ],
          [
           0.004000000000000001,
           0.8,
           "sparse"
          ],
          [
           0.004000000000000001,
           0.8,
           "sparse"
          ],
          [
           0.004000000000000001,
           0.8,
           "sparse"
          ],
          [
           0.004000000000000001,
           0.8,
           "sparse"
          ],
          [
           0.004000000000000001,
           0.8,
           "dense"
          ],
          [
           0.004000000000000001,
           0.8,
           "dense"
          ],
          [
           0.004000000000000001,
           0.8,
           "dense"
          ],
          [
           0.004000000000000001,
           0.8,
           "dense"
          ],
          [
           0.004000000000000001,
           0.8,
           "dense"
          ],
          [
           0.004000000000000001,
           0.8,
           "dense"
          ],
          [
           0.004000000000000001,
           0.8,
           "dense"
          ],
          [
           0.004000000000000001,
           0.8,
           "dense"
          ],
          [
           0.004000000000000001,
           0.8,
           "dense"
          ],
          [
           0.004000000000000001,
           0.8,
           "dense"
          ],
          [
           0.0008000000000000003,
           0.8,
           "dense"
          ],
          [
           0.0008000000000000003,
           0.8,
           "dense"
          ],
          [
           0.0008000000000000003,
           0.8,
           "dense"
          ],
          [
           0.0008000000000000003,
           0.8,
           "dense"
          ],
          [
           0.0008000000000000003,
           0.8,
           "dense"
          ],
          [
           0.0008000000000000003,
           0.8,
           "dense"
          ],
          [
           0.0008000000000000003,
           0.8,
           "dense"
          ],
          [
           0.0008000000000000003,
           0.8,
           "dense"
          ],
          [
           0.0008000000000000003,
           0.8,
           "dense"
          ],
          [
           0.0008000000000000003,
           0.8,
           "dense"
          ],
          [
           0.0008000000000000003,
           0.8,
           "sparse"
          ],
          [
           0.0008000000000000003,
           0.8,
           "sparse"
          ],
          [
           0.0008000000000000003,
           0.8,
           "sparse"
          ],
          [
           0.0008000000000000003,
           0.8,
           "sparse"
          ],
          [
           0.0008000000000000003,
           0.8,
           "sparse"
          ],
          [
           0.0008000000000000003,
           0.8,
           "sparse"
          ],
          [
           0.0008000000000000003,
           0.8,
           "sparse"
          ],
          [
           0.0008000000000000003,
           0.8,
           "sparse"
          ],
          [
           0.0008000000000000003,
           0.8,
           "sparse"
          ],
          [
           0.0008000000000000003,
           0.8,
           "sparse"
          ],
          [
           0.0008000000000000003,
           0.8,
           "sparse"
          ],
          [
           0.0008000000000000003,
           0.8,
           "sparse"
          ],
          [
           0.0008000000000000003,
           0.8,
           "sparse"
          ],
          [
           0.0008000000000000003,
           0.8,
           "sparse"
          ],
          [
           0.0008000000000000003,
           0.8,
           "sparse"
          ],
          [
           0.0008000000000000003,
           0.8,
           "sparse"
          ],
          [
           0.0008000000000000003,
           0.8,
           "sparse"
          ],
          [
           0.0008000000000000003,
           0.8,
           "sparse"
          ],
          [
           0.0008000000000000003,
           0.8,
           "sparse"
          ],
          [
           0.0008000000000000003,
           0.8,
           "sparse"
          ],
          [
           0.0008000000000000003,
           0.8,
           "sparse"
          ],
          [
           0.0008000000000000003,
           0.8,
           "sparse"
          ],
          [
           0.0008000000000000003,
           0.8,
           "sparse"
          ],
          [
           0.0008000000000000003,
           0.8,
           "sparse"
          ],
          [
           0.0008000000000000003,
           0.8,
           "sparse"
          ],
          [
           0.0008000000000000003,
           0.8,
           "sparse"
          ],
          [
           0.0008000000000000003,
           0.8,
           "sparse"
          ],
          [
           0.0008000000000000003,
           0.8,
           "sparse"
          ],
          [
           0.0008000000000000003,
           0.8,
           "sparse"
          ],
          [
           0.0008000000000000003,
           0.8,
           "sparse"
          ]
         ],
         "hovertemplate": "pruning_type=block, L1 norm<br>epoch=%{x}<br>valid_accuracy=%{y}<br>learning_rate=%{customdata[0]}<br>final_sparsity_across_pruned_layers=%{customdata[1]}<br>phase=%{customdata[2]}<extra></extra>",
         "legendgroup": "block, L1 norm",
         "line": {
          "color": "#E71D36",
          "dash": "solid"
         },
         "marker": {
          "symbol": "circle"
         },
         "mode": "lines",
         "name": "block, L1 norm",
         "orientation": "v",
         "showlegend": true,
         "type": "scatter",
         "x": [
          1,
          2,
          3,
          4,
          5,
          6,
          7,
          8,
          9,
          10,
          11,
          12,
          13,
          14,
          15,
          16,
          17,
          18,
          19,
          20,
          21,
          22,
          23,
          24,
          25,
          26,
          27,
          28,
          29,
          30,
          31,
          32,
          33,
          34,
          35,
          36,
          37,
          38,
          39,
          40,
          41,
          42,
          43,
          44,
          45,
          46,
          47,
          48,
          49,
          50,
          51,
          52,
          53,
          54,
          55,
          56,
          57,
          58,
          59,
          60,
          61,
          62,
          63,
          64,
          65,
          66,
          67,
          68,
          69,
          70,
          71,
          72,
          73,
          74,
          75,
          76,
          77,
          78,
          79,
          80,
          81,
          82,
          83,
          84,
          85,
          86,
          87,
          88,
          89,
          90,
          91,
          92,
          93,
          94,
          95,
          96,
          97,
          98,
          99,
          100,
          101,
          102,
          103,
          104,
          105,
          106,
          107,
          108,
          109,
          110,
          111,
          112,
          113,
          114,
          115,
          116,
          117,
          118,
          119,
          120,
          121,
          122,
          123,
          124,
          125,
          126,
          127,
          128,
          129,
          130,
          131,
          132,
          133,
          134,
          135,
          136,
          137,
          138,
          139,
          140,
          141,
          142,
          143,
          144,
          145,
          146,
          147,
          148,
          149,
          150,
          151,
          152,
          153,
          154,
          155,
          156,
          157,
          158,
          159,
          160,
          161,
          162,
          163,
          164,
          165,
          166,
          167,
          168,
          169,
          170,
          171,
          172,
          173,
          174,
          175,
          176,
          177,
          178,
          179,
          180,
          181,
          182,
          183,
          184,
          185,
          186,
          187,
          188,
          189,
          190,
          191,
          192,
          193,
          194,
          195,
          196,
          197,
          198,
          199,
          200
         ],
         "xaxis": "x",
         "y": [
          13.449999809265137,
          23.059999465942383,
          27.850000381469727,
          34.9900016784668,
          38.099998474121094,
          43.93000030517578,
          44.130001068115234,
          47.38999938964844,
          44.279998779296875,
          48.470001220703125,
          43.029998779296875,
          48.97999954223633,
          46.810001373291016,
          49.459999084472656,
          48.84000015258789,
          53.13999938964844,
          51.040000915527344,
          54.54999923706055,
          52.88999938964844,
          55.58000183105469,
          55.22999954223633,
          49.5099983215332,
          56.5099983215332,
          51.33000183105469,
          53.900001525878906,
          57.25,
          59.130001068115234,
          56.34000015258789,
          56.779998779296875,
          56.810001373291016,
          55,
          53.9900016784668,
          55.31999969482422,
          54.380001068115234,
          55.849998474121094,
          56.58000183105469,
          57.25,
          57.150001525878906,
          57.849998474121094,
          56.630001068115234,
          59.43000030517578,
          54.95000076293945,
          59.04999923706055,
          58.349998474121094,
          59.880001068115234,
          57.130001068115234,
          56.56999969482422,
          54.90999984741211,
          54.310001373291016,
          56.15999984741211,
          56.36000061035156,
          55.77000045776367,
          55.58000183105469,
          55.400001525878906,
          56.83000183105469,
          57.90999984741211,
          49.70000076293945,
          56.349998474121094,
          56.61000061035156,
          57.83000183105469,
          74.18000030517578,
          75.2300033569336,
          74.58000183105469,
          74.31999969482422,
          74.33000183105469,
          73.83000183105469,
          73.5,
          72.62999725341797,
          71.12000274658203,
          71.47000122070312,
          69.80999755859375,
          69.66000366210938,
          69.9800033569336,
          69.79000091552734,
          69.80999755859375,
          70.79000091552734,
          70.43000030517578,
          69,
          69.94000244140625,
          68.95999908447266,
          70.4000015258789,
          68.06999969482422,
          68.94999694824219,
          67.05000305175781,
          68.7699966430664,
          68.62999725341797,
          67.43000030517578,
          68.47000122070312,
          68.51000213623047,
          68.4800033569336,
          70.58999633789062,
          68.7699966430664,
          68.01000213623047,
          66.08000183105469,
          67.37000274658203,
          66.91000366210938,
          68.36000061035156,
          68.9800033569336,
          69.0999984741211,
          66.1500015258789,
          67.44999694824219,
          68.66000366210938,
          68.37999725341797,
          65.55999755859375,
          68.29000091552734,
          69.22000122070312,
          68.83000183105469,
          67.08999633789062,
          68.69999694824219,
          67.04000091552734,
          64.30000305175781,
          66.30000305175781,
          66.76000213623047,
          67.52999877929688,
          67.05999755859375,
          67.47000122070312,
          69.58000183105469,
          68.7300033569336,
          66.63999938964844,
          68.05999755859375,
          76.87000274658203,
          76.9000015258789,
          77.12999725341797,
          77.11000061035156,
          77.58999633789062,
          77.38999938964844,
          77.66000366210938,
          77.30000305175781,
          77.69000244140625,
          77.16000366210938,
          77.41999816894531,
          77.37000274658203,
          77.5999984741211,
          77.7699966430664,
          77.6500015258789,
          77.44999694824219,
          77.0999984741211,
          77.30999755859375,
          77.55999755859375,
          77.38999938964844,
          77.54000091552734,
          77.61000061035156,
          77.37999725341797,
          77.62000274658203,
          77.4000015258789,
          77.13999938964844,
          77.30000305175781,
          77.5999984741211,
          77.22000122070312,
          77.11000061035156,
          77.38999938964844,
          77.5199966430664,
          77.16999816894531,
          77.79000091552734,
          77.75,
          77.2300033569336,
          77.44000244140625,
          77.41000366210938,
          77.06999969482422,
          77.19999694824219,
          77.54000091552734,
          77.31999969482422,
          77.01000213623047,
          77.44999694824219,
          77.62999725341797,
          77.62999725341797,
          77.23999786376953,
          77.37999725341797,
          77.44000244140625,
          77.7300033569336,
          77.41000366210938,
          77.73999786376953,
          77.33000183105469,
          77.48999786376953,
          77.73999786376953,
          77.48999786376953,
          77.7699966430664,
          77.83000183105469,
          77.37999725341797,
          77.5,
          77.66999816894531,
          77.52999877929688,
          77.55999755859375,
          77.66999816894531,
          77.77999877929688,
          77.41000366210938,
          77.56999969482422,
          77.6500015258789,
          77.62000274658203,
          77.5,
          77.55000305175781,
          77.51000213623047,
          77.41999816894531,
          77.63999938964844,
          77.77999877929688,
          77.62000274658203,
          77.58000183105469,
          77.55999755859375,
          77.37000274658203,
          77.5
         ],
         "yaxis": "y"
        },
        {
         "customdata": [
          [
           0.1,
           0.8,
           "dense"
          ],
          [
           0.1,
           0.8,
           "dense"
          ],
          [
           0.1,
           0.8,
           "dense"
          ],
          [
           0.1,
           0.8,
           "dense"
          ],
          [
           0.1,
           0.8,
           "dense"
          ],
          [
           0.1,
           0.8,
           "dense"
          ],
          [
           0.1,
           0.8,
           "dense"
          ],
          [
           0.1,
           0.8,
           "dense"
          ],
          [
           0.1,
           0.8,
           "dense"
          ],
          [
           0.1,
           0.8,
           "dense"
          ],
          [
           0.1,
           0.8,
           "sparse"
          ],
          [
           0.1,
           0.8,
           "sparse"
          ],
          [
           0.1,
           0.8,
           "sparse"
          ],
          [
           0.1,
           0.8,
           "sparse"
          ],
          [
           0.1,
           0.8,
           "sparse"
          ],
          [
           0.1,
           0.8,
           "sparse"
          ],
          [
           0.1,
           0.8,
           "sparse"
          ],
          [
           0.1,
           0.8,
           "sparse"
          ],
          [
           0.1,
           0.8,
           "sparse"
          ],
          [
           0.1,
           0.8,
           "sparse"
          ],
          [
           0.1,
           0.8,
           "sparse"
          ],
          [
           0.1,
           0.8,
           "sparse"
          ],
          [
           0.1,
           0.8,
           "sparse"
          ],
          [
           0.1,
           0.8,
           "sparse"
          ],
          [
           0.1,
           0.8,
           "sparse"
          ],
          [
           0.1,
           0.8,
           "sparse"
          ],
          [
           0.1,
           0.8,
           "sparse"
          ],
          [
           0.1,
           0.8,
           "sparse"
          ],
          [
           0.1,
           0.8,
           "sparse"
          ],
          [
           0.1,
           0.8,
           "sparse"
          ],
          [
           0.1,
           0.8,
           "dense"
          ],
          [
           0.1,
           0.8,
           "dense"
          ],
          [
           0.1,
           0.8,
           "dense"
          ],
          [
           0.1,
           0.8,
           "dense"
          ],
          [
           0.1,
           0.8,
           "dense"
          ],
          [
           0.1,
           0.8,
           "dense"
          ],
          [
           0.1,
           0.8,
           "dense"
          ],
          [
           0.1,
           0.8,
           "dense"
          ],
          [
           0.1,
           0.8,
           "dense"
          ],
          [
           0.1,
           0.8,
           "dense"
          ],
          [
           0.1,
           0.8,
           "dense"
          ],
          [
           0.1,
           0.8,
           "dense"
          ],
          [
           0.1,
           0.8,
           "dense"
          ],
          [
           0.1,
           0.8,
           "dense"
          ],
          [
           0.1,
           0.8,
           "dense"
          ],
          [
           0.1,
           0.8,
           "dense"
          ],
          [
           0.1,
           0.8,
           "dense"
          ],
          [
           0.1,
           0.8,
           "dense"
          ],
          [
           0.1,
           0.8,
           "dense"
          ],
          [
           0.1,
           0.8,
           "dense"
          ],
          [
           0.1,
           0.8,
           "sparse"
          ],
          [
           0.1,
           0.8,
           "sparse"
          ],
          [
           0.1,
           0.8,
           "sparse"
          ],
          [
           0.1,
           0.8,
           "sparse"
          ],
          [
           0.1,
           0.8,
           "sparse"
          ],
          [
           0.1,
           0.8,
           "sparse"
          ],
          [
           0.1,
           0.8,
           "sparse"
          ],
          [
           0.1,
           0.8,
           "sparse"
          ],
          [
           0.1,
           0.8,
           "sparse"
          ],
          [
           0.1,
           0.8,
           "sparse"
          ],
          [
           0.020000000000000004,
           0.8,
           "sparse"
          ],
          [
           0.020000000000000004,
           0.8,
           "sparse"
          ],
          [
           0.020000000000000004,
           0.8,
           "sparse"
          ],
          [
           0.020000000000000004,
           0.8,
           "sparse"
          ],
          [
           0.020000000000000004,
           0.8,
           "sparse"
          ],
          [
           0.020000000000000004,
           0.8,
           "sparse"
          ],
          [
           0.020000000000000004,
           0.8,
           "sparse"
          ],
          [
           0.020000000000000004,
           0.8,
           "sparse"
          ],
          [
           0.020000000000000004,
           0.8,
           "sparse"
          ],
          [
           0.020000000000000004,
           0.8,
           "sparse"
          ],
          [
           0.020000000000000004,
           0.8,
           "dense"
          ],
          [
           0.020000000000000004,
           0.8,
           "dense"
          ],
          [
           0.020000000000000004,
           0.8,
           "dense"
          ],
          [
           0.020000000000000004,
           0.8,
           "dense"
          ],
          [
           0.020000000000000004,
           0.8,
           "dense"
          ],
          [
           0.020000000000000004,
           0.8,
           "dense"
          ],
          [
           0.020000000000000004,
           0.8,
           "dense"
          ],
          [
           0.020000000000000004,
           0.8,
           "dense"
          ],
          [
           0.020000000000000004,
           0.8,
           "dense"
          ],
          [
           0.020000000000000004,
           0.8,
           "dense"
          ],
          [
           0.020000000000000004,
           0.8,
           "dense"
          ],
          [
           0.020000000000000004,
           0.8,
           "dense"
          ],
          [
           0.020000000000000004,
           0.8,
           "dense"
          ],
          [
           0.020000000000000004,
           0.8,
           "dense"
          ],
          [
           0.020000000000000004,
           0.8,
           "dense"
          ],
          [
           0.020000000000000004,
           0.8,
           "dense"
          ],
          [
           0.020000000000000004,
           0.8,
           "dense"
          ],
          [
           0.020000000000000004,
           0.8,
           "dense"
          ],
          [
           0.020000000000000004,
           0.8,
           "dense"
          ],
          [
           0.020000000000000004,
           0.8,
           "dense"
          ],
          [
           0.020000000000000004,
           0.8,
           "sparse"
          ],
          [
           0.020000000000000004,
           0.8,
           "sparse"
          ],
          [
           0.020000000000000004,
           0.8,
           "sparse"
          ],
          [
           0.020000000000000004,
           0.8,
           "sparse"
          ],
          [
           0.020000000000000004,
           0.8,
           "sparse"
          ],
          [
           0.020000000000000004,
           0.8,
           "sparse"
          ],
          [
           0.020000000000000004,
           0.8,
           "sparse"
          ],
          [
           0.020000000000000004,
           0.8,
           "sparse"
          ],
          [
           0.020000000000000004,
           0.8,
           "sparse"
          ],
          [
           0.020000000000000004,
           0.8,
           "sparse"
          ],
          [
           0.020000000000000004,
           0.8,
           "sparse"
          ],
          [
           0.020000000000000004,
           0.8,
           "sparse"
          ],
          [
           0.020000000000000004,
           0.8,
           "sparse"
          ],
          [
           0.020000000000000004,
           0.8,
           "sparse"
          ],
          [
           0.020000000000000004,
           0.8,
           "sparse"
          ],
          [
           0.020000000000000004,
           0.8,
           "sparse"
          ],
          [
           0.020000000000000004,
           0.8,
           "sparse"
          ],
          [
           0.020000000000000004,
           0.8,
           "sparse"
          ],
          [
           0.020000000000000004,
           0.8,
           "sparse"
          ],
          [
           0.020000000000000004,
           0.8,
           "sparse"
          ],
          [
           0.020000000000000004,
           0.8,
           "dense"
          ],
          [
           0.020000000000000004,
           0.8,
           "dense"
          ],
          [
           0.020000000000000004,
           0.8,
           "dense"
          ],
          [
           0.020000000000000004,
           0.8,
           "dense"
          ],
          [
           0.020000000000000004,
           0.8,
           "dense"
          ],
          [
           0.020000000000000004,
           0.8,
           "dense"
          ],
          [
           0.020000000000000004,
           0.8,
           "dense"
          ],
          [
           0.020000000000000004,
           0.8,
           "dense"
          ],
          [
           0.020000000000000004,
           0.8,
           "dense"
          ],
          [
           0.020000000000000004,
           0.8,
           "dense"
          ],
          [
           0.004000000000000001,
           0.8,
           "dense"
          ],
          [
           0.004000000000000001,
           0.8,
           "dense"
          ],
          [
           0.004000000000000001,
           0.8,
           "dense"
          ],
          [
           0.004000000000000001,
           0.8,
           "dense"
          ],
          [
           0.004000000000000001,
           0.8,
           "dense"
          ],
          [
           0.004000000000000001,
           0.8,
           "dense"
          ],
          [
           0.004000000000000001,
           0.8,
           "dense"
          ],
          [
           0.004000000000000001,
           0.8,
           "dense"
          ],
          [
           0.004000000000000001,
           0.8,
           "dense"
          ],
          [
           0.004000000000000001,
           0.8,
           "dense"
          ],
          [
           0.004000000000000001,
           0.8,
           "sparse"
          ],
          [
           0.004000000000000001,
           0.8,
           "sparse"
          ],
          [
           0.004000000000000001,
           0.8,
           "sparse"
          ],
          [
           0.004000000000000001,
           0.8,
           "sparse"
          ],
          [
           0.004000000000000001,
           0.8,
           "sparse"
          ],
          [
           0.004000000000000001,
           0.8,
           "sparse"
          ],
          [
           0.004000000000000001,
           0.8,
           "sparse"
          ],
          [
           0.004000000000000001,
           0.8,
           "sparse"
          ],
          [
           0.004000000000000001,
           0.8,
           "sparse"
          ],
          [
           0.004000000000000001,
           0.8,
           "sparse"
          ],
          [
           0.004000000000000001,
           0.8,
           "sparse"
          ],
          [
           0.004000000000000001,
           0.8,
           "sparse"
          ],
          [
           0.004000000000000001,
           0.8,
           "sparse"
          ],
          [
           0.004000000000000001,
           0.8,
           "sparse"
          ],
          [
           0.004000000000000001,
           0.8,
           "sparse"
          ],
          [
           0.004000000000000001,
           0.8,
           "sparse"
          ],
          [
           0.004000000000000001,
           0.8,
           "sparse"
          ],
          [
           0.004000000000000001,
           0.8,
           "sparse"
          ],
          [
           0.004000000000000001,
           0.8,
           "sparse"
          ],
          [
           0.004000000000000001,
           0.8,
           "sparse"
          ],
          [
           0.004000000000000001,
           0.8,
           "dense"
          ],
          [
           0.004000000000000001,
           0.8,
           "dense"
          ],
          [
           0.004000000000000001,
           0.8,
           "dense"
          ],
          [
           0.004000000000000001,
           0.8,
           "dense"
          ],
          [
           0.004000000000000001,
           0.8,
           "dense"
          ],
          [
           0.004000000000000001,
           0.8,
           "dense"
          ],
          [
           0.004000000000000001,
           0.8,
           "dense"
          ],
          [
           0.004000000000000001,
           0.8,
           "dense"
          ],
          [
           0.004000000000000001,
           0.8,
           "dense"
          ],
          [
           0.004000000000000001,
           0.8,
           "dense"
          ],
          [
           0.0008000000000000003,
           0.8,
           "dense"
          ],
          [
           0.0008000000000000003,
           0.8,
           "dense"
          ],
          [
           0.0008000000000000003,
           0.8,
           "dense"
          ],
          [
           0.0008000000000000003,
           0.8,
           "dense"
          ],
          [
           0.0008000000000000003,
           0.8,
           "dense"
          ],
          [
           0.0008000000000000003,
           0.8,
           "dense"
          ],
          [
           0.0008000000000000003,
           0.8,
           "dense"
          ],
          [
           0.0008000000000000003,
           0.8,
           "dense"
          ],
          [
           0.0008000000000000003,
           0.8,
           "dense"
          ],
          [
           0.0008000000000000003,
           0.8,
           "dense"
          ],
          [
           0.0008000000000000003,
           0.8,
           "sparse"
          ],
          [
           0.0008000000000000003,
           0.8,
           "sparse"
          ],
          [
           0.0008000000000000003,
           0.8,
           "sparse"
          ],
          [
           0.0008000000000000003,
           0.8,
           "sparse"
          ],
          [
           0.0008000000000000003,
           0.8,
           "sparse"
          ],
          [
           0.0008000000000000003,
           0.8,
           "sparse"
          ],
          [
           0.0008000000000000003,
           0.8,
           "sparse"
          ],
          [
           0.0008000000000000003,
           0.8,
           "sparse"
          ],
          [
           0.0008000000000000003,
           0.8,
           "sparse"
          ],
          [
           0.0008000000000000003,
           0.8,
           "sparse"
          ],
          [
           0.0008000000000000003,
           0.8,
           "sparse"
          ],
          [
           0.0008000000000000003,
           0.8,
           "sparse"
          ],
          [
           0.0008000000000000003,
           0.8,
           "sparse"
          ],
          [
           0.0008000000000000003,
           0.8,
           "sparse"
          ],
          [
           0.0008000000000000003,
           0.8,
           "sparse"
          ],
          [
           0.0008000000000000003,
           0.8,
           "sparse"
          ],
          [
           0.0008000000000000003,
           0.8,
           "sparse"
          ],
          [
           0.0008000000000000003,
           0.8,
           "sparse"
          ],
          [
           0.0008000000000000003,
           0.8,
           "sparse"
          ],
          [
           0.0008000000000000003,
           0.8,
           "sparse"
          ],
          [
           0.0008000000000000003,
           0.8,
           "sparse"
          ],
          [
           0.0008000000000000003,
           0.8,
           "sparse"
          ],
          [
           0.0008000000000000003,
           0.8,
           "sparse"
          ],
          [
           0.0008000000000000003,
           0.8,
           "sparse"
          ],
          [
           0.0008000000000000003,
           0.8,
           "sparse"
          ],
          [
           0.0008000000000000003,
           0.8,
           "sparse"
          ],
          [
           0.0008000000000000003,
           0.8,
           "sparse"
          ],
          [
           0.0008000000000000003,
           0.8,
           "sparse"
          ],
          [
           0.0008000000000000003,
           0.8,
           "sparse"
          ],
          [
           0.0008000000000000003,
           0.8,
           "sparse"
          ]
         ],
         "hovertemplate": "pruning_type=block, L2 norm<br>epoch=%{x}<br>valid_accuracy=%{y}<br>learning_rate=%{customdata[0]}<br>final_sparsity_across_pruned_layers=%{customdata[1]}<br>phase=%{customdata[2]}<extra></extra>",
         "legendgroup": "block, L2 norm",
         "line": {
          "color": "#95C623",
          "dash": "solid"
         },
         "marker": {
          "symbol": "circle"
         },
         "mode": "lines",
         "name": "block, L2 norm",
         "orientation": "v",
         "showlegend": true,
         "type": "scatter",
         "x": [
          1,
          2,
          3,
          4,
          5,
          6,
          7,
          8,
          9,
          10,
          11,
          12,
          13,
          14,
          15,
          16,
          17,
          18,
          19,
          20,
          21,
          22,
          23,
          24,
          25,
          26,
          27,
          28,
          29,
          30,
          31,
          32,
          33,
          34,
          35,
          36,
          37,
          38,
          39,
          40,
          41,
          42,
          43,
          44,
          45,
          46,
          47,
          48,
          49,
          50,
          51,
          52,
          53,
          54,
          55,
          56,
          57,
          58,
          59,
          60,
          61,
          62,
          63,
          64,
          65,
          66,
          67,
          68,
          69,
          70,
          71,
          72,
          73,
          74,
          75,
          76,
          77,
          78,
          79,
          80,
          81,
          82,
          83,
          84,
          85,
          86,
          87,
          88,
          89,
          90,
          91,
          92,
          93,
          94,
          95,
          96,
          97,
          98,
          99,
          100,
          101,
          102,
          103,
          104,
          105,
          106,
          107,
          108,
          109,
          110,
          111,
          112,
          113,
          114,
          115,
          116,
          117,
          118,
          119,
          120,
          121,
          122,
          123,
          124,
          125,
          126,
          127,
          128,
          129,
          130,
          131,
          132,
          133,
          134,
          135,
          136,
          137,
          138,
          139,
          140,
          141,
          142,
          143,
          144,
          145,
          146,
          147,
          148,
          149,
          150,
          151,
          152,
          153,
          154,
          155,
          156,
          157,
          158,
          159,
          160,
          161,
          162,
          163,
          164,
          165,
          166,
          167,
          168,
          169,
          170,
          171,
          172,
          173,
          174,
          175,
          176,
          177,
          178,
          179,
          180,
          181,
          182,
          183,
          184,
          185,
          186,
          187,
          188,
          189,
          190,
          191,
          192,
          193,
          194,
          195,
          196,
          197,
          198,
          199,
          200
         ],
         "xaxis": "x",
         "y": [
          13.260000228881836,
          22.959999084472656,
          28.3700008392334,
          34.63999938964844,
          38.7599983215332,
          40.06999969482422,
          44.58000183105469,
          46.279998779296875,
          48.599998474121094,
          49.709999084472656,
          45.779998779296875,
          47.18000030517578,
          50.0099983215332,
          51.77000045776367,
          49.060001373291016,
          55.86000061035156,
          55.97999954223633,
          54.70000076293945,
          52.439998626708984,
          53.7400016784668,
          53.2400016784668,
          51.2599983215332,
          51.970001220703125,
          54.79999923706055,
          52.9900016784668,
          53.97999954223633,
          58.43000030517578,
          55.52000045776367,
          56.150001525878906,
          55.15999984741211,
          54.0099983215332,
          58.90999984741211,
          56.849998474121094,
          54.59000015258789,
          54.369998931884766,
          57.130001068115234,
          58.93000030517578,
          53.88999938964844,
          56.040000915527344,
          58.36000061035156,
          60.220001220703125,
          57.22999954223633,
          55.779998779296875,
          57.16999816894531,
          55.43000030517578,
          51.880001068115234,
          59.81999969482422,
          53.2599983215332,
          57.2400016784668,
          52.66999816894531,
          57.08000183105469,
          56.880001068115234,
          59.209999084472656,
          59.29999923706055,
          59.060001373291016,
          59.400001525878906,
          51.52000045776367,
          60.88999938964844,
          55.52000045776367,
          60.41999816894531,
          75.0199966430664,
          75.47000122070312,
          74.81999969482422,
          75.18000030517578,
          74.63999938964844,
          74.47000122070312,
          73.41999816894531,
          73.45999908447266,
          72.77999877929688,
          71.36000061035156,
          70.08999633789062,
          70.75,
          70.29000091552734,
          70.5199966430664,
          70.38999938964844,
          69.83000183105469,
          70.66999816894531,
          69.62000274658203,
          67.47000122070312,
          70.2300033569336,
          70.58000183105469,
          70.1500015258789,
          70.5999984741211,
          69.7699966430664,
          68.13999938964844,
          70.66999816894531,
          71,
          71.36000061035156,
          67.94999694824219,
          69.79000091552734,
          70.22000122070312,
          68.68000030517578,
          69.51000213623047,
          69.68000030517578,
          67.68000030517578,
          68.41999816894531,
          68.91999816894531,
          69.83000183105469,
          70.6500015258789,
          66.45999908447266,
          67.18000030517578,
          67.81999969482422,
          68.7699966430664,
          66.7300033569336,
          67.45999908447266,
          69.72000122070312,
          67.8499984741211,
          67.12000274658203,
          68.45999908447266,
          68.30000305175781,
          66.25,
          64.29000091552734,
          67.0199966430664,
          67.69000244140625,
          67.08000183105469,
          69.4000015258789,
          69.66999816894531,
          70.5,
          68.02999877929688,
          66.95999908447266,
          76.56999969482422,
          76.94000244140625,
          77.05999755859375,
          77.47000122070312,
          77.61000061035156,
          77.70999908447266,
          77.7300033569336,
          77.83000183105469,
          77.68000030517578,
          77.62000274658203,
          77.48999786376953,
          77.45999908447266,
          77.5999984741211,
          77.44000244140625,
          77.62000274658203,
          77.43000030517578,
          77.5999984741211,
          77.38999938964844,
          77.41000366210938,
          77.66999816894531,
          77.7300033569336,
          77.44000244140625,
          77.80000305175781,
          77.51000213623047,
          77.83999633789062,
          77.62000274658203,
          77.36000061035156,
          77.41000366210938,
          77.4800033569336,
          77.26000213623047,
          77.66999816894531,
          77.26000213623047,
          77.18000030517578,
          77.69000244140625,
          77.48999786376953,
          77.38999938964844,
          77.05000305175781,
          77.36000061035156,
          77.3499984741211,
          77.62999725341797,
          77.66999816894531,
          77.80000305175781,
          77.54000091552734,
          77.70999908447266,
          77.7699966430664,
          77.87999725341797,
          77.62999725341797,
          77.58000183105469,
          77.51000213623047,
          77.80000305175781,
          77.52999877929688,
          77.55000305175781,
          77.79000091552734,
          77.55000305175781,
          77.61000061035156,
          77.5199966430664,
          77.58000183105469,
          77.69000244140625,
          77.56999969482422,
          77.56999969482422,
          77.41999816894531,
          77.66000366210938,
          77.7300033569336,
          77.41999816894531,
          77.6500015258789,
          77.63999938964844,
          77.5,
          77.70999908447266,
          77.5999984741211,
          77.52999877929688,
          77.48999786376953,
          77.41000366210938,
          77.51000213623047,
          77.62000274658203,
          77.72000122070312,
          77.5999984741211,
          77.58999633789062,
          77.36000061035156,
          77.44999694824219,
          77.58000183105469
         ],
         "yaxis": "y"
        },
        {
         "customdata": [
          [
           0.1,
           0.8007660803634129,
           "dense"
          ],
          [
           0.1,
           0.8007660803634129,
           "dense"
          ],
          [
           0.1,
           0.8007660803634129,
           "dense"
          ],
          [
           0.1,
           0.8007660803634129,
           "dense"
          ],
          [
           0.1,
           0.8007660803634129,
           "dense"
          ],
          [
           0.1,
           0.8007660803634129,
           "dense"
          ],
          [
           0.1,
           0.8007660803634129,
           "dense"
          ],
          [
           0.1,
           0.8007660803634129,
           "dense"
          ],
          [
           0.1,
           0.8007660803634129,
           "dense"
          ],
          [
           0.1,
           0.8007660803634129,
           "dense"
          ],
          [
           0.1,
           0.8007660803634129,
           "sparse"
          ],
          [
           0.1,
           0.8007660803634129,
           "sparse"
          ],
          [
           0.1,
           0.8007660803634129,
           "sparse"
          ],
          [
           0.1,
           0.8007660803634129,
           "sparse"
          ],
          [
           0.1,
           0.8007660803634129,
           "sparse"
          ],
          [
           0.1,
           0.8007660803634129,
           "sparse"
          ],
          [
           0.1,
           0.8007660803634129,
           "sparse"
          ],
          [
           0.1,
           0.8007660803634129,
           "sparse"
          ],
          [
           0.1,
           0.8007660803634129,
           "sparse"
          ],
          [
           0.1,
           0.8007660803634129,
           "sparse"
          ],
          [
           0.1,
           0.8007660803634129,
           "sparse"
          ],
          [
           0.1,
           0.8007660803634129,
           "sparse"
          ],
          [
           0.1,
           0.8007660803634129,
           "sparse"
          ],
          [
           0.1,
           0.8007660803634129,
           "sparse"
          ],
          [
           0.1,
           0.8007660803634129,
           "sparse"
          ],
          [
           0.1,
           0.8007660803634129,
           "sparse"
          ],
          [
           0.1,
           0.8007660803634129,
           "sparse"
          ],
          [
           0.1,
           0.8007660803634129,
           "sparse"
          ],
          [
           0.1,
           0.8007660803634129,
           "sparse"
          ],
          [
           0.1,
           0.8007660803634129,
           "sparse"
          ],
          [
           0.1,
           0.8007660803634129,
           "dense"
          ],
          [
           0.1,
           0.8007660803634129,
           "dense"
          ],
          [
           0.1,
           0.8007660803634129,
           "dense"
          ],
          [
           0.1,
           0.8007660803634129,
           "dense"
          ],
          [
           0.1,
           0.8007660803634129,
           "dense"
          ],
          [
           0.1,
           0.8007660803634129,
           "dense"
          ],
          [
           0.1,
           0.8007660803634129,
           "dense"
          ],
          [
           0.1,
           0.8007660803634129,
           "dense"
          ],
          [
           0.1,
           0.8007660803634129,
           "dense"
          ],
          [
           0.1,
           0.8007660803634129,
           "dense"
          ],
          [
           0.1,
           0.8007660803634129,
           "dense"
          ],
          [
           0.1,
           0.8007660803634129,
           "dense"
          ],
          [
           0.1,
           0.8007660803634129,
           "dense"
          ],
          [
           0.1,
           0.8007660803634129,
           "dense"
          ],
          [
           0.1,
           0.8007660803634129,
           "dense"
          ],
          [
           0.1,
           0.8007660803634129,
           "dense"
          ],
          [
           0.1,
           0.8007660803634129,
           "dense"
          ],
          [
           0.1,
           0.8007660803634129,
           "dense"
          ],
          [
           0.1,
           0.8007660803634129,
           "dense"
          ],
          [
           0.1,
           0.8007660803634129,
           "dense"
          ],
          [
           0.1,
           0.8007660803634129,
           "sparse"
          ],
          [
           0.1,
           0.8007660803634129,
           "sparse"
          ],
          [
           0.1,
           0.8007660803634129,
           "sparse"
          ],
          [
           0.1,
           0.8007660803634129,
           "sparse"
          ],
          [
           0.1,
           0.8007660803634129,
           "sparse"
          ],
          [
           0.1,
           0.8007660803634129,
           "sparse"
          ],
          [
           0.1,
           0.8007660803634129,
           "sparse"
          ],
          [
           0.1,
           0.8007660803634129,
           "sparse"
          ],
          [
           0.1,
           0.8007660803634129,
           "sparse"
          ],
          [
           0.1,
           0.8007660803634129,
           "sparse"
          ],
          [
           0.020000000000000004,
           0.8007660803634129,
           "sparse"
          ],
          [
           0.020000000000000004,
           0.8007660803634129,
           "sparse"
          ],
          [
           0.020000000000000004,
           0.8007660803634129,
           "sparse"
          ],
          [
           0.020000000000000004,
           0.8007660803634129,
           "sparse"
          ],
          [
           0.020000000000000004,
           0.8007660803634129,
           "sparse"
          ],
          [
           0.020000000000000004,
           0.8007660803634129,
           "sparse"
          ],
          [
           0.020000000000000004,
           0.8007660803634129,
           "sparse"
          ],
          [
           0.020000000000000004,
           0.8007660803634129,
           "sparse"
          ],
          [
           0.020000000000000004,
           0.8007660803634129,
           "sparse"
          ],
          [
           0.020000000000000004,
           0.8007660803634129,
           "sparse"
          ],
          [
           0.020000000000000004,
           0.8007660803634129,
           "dense"
          ],
          [
           0.020000000000000004,
           0.8007660803634129,
           "dense"
          ],
          [
           0.020000000000000004,
           0.8007660803634129,
           "dense"
          ],
          [
           0.020000000000000004,
           0.8007660803634129,
           "dense"
          ],
          [
           0.020000000000000004,
           0.8007660803634129,
           "dense"
          ],
          [
           0.020000000000000004,
           0.8007660803634129,
           "dense"
          ],
          [
           0.020000000000000004,
           0.8007660803634129,
           "dense"
          ],
          [
           0.020000000000000004,
           0.8007660803634129,
           "dense"
          ],
          [
           0.020000000000000004,
           0.8007660803634129,
           "dense"
          ],
          [
           0.020000000000000004,
           0.8007660803634129,
           "dense"
          ],
          [
           0.020000000000000004,
           0.8007660803634129,
           "dense"
          ],
          [
           0.020000000000000004,
           0.8007660803634129,
           "dense"
          ],
          [
           0.020000000000000004,
           0.8007660803634129,
           "dense"
          ],
          [
           0.020000000000000004,
           0.8007660803634129,
           "dense"
          ],
          [
           0.020000000000000004,
           0.8007660803634129,
           "dense"
          ],
          [
           0.020000000000000004,
           0.8007660803634129,
           "dense"
          ],
          [
           0.020000000000000004,
           0.8007660803634129,
           "dense"
          ],
          [
           0.020000000000000004,
           0.8007660803634129,
           "dense"
          ],
          [
           0.020000000000000004,
           0.8007660803634129,
           "dense"
          ],
          [
           0.020000000000000004,
           0.8007660803634129,
           "dense"
          ],
          [
           0.020000000000000004,
           0.8007660803634129,
           "sparse"
          ],
          [
           0.020000000000000004,
           0.8007660803634129,
           "sparse"
          ],
          [
           0.020000000000000004,
           0.8007660803634129,
           "sparse"
          ],
          [
           0.020000000000000004,
           0.8007660803634129,
           "sparse"
          ],
          [
           0.020000000000000004,
           0.8007660803634129,
           "sparse"
          ],
          [
           0.020000000000000004,
           0.8007660803634129,
           "sparse"
          ],
          [
           0.020000000000000004,
           0.8007660803634129,
           "sparse"
          ],
          [
           0.020000000000000004,
           0.8007660803634129,
           "sparse"
          ],
          [
           0.020000000000000004,
           0.8007660803634129,
           "sparse"
          ],
          [
           0.020000000000000004,
           0.8007660803634129,
           "sparse"
          ],
          [
           0.020000000000000004,
           0.8007660803634129,
           "sparse"
          ],
          [
           0.020000000000000004,
           0.8007660803634129,
           "sparse"
          ],
          [
           0.020000000000000004,
           0.8007660803634129,
           "sparse"
          ],
          [
           0.020000000000000004,
           0.8007660803634129,
           "sparse"
          ],
          [
           0.020000000000000004,
           0.8007660803634129,
           "sparse"
          ],
          [
           0.020000000000000004,
           0.8007660803634129,
           "sparse"
          ],
          [
           0.020000000000000004,
           0.8007660803634129,
           "sparse"
          ],
          [
           0.020000000000000004,
           0.8007660803634129,
           "sparse"
          ],
          [
           0.020000000000000004,
           0.8007660803634129,
           "sparse"
          ],
          [
           0.020000000000000004,
           0.8007660803634129,
           "sparse"
          ],
          [
           0.020000000000000004,
           0.8007660803634129,
           "dense"
          ],
          [
           0.020000000000000004,
           0.8007660803634129,
           "dense"
          ],
          [
           0.020000000000000004,
           0.8007660803634129,
           "dense"
          ],
          [
           0.020000000000000004,
           0.8007660803634129,
           "dense"
          ],
          [
           0.020000000000000004,
           0.8007660803634129,
           "dense"
          ],
          [
           0.020000000000000004,
           0.8007660803634129,
           "dense"
          ],
          [
           0.020000000000000004,
           0.8007660803634129,
           "dense"
          ],
          [
           0.020000000000000004,
           0.8007660803634129,
           "dense"
          ],
          [
           0.020000000000000004,
           0.8007660803634129,
           "dense"
          ],
          [
           0.020000000000000004,
           0.8007660803634129,
           "dense"
          ],
          [
           0.004000000000000001,
           0.8007660803634129,
           "dense"
          ],
          [
           0.004000000000000001,
           0.8007660803634129,
           "dense"
          ],
          [
           0.004000000000000001,
           0.8007660803634129,
           "dense"
          ],
          [
           0.004000000000000001,
           0.8007660803634129,
           "dense"
          ],
          [
           0.004000000000000001,
           0.8007660803634129,
           "dense"
          ],
          [
           0.004000000000000001,
           0.8007660803634129,
           "dense"
          ],
          [
           0.004000000000000001,
           0.8007660803634129,
           "dense"
          ],
          [
           0.004000000000000001,
           0.8007660803634129,
           "dense"
          ],
          [
           0.004000000000000001,
           0.8007660803634129,
           "dense"
          ],
          [
           0.004000000000000001,
           0.8007660803634129,
           "dense"
          ],
          [
           0.004000000000000001,
           0.8007660803634129,
           "sparse"
          ],
          [
           0.004000000000000001,
           0.8007660803634129,
           "sparse"
          ],
          [
           0.004000000000000001,
           0.8007660803634129,
           "sparse"
          ],
          [
           0.004000000000000001,
           0.8007660803634129,
           "sparse"
          ],
          [
           0.004000000000000001,
           0.8007660803634129,
           "sparse"
          ],
          [
           0.004000000000000001,
           0.8007660803634129,
           "sparse"
          ],
          [
           0.004000000000000001,
           0.8007660803634129,
           "sparse"
          ],
          [
           0.004000000000000001,
           0.8007660803634129,
           "sparse"
          ],
          [
           0.004000000000000001,
           0.8007660803634129,
           "sparse"
          ],
          [
           0.004000000000000001,
           0.8007660803634129,
           "sparse"
          ],
          [
           0.004000000000000001,
           0.8007660803634129,
           "sparse"
          ],
          [
           0.004000000000000001,
           0.8007660803634129,
           "sparse"
          ],
          [
           0.004000000000000001,
           0.8007660803634129,
           "sparse"
          ],
          [
           0.004000000000000001,
           0.8007660803634129,
           "sparse"
          ],
          [
           0.004000000000000001,
           0.8007660803634129,
           "sparse"
          ],
          [
           0.004000000000000001,
           0.8007660803634129,
           "sparse"
          ],
          [
           0.004000000000000001,
           0.8007660803634129,
           "sparse"
          ],
          [
           0.004000000000000001,
           0.8007660803634129,
           "sparse"
          ],
          [
           0.004000000000000001,
           0.8007660803634129,
           "sparse"
          ],
          [
           0.004000000000000001,
           0.8007660803634129,
           "sparse"
          ],
          [
           0.004000000000000001,
           0.8007660803634129,
           "dense"
          ],
          [
           0.004000000000000001,
           0.8007660803634129,
           "dense"
          ],
          [
           0.004000000000000001,
           0.8007660803634129,
           "dense"
          ],
          [
           0.004000000000000001,
           0.8007660803634129,
           "dense"
          ],
          [
           0.004000000000000001,
           0.8007660803634129,
           "dense"
          ],
          [
           0.004000000000000001,
           0.8007660803634129,
           "dense"
          ],
          [
           0.004000000000000001,
           0.8007660803634129,
           "dense"
          ],
          [
           0.004000000000000001,
           0.8007660803634129,
           "dense"
          ],
          [
           0.004000000000000001,
           0.8007660803634129,
           "dense"
          ],
          [
           0.004000000000000001,
           0.8007660803634129,
           "dense"
          ],
          [
           0.0008000000000000003,
           0.8007660803634129,
           "dense"
          ],
          [
           0.0008000000000000003,
           0.8007660803634129,
           "dense"
          ],
          [
           0.0008000000000000003,
           0.8007660803634129,
           "dense"
          ],
          [
           0.0008000000000000003,
           0.8007660803634129,
           "dense"
          ],
          [
           0.0008000000000000003,
           0.8007660803634129,
           "dense"
          ],
          [
           0.0008000000000000003,
           0.8007660803634129,
           "dense"
          ],
          [
           0.0008000000000000003,
           0.8007660803634129,
           "dense"
          ],
          [
           0.0008000000000000003,
           0.8007660803634129,
           "dense"
          ],
          [
           0.0008000000000000003,
           0.8007660803634129,
           "dense"
          ],
          [
           0.0008000000000000003,
           0.8007660803634129,
           "dense"
          ],
          [
           0.0008000000000000003,
           0.8007660803634129,
           "sparse"
          ],
          [
           0.0008000000000000003,
           0.8007660803634129,
           "sparse"
          ],
          [
           0.0008000000000000003,
           0.8007660803634129,
           "sparse"
          ],
          [
           0.0008000000000000003,
           0.8007660803634129,
           "sparse"
          ],
          [
           0.0008000000000000003,
           0.8007660803634129,
           "sparse"
          ],
          [
           0.0008000000000000003,
           0.8007660803634129,
           "sparse"
          ],
          [
           0.0008000000000000003,
           0.8007660803634129,
           "sparse"
          ],
          [
           0.0008000000000000003,
           0.8007660803634129,
           "sparse"
          ],
          [
           0.0008000000000000003,
           0.8007660803634129,
           "sparse"
          ],
          [
           0.0008000000000000003,
           0.8007660803634129,
           "sparse"
          ],
          [
           0.0008000000000000003,
           0.8007660803634129,
           "sparse"
          ],
          [
           0.0008000000000000003,
           0.8007660803634129,
           "sparse"
          ],
          [
           0.0008000000000000003,
           0.8007660803634129,
           "sparse"
          ],
          [
           0.0008000000000000003,
           0.8007660803634129,
           "sparse"
          ],
          [
           0.0008000000000000003,
           0.8007660803634129,
           "sparse"
          ],
          [
           0.0008000000000000003,
           0.8007660803634129,
           "sparse"
          ],
          [
           0.0008000000000000003,
           0.8007660803634129,
           "sparse"
          ],
          [
           0.0008000000000000003,
           0.8007660803634129,
           "sparse"
          ],
          [
           0.0008000000000000003,
           0.8007660803634129,
           "sparse"
          ],
          [
           0.0008000000000000003,
           0.8007660803634129,
           "sparse"
          ],
          [
           0.0008000000000000003,
           0.8007660803634129,
           "sparse"
          ],
          [
           0.0008000000000000003,
           0.8007660803634129,
           "sparse"
          ],
          [
           0.0008000000000000003,
           0.8007660803634129,
           "sparse"
          ],
          [
           0.0008000000000000003,
           0.8007660803634129,
           "sparse"
          ],
          [
           0.0008000000000000003,
           0.8007660803634129,
           "sparse"
          ],
          [
           0.0008000000000000003,
           0.8007660803634129,
           "sparse"
          ],
          [
           0.0008000000000000003,
           0.8007660803634129,
           "sparse"
          ],
          [
           0.0008000000000000003,
           0.8007660803634129,
           "sparse"
          ],
          [
           0.0008000000000000003,
           0.8007660803634129,
           "sparse"
          ],
          [
           0.0008000000000000003,
           0.8007660803634129,
           "sparse"
          ]
         ],
         "hovertemplate": "pruning_type=block, abs max<br>epoch=%{x}<br>valid_accuracy=%{y}<br>learning_rate=%{customdata[0]}<br>final_sparsity_across_pruned_layers=%{customdata[1]}<br>phase=%{customdata[2]}<extra></extra>",
         "legendgroup": "block, abs max",
         "line": {
          "color": "#E082DA",
          "dash": "solid"
         },
         "marker": {
          "symbol": "circle"
         },
         "mode": "lines",
         "name": "block, abs max",
         "orientation": "v",
         "showlegend": true,
         "type": "scatter",
         "x": [
          1,
          2,
          3,
          4,
          5,
          6,
          7,
          8,
          9,
          10,
          11,
          12,
          13,
          14,
          15,
          16,
          17,
          18,
          19,
          20,
          21,
          22,
          23,
          24,
          25,
          26,
          27,
          28,
          29,
          30,
          31,
          32,
          33,
          34,
          35,
          36,
          37,
          38,
          39,
          40,
          41,
          42,
          43,
          44,
          45,
          46,
          47,
          48,
          49,
          50,
          51,
          52,
          53,
          54,
          55,
          56,
          57,
          58,
          59,
          60,
          61,
          62,
          63,
          64,
          65,
          66,
          67,
          68,
          69,
          70,
          71,
          72,
          73,
          74,
          75,
          76,
          77,
          78,
          79,
          80,
          81,
          82,
          83,
          84,
          85,
          86,
          87,
          88,
          89,
          90,
          91,
          92,
          93,
          94,
          95,
          96,
          97,
          98,
          99,
          100,
          101,
          102,
          103,
          104,
          105,
          106,
          107,
          108,
          109,
          110,
          111,
          112,
          113,
          114,
          115,
          116,
          117,
          118,
          119,
          120,
          121,
          122,
          123,
          124,
          125,
          126,
          127,
          128,
          129,
          130,
          131,
          132,
          133,
          134,
          135,
          136,
          137,
          138,
          139,
          140,
          141,
          142,
          143,
          144,
          145,
          146,
          147,
          148,
          149,
          150,
          151,
          152,
          153,
          154,
          155,
          156,
          157,
          158,
          159,
          160,
          161,
          162,
          163,
          164,
          165,
          166,
          167,
          168,
          169,
          170,
          171,
          172,
          173,
          174,
          175,
          176,
          177,
          178,
          179,
          180,
          181,
          182,
          183,
          184,
          185,
          186,
          187,
          188,
          189,
          190,
          191,
          192,
          193,
          194,
          195,
          196,
          197,
          198,
          199,
          200
         ],
         "xaxis": "x",
         "y": [
          12.65999984741211,
          22.850000381469727,
          25.739999771118164,
          33.5,
          38.84000015258789,
          41.029998779296875,
          46.93000030517578,
          47.7400016784668,
          45.459999084472656,
          46.95000076293945,
          44.40999984741211,
          45.31999969482422,
          44.470001220703125,
          54.290000915527344,
          50.91999816894531,
          51.959999084472656,
          55.25,
          53.2599983215332,
          52.040000915527344,
          53.36000061035156,
          54.619998931884766,
          51.33000183105469,
          55.15999984741211,
          55.459999084472656,
          49.7599983215332,
          48.77000045776367,
          54.91999816894531,
          56.02000045776367,
          57.25,
          57.220001220703125,
          55.59000015258789,
          53.70000076293945,
          59.099998474121094,
          57.83000183105469,
          54.45000076293945,
          52.880001068115234,
          56.439998626708984,
          59.540000915527344,
          56.08000183105469,
          56.279998779296875,
          58.369998931884766,
          57.2400016784668,
          51.790000915527344,
          57.90999984741211,
          59.91999816894531,
          53.459999084472656,
          58.02000045776367,
          60.29999923706055,
          57.15999984741211,
          59.56999969482422,
          55.7599983215332,
          55.86000061035156,
          57.209999084472656,
          57.18000030517578,
          56.81999969482422,
          58.5,
          57.540000915527344,
          60.5,
          53.56999969482422,
          59,
          75.54000091552734,
          76.45999908447266,
          76.37000274658203,
          76.02999877929688,
          75.20999908447266,
          74.94000244140625,
          73.79000091552734,
          73.94000244140625,
          73.08999633789062,
          72.80999755859375,
          67.62000274658203,
          70.51000213623047,
          70.6500015258789,
          68.45999908447266,
          72.5199966430664,
          70.8499984741211,
          72.0999984741211,
          69.80999755859375,
          72.45999908447266,
          69.81999969482422,
          71.44000244140625,
          70.88999938964844,
          69.83000183105469,
          68.44999694824219,
          70.36000061035156,
          69.70999908447266,
          69.86000061035156,
          70.9000015258789,
          71.58000183105469,
          71.48999786376953,
          70.88999938964844,
          70.70999908447266,
          70.06999969482422,
          71.11000061035156,
          71.16999816894531,
          68.41999816894531,
          69.23999786376953,
          69.58000183105469,
          69.73999786376953,
          70.3499984741211,
          71.02999877929688,
          69.04000091552734,
          69.04000091552734,
          69.37999725341797,
          68.55000305175781,
          70.31999969482422,
          68.1500015258789,
          71.33000183105469,
          69.51000213623047,
          68.38999938964844,
          65.33000183105469,
          65.16000366210938,
          69.04000091552734,
          69.80000305175781,
          69.19999694824219,
          70.38999938964844,
          70.44000244140625,
          69.30999755859375,
          69.7300033569336,
          70.94000244140625,
          78.37999725341797,
          78.81999969482422,
          79.04000091552734,
          79.0199966430664,
          79.05999755859375,
          79.11000061035156,
          78.97000122070312,
          79.1500015258789,
          79.3499984741211,
          79.2300033569336,
          79.19999694824219,
          78.98999786376953,
          79.16999816894531,
          79.16999816894531,
          79.44000244140625,
          79.11000061035156,
          79.16000366210938,
          79.02999877929688,
          79.30000305175781,
          79.38999938964844,
          79.13999938964844,
          78.9000015258789,
          79.41000366210938,
          79,
          79.31999969482422,
          78.77999877929688,
          79.33999633789062,
          79.29000091552734,
          79.16000366210938,
          79.12999725341797,
          79.25,
          78.68000030517578,
          78.97000122070312,
          78.93000030517578,
          78.77999877929688,
          78.87000274658203,
          78.75,
          78.91000366210938,
          78.83000183105469,
          78.83000183105469,
          79.11000061035156,
          79.2300033569336,
          79.20999908447266,
          79.1500015258789,
          78.86000061035156,
          79.13999938964844,
          79.30000305175781,
          79.16000366210938,
          79.27999877929688,
          79.08000183105469,
          79.58999633789062,
          79.2699966430664,
          79.51000213623047,
          79.18000030517578,
          79.30999755859375,
          78.98999786376953,
          79.16000366210938,
          79.23999786376953,
          79.33999633789062,
          79.33000183105469,
          79.4800033569336,
          79.08000183105469,
          79.36000061035156,
          79.18000030517578,
          79.22000122070312,
          79.37999725341797,
          79.16000366210938,
          79.29000091552734,
          79.05999755859375,
          79.30000305175781,
          79.30000305175781,
          79.13999938964844,
          79.1500015258789,
          78.91000366210938,
          79.08000183105469,
          79.26000213623047,
          79.37000274658203,
          79.20999908447266,
          79.02999877929688,
          78.93000030517578
         ],
         "yaxis": "y"
        },
        {
         "customdata": [
          [
           0.1,
           0.8,
           "dense"
          ],
          [
           0.1,
           0.8,
           "dense"
          ],
          [
           0.1,
           0.8,
           "dense"
          ],
          [
           0.1,
           0.8,
           "dense"
          ],
          [
           0.1,
           0.8,
           "dense"
          ],
          [
           0.1,
           0.8,
           "dense"
          ],
          [
           0.1,
           0.8,
           "dense"
          ],
          [
           0.1,
           0.8,
           "dense"
          ],
          [
           0.1,
           0.8,
           "dense"
          ],
          [
           0.1,
           0.8,
           "dense"
          ],
          [
           0.1,
           0.8,
           "sparse"
          ],
          [
           0.1,
           0.8,
           "sparse"
          ],
          [
           0.1,
           0.8,
           "sparse"
          ],
          [
           0.1,
           0.8,
           "sparse"
          ],
          [
           0.1,
           0.8,
           "sparse"
          ],
          [
           0.1,
           0.8,
           "sparse"
          ],
          [
           0.1,
           0.8,
           "sparse"
          ],
          [
           0.1,
           0.8,
           "sparse"
          ],
          [
           0.1,
           0.8,
           "sparse"
          ],
          [
           0.1,
           0.8,
           "sparse"
          ],
          [
           0.1,
           0.8,
           "sparse"
          ],
          [
           0.1,
           0.8,
           "sparse"
          ],
          [
           0.1,
           0.8,
           "sparse"
          ],
          [
           0.1,
           0.8,
           "sparse"
          ],
          [
           0.1,
           0.8,
           "sparse"
          ],
          [
           0.1,
           0.8,
           "sparse"
          ],
          [
           0.1,
           0.8,
           "sparse"
          ],
          [
           0.1,
           0.8,
           "sparse"
          ],
          [
           0.1,
           0.8,
           "sparse"
          ],
          [
           0.1,
           0.8,
           "sparse"
          ],
          [
           0.1,
           0.8,
           "dense"
          ],
          [
           0.1,
           0.8,
           "dense"
          ],
          [
           0.1,
           0.8,
           "dense"
          ],
          [
           0.1,
           0.8,
           "dense"
          ],
          [
           0.1,
           0.8,
           "dense"
          ],
          [
           0.1,
           0.8,
           "dense"
          ],
          [
           0.1,
           0.8,
           "dense"
          ],
          [
           0.1,
           0.8,
           "dense"
          ],
          [
           0.1,
           0.8,
           "dense"
          ],
          [
           0.1,
           0.8,
           "dense"
          ],
          [
           0.1,
           0.8,
           "dense"
          ],
          [
           0.1,
           0.8,
           "dense"
          ],
          [
           0.1,
           0.8,
           "dense"
          ],
          [
           0.1,
           0.8,
           "dense"
          ],
          [
           0.1,
           0.8,
           "dense"
          ],
          [
           0.1,
           0.8,
           "dense"
          ],
          [
           0.1,
           0.8,
           "dense"
          ],
          [
           0.1,
           0.8,
           "dense"
          ],
          [
           0.1,
           0.8,
           "dense"
          ],
          [
           0.1,
           0.8,
           "dense"
          ],
          [
           0.1,
           0.8,
           "sparse"
          ],
          [
           0.1,
           0.8,
           "sparse"
          ],
          [
           0.1,
           0.8,
           "sparse"
          ],
          [
           0.1,
           0.8,
           "sparse"
          ],
          [
           0.1,
           0.8,
           "sparse"
          ],
          [
           0.1,
           0.8,
           "sparse"
          ],
          [
           0.1,
           0.8,
           "sparse"
          ],
          [
           0.1,
           0.8,
           "sparse"
          ],
          [
           0.1,
           0.8,
           "sparse"
          ],
          [
           0.1,
           0.8,
           "sparse"
          ],
          [
           0.020000000000000004,
           0.8,
           "sparse"
          ],
          [
           0.020000000000000004,
           0.8,
           "sparse"
          ],
          [
           0.020000000000000004,
           0.8,
           "sparse"
          ],
          [
           0.020000000000000004,
           0.8,
           "sparse"
          ],
          [
           0.020000000000000004,
           0.8,
           "sparse"
          ],
          [
           0.020000000000000004,
           0.8,
           "sparse"
          ],
          [
           0.020000000000000004,
           0.8,
           "sparse"
          ],
          [
           0.020000000000000004,
           0.8,
           "sparse"
          ],
          [
           0.020000000000000004,
           0.8,
           "sparse"
          ],
          [
           0.020000000000000004,
           0.8,
           "sparse"
          ],
          [
           0.020000000000000004,
           0.8,
           "dense"
          ],
          [
           0.020000000000000004,
           0.8,
           "dense"
          ],
          [
           0.020000000000000004,
           0.8,
           "dense"
          ],
          [
           0.020000000000000004,
           0.8,
           "dense"
          ],
          [
           0.020000000000000004,
           0.8,
           "dense"
          ],
          [
           0.020000000000000004,
           0.8,
           "dense"
          ],
          [
           0.020000000000000004,
           0.8,
           "dense"
          ],
          [
           0.020000000000000004,
           0.8,
           "dense"
          ],
          [
           0.020000000000000004,
           0.8,
           "dense"
          ],
          [
           0.020000000000000004,
           0.8,
           "dense"
          ],
          [
           0.020000000000000004,
           0.8,
           "dense"
          ],
          [
           0.020000000000000004,
           0.8,
           "dense"
          ],
          [
           0.020000000000000004,
           0.8,
           "dense"
          ],
          [
           0.020000000000000004,
           0.8,
           "dense"
          ],
          [
           0.020000000000000004,
           0.8,
           "dense"
          ],
          [
           0.020000000000000004,
           0.8,
           "dense"
          ],
          [
           0.020000000000000004,
           0.8,
           "dense"
          ],
          [
           0.020000000000000004,
           0.8,
           "dense"
          ],
          [
           0.020000000000000004,
           0.8,
           "dense"
          ],
          [
           0.020000000000000004,
           0.8,
           "dense"
          ],
          [
           0.020000000000000004,
           0.8,
           "sparse"
          ],
          [
           0.020000000000000004,
           0.8,
           "sparse"
          ],
          [
           0.020000000000000004,
           0.8,
           "sparse"
          ],
          [
           0.020000000000000004,
           0.8,
           "sparse"
          ],
          [
           0.020000000000000004,
           0.8,
           "sparse"
          ],
          [
           0.020000000000000004,
           0.8,
           "sparse"
          ],
          [
           0.020000000000000004,
           0.8,
           "sparse"
          ],
          [
           0.020000000000000004,
           0.8,
           "sparse"
          ],
          [
           0.020000000000000004,
           0.8,
           "sparse"
          ],
          [
           0.020000000000000004,
           0.8,
           "sparse"
          ],
          [
           0.020000000000000004,
           0.8,
           "sparse"
          ],
          [
           0.020000000000000004,
           0.8,
           "sparse"
          ],
          [
           0.020000000000000004,
           0.8,
           "sparse"
          ],
          [
           0.020000000000000004,
           0.8,
           "sparse"
          ],
          [
           0.020000000000000004,
           0.8,
           "sparse"
          ],
          [
           0.020000000000000004,
           0.8,
           "sparse"
          ],
          [
           0.020000000000000004,
           0.8,
           "sparse"
          ],
          [
           0.020000000000000004,
           0.8,
           "sparse"
          ],
          [
           0.020000000000000004,
           0.8,
           "sparse"
          ],
          [
           0.020000000000000004,
           0.8,
           "sparse"
          ],
          [
           0.020000000000000004,
           0.8,
           "dense"
          ],
          [
           0.020000000000000004,
           0.8,
           "dense"
          ],
          [
           0.020000000000000004,
           0.8,
           "dense"
          ],
          [
           0.020000000000000004,
           0.8,
           "dense"
          ],
          [
           0.020000000000000004,
           0.8,
           "dense"
          ],
          [
           0.020000000000000004,
           0.8,
           "dense"
          ],
          [
           0.020000000000000004,
           0.8,
           "dense"
          ],
          [
           0.020000000000000004,
           0.8,
           "dense"
          ],
          [
           0.020000000000000004,
           0.8,
           "dense"
          ],
          [
           0.020000000000000004,
           0.8,
           "dense"
          ],
          [
           0.004000000000000001,
           0.8,
           "dense"
          ],
          [
           0.004000000000000001,
           0.8,
           "dense"
          ],
          [
           0.004000000000000001,
           0.8,
           "dense"
          ],
          [
           0.004000000000000001,
           0.8,
           "dense"
          ],
          [
           0.004000000000000001,
           0.8,
           "dense"
          ],
          [
           0.004000000000000001,
           0.8,
           "dense"
          ],
          [
           0.004000000000000001,
           0.8,
           "dense"
          ],
          [
           0.004000000000000001,
           0.8,
           "dense"
          ],
          [
           0.004000000000000001,
           0.8,
           "dense"
          ],
          [
           0.004000000000000001,
           0.8,
           "dense"
          ],
          [
           0.004000000000000001,
           0.8,
           "sparse"
          ],
          [
           0.004000000000000001,
           0.8,
           "sparse"
          ],
          [
           0.004000000000000001,
           0.8,
           "sparse"
          ],
          [
           0.004000000000000001,
           0.8,
           "sparse"
          ],
          [
           0.004000000000000001,
           0.8,
           "sparse"
          ],
          [
           0.004000000000000001,
           0.8,
           "sparse"
          ],
          [
           0.004000000000000001,
           0.8,
           "sparse"
          ],
          [
           0.004000000000000001,
           0.8,
           "sparse"
          ],
          [
           0.004000000000000001,
           0.8,
           "sparse"
          ],
          [
           0.004000000000000001,
           0.8,
           "sparse"
          ],
          [
           0.004000000000000001,
           0.8,
           "sparse"
          ],
          [
           0.004000000000000001,
           0.8,
           "sparse"
          ],
          [
           0.004000000000000001,
           0.8,
           "sparse"
          ],
          [
           0.004000000000000001,
           0.8,
           "sparse"
          ],
          [
           0.004000000000000001,
           0.8,
           "sparse"
          ],
          [
           0.004000000000000001,
           0.8,
           "sparse"
          ],
          [
           0.004000000000000001,
           0.8,
           "sparse"
          ],
          [
           0.004000000000000001,
           0.8,
           "sparse"
          ],
          [
           0.004000000000000001,
           0.8,
           "sparse"
          ],
          [
           0.004000000000000001,
           0.8,
           "sparse"
          ],
          [
           0.004000000000000001,
           0.8,
           "dense"
          ],
          [
           0.004000000000000001,
           0.8,
           "dense"
          ],
          [
           0.004000000000000001,
           0.8,
           "dense"
          ],
          [
           0.004000000000000001,
           0.8,
           "dense"
          ],
          [
           0.004000000000000001,
           0.8,
           "dense"
          ],
          [
           0.004000000000000001,
           0.8,
           "dense"
          ],
          [
           0.004000000000000001,
           0.8,
           "dense"
          ],
          [
           0.004000000000000001,
           0.8,
           "dense"
          ],
          [
           0.004000000000000001,
           0.8,
           "dense"
          ],
          [
           0.004000000000000001,
           0.8,
           "dense"
          ],
          [
           0.0008000000000000003,
           0.8,
           "dense"
          ],
          [
           0.0008000000000000003,
           0.8,
           "dense"
          ],
          [
           0.0008000000000000003,
           0.8,
           "dense"
          ],
          [
           0.0008000000000000003,
           0.8,
           "dense"
          ],
          [
           0.0008000000000000003,
           0.8,
           "dense"
          ],
          [
           0.0008000000000000003,
           0.8,
           "dense"
          ],
          [
           0.0008000000000000003,
           0.8,
           "dense"
          ],
          [
           0.0008000000000000003,
           0.8,
           "dense"
          ],
          [
           0.0008000000000000003,
           0.8,
           "dense"
          ],
          [
           0.0008000000000000003,
           0.8,
           "dense"
          ],
          [
           0.0008000000000000003,
           0.8,
           "sparse"
          ],
          [
           0.0008000000000000003,
           0.8,
           "sparse"
          ],
          [
           0.0008000000000000003,
           0.8,
           "sparse"
          ],
          [
           0.0008000000000000003,
           0.8,
           "sparse"
          ],
          [
           0.0008000000000000003,
           0.8,
           "sparse"
          ],
          [
           0.0008000000000000003,
           0.8,
           "sparse"
          ],
          [
           0.0008000000000000003,
           0.8,
           "sparse"
          ],
          [
           0.0008000000000000003,
           0.8,
           "sparse"
          ],
          [
           0.0008000000000000003,
           0.8,
           "sparse"
          ],
          [
           0.0008000000000000003,
           0.8,
           "sparse"
          ],
          [
           0.0008000000000000003,
           0.8,
           "sparse"
          ],
          [
           0.0008000000000000003,
           0.8,
           "sparse"
          ],
          [
           0.0008000000000000003,
           0.8,
           "sparse"
          ],
          [
           0.0008000000000000003,
           0.8,
           "sparse"
          ],
          [
           0.0008000000000000003,
           0.8,
           "sparse"
          ],
          [
           0.0008000000000000003,
           0.8,
           "sparse"
          ],
          [
           0.0008000000000000003,
           0.8,
           "sparse"
          ],
          [
           0.0008000000000000003,
           0.8,
           "sparse"
          ],
          [
           0.0008000000000000003,
           0.8,
           "sparse"
          ],
          [
           0.0008000000000000003,
           0.8,
           "sparse"
          ],
          [
           0.0008000000000000003,
           0.8,
           "sparse"
          ],
          [
           0.0008000000000000003,
           0.8,
           "sparse"
          ],
          [
           0.0008000000000000003,
           0.8,
           "sparse"
          ],
          [
           0.0008000000000000003,
           0.8,
           "sparse"
          ],
          [
           0.0008000000000000003,
           0.8,
           "sparse"
          ],
          [
           0.0008000000000000003,
           0.8,
           "sparse"
          ],
          [
           0.0008000000000000003,
           0.8,
           "sparse"
          ],
          [
           0.0008000000000000003,
           0.8,
           "sparse"
          ],
          [
           0.0008000000000000003,
           0.8,
           "sparse"
          ],
          [
           0.0008000000000000003,
           0.8,
           "sparse"
          ]
         ],
         "hovertemplate": "pruning_type=block, abs min<br>epoch=%{x}<br>valid_accuracy=%{y}<br>learning_rate=%{customdata[0]}<br>final_sparsity_across_pruned_layers=%{customdata[1]}<br>phase=%{customdata[2]}<extra></extra>",
         "legendgroup": "block, abs min",
         "line": {
          "color": "#FFA526",
          "dash": "solid"
         },
         "marker": {
          "symbol": "circle"
         },
         "mode": "lines",
         "name": "block, abs min",
         "orientation": "v",
         "showlegend": true,
         "type": "scatter",
         "x": [
          1,
          2,
          3,
          4,
          5,
          6,
          7,
          8,
          9,
          10,
          11,
          12,
          13,
          14,
          15,
          16,
          17,
          18,
          19,
          20,
          21,
          22,
          23,
          24,
          25,
          26,
          27,
          28,
          29,
          30,
          31,
          32,
          33,
          34,
          35,
          36,
          37,
          38,
          39,
          40,
          41,
          42,
          43,
          44,
          45,
          46,
          47,
          48,
          49,
          50,
          51,
          52,
          53,
          54,
          55,
          56,
          57,
          58,
          59,
          60,
          61,
          62,
          63,
          64,
          65,
          66,
          67,
          68,
          69,
          70,
          71,
          72,
          73,
          74,
          75,
          76,
          77,
          78,
          79,
          80,
          81,
          82,
          83,
          84,
          85,
          86,
          87,
          88,
          89,
          90,
          91,
          92,
          93,
          94,
          95,
          96,
          97,
          98,
          99,
          100,
          101,
          102,
          103,
          104,
          105,
          106,
          107,
          108,
          109,
          110,
          111,
          112,
          113,
          114,
          115,
          116,
          117,
          118,
          119,
          120,
          121,
          122,
          123,
          124,
          125,
          126,
          127,
          128,
          129,
          130,
          131,
          132,
          133,
          134,
          135,
          136,
          137,
          138,
          139,
          140,
          141,
          142,
          143,
          144,
          145,
          146,
          147,
          148,
          149,
          150,
          151,
          152,
          153,
          154,
          155,
          156,
          157,
          158,
          159,
          160,
          161,
          162,
          163,
          164,
          165,
          166,
          167,
          168,
          169,
          170,
          171,
          172,
          173,
          174,
          175,
          176,
          177,
          178,
          179,
          180,
          181,
          182,
          183,
          184,
          185,
          186,
          187,
          188,
          189,
          190,
          191,
          192,
          193,
          194,
          195,
          196,
          197,
          198,
          199,
          200
         ],
         "xaxis": "x",
         "y": [
          15.0600004196167,
          24.219999313354492,
          27.6299991607666,
          33.099998474121094,
          37.060001373291016,
          41.709999084472656,
          45.529998779296875,
          48.16999816894531,
          48.40999984741211,
          46.720001220703125,
          43.04999923706055,
          49.869998931884766,
          50.33000183105469,
          52.04999923706055,
          49.130001068115234,
          54.790000915527344,
          47.9900016784668,
          50.77000045776367,
          56.06999969482422,
          52.529998779296875,
          52.86000061035156,
          53.810001373291016,
          55.90999984741211,
          52.959999084472656,
          54.38999938964844,
          55.18000030517578,
          58.65999984741211,
          56.79999923706055,
          54.13999938964844,
          60.689998626708984,
          52.709999084472656,
          52.849998474121094,
          57.540000915527344,
          60.41999816894531,
          58.880001068115234,
          55.61000061035156,
          57.599998474121094,
          53.0099983215332,
          58.34000015258789,
          57.709999084472656,
          58.61000061035156,
          60.279998779296875,
          57.81999969482422,
          56.93000030517578,
          56.540000915527344,
          50.810001373291016,
          61.630001068115234,
          60.959999084472656,
          59.75,
          58.060001373291016,
          53.75,
          53.189998626708984,
          56.599998474121094,
          57.9900016784668,
          55.630001068115234,
          54.650001525878906,
          57.95000076293945,
          58.900001525878906,
          57.54999923706055,
          58.11000061035156,
          75.01000213623047,
          75.66000366210938,
          75.5999984741211,
          75.26000213623047,
          74.52999877929688,
          73.81999969482422,
          73.83999633789062,
          72.29000091552734,
          72.86000061035156,
          72.26000213623047,
          67.47000122070312,
          70.2699966430664,
          69.91999816894531,
          70.55999755859375,
          70.52999877929688,
          69.58000183105469,
          72.48999786376953,
          70.19000244140625,
          69.80000305175781,
          68.5199966430664,
          69.97000122070312,
          70.08000183105469,
          71.41000366210938,
          70.26000213623047,
          69.29000091552734,
          71.52999877929688,
          70.33000183105469,
          70.22000122070312,
          70.08999633789062,
          71.5,
          62.970001220703125,
          66.47000122070312,
          68.7300033569336,
          68.88999938964844,
          69.77999877929688,
          68.56999969482422,
          69.81999969482422,
          69.16000366210938,
          68.33999633789062,
          67.7300033569336,
          70.12000274658203,
          69.37000274658203,
          71.56999969482422,
          69.23999786376953,
          69.3499984741211,
          69.87000274658203,
          69.16999816894531,
          70.0999984741211,
          68.5199966430664,
          70.83999633789062,
          62.720001220703125,
          66.72000122070312,
          66.94000244140625,
          67.61000061035156,
          70.2699966430664,
          70.30000305175781,
          69.05999755859375,
          68.98999786376953,
          70.22000122070312,
          69.61000061035156,
          78.08999633789062,
          78.19000244140625,
          78.43000030517578,
          78.55999755859375,
          78.30999755859375,
          78.4000015258789,
          78.54000091552734,
          78.54000091552734,
          78.81999969482422,
          78.58000183105469,
          76.33000183105469,
          76.69000244140625,
          77.08999633789062,
          77.1500015258789,
          77.25,
          77.41999816894531,
          77.41000366210938,
          77.31999969482422,
          77.37999725341797,
          77.02999877929688,
          77.18000030517578,
          77.36000061035156,
          77.58000183105469,
          77.51000213623047,
          77.58999633789062,
          77.79000091552734,
          77.41999816894531,
          77.58000183105469,
          77.19000244140625,
          77.55999755859375,
          69.43000030517578,
          70.93000030517578,
          71.80000305175781,
          74.19000244140625,
          73.80000305175781,
          74.37999725341797,
          75.27999877929688,
          74.86000061035156,
          76.22000122070312,
          75.30999755859375,
          77.9000015258789,
          78.08000183105469,
          78.27999877929688,
          78.30000305175781,
          78.33999633789062,
          78.61000061035156,
          78.69000244140625,
          78.72000122070312,
          78.55999755859375,
          78.6500015258789,
          77.25,
          77.61000061035156,
          77.44000244140625,
          77.87999725341797,
          77.62000274658203,
          77.95999908447266,
          78.04000091552734,
          78.05999755859375,
          78.01000213623047,
          77.66000366210938,
          78.13999938964844,
          77.88999938964844,
          78.45999908447266,
          78.06999969482422,
          78.30999755859375,
          78.2699966430664,
          78.31999969482422,
          77.91000366210938,
          78.05999755859375,
          78,
          78.18000030517578,
          78.02999877929688,
          78.18000030517578,
          78.45999908447266,
          78.33000183105469,
          78.04000091552734,
          78.27999877929688,
          78.29000091552734,
          77.98999786376953,
          77.97000122070312
         ],
         "yaxis": "y"
        },
        {
         "marker": {
          "opacity": 0,
          "size": 0
         },
         "mode": "markers",
         "name": "",
         "type": "scatter",
         "x": [
          null
         ],
         "y": [
          null
         ]
        },
        {
         "marker": {
          "color": "rgba(0, 0, 255, 0.2)",
          "size": 10
         },
         "mode": "markers",
         "name": "Sparse phase",
         "type": "scatter",
         "x": [
          null
         ],
         "y": [
          null
         ]
        },
        {
         "marker": {
          "color": "rgba(240, 240, 240, 1)",
          "size": 10
         },
         "mode": "markers",
         "name": "Dense phase",
         "type": "scatter",
         "x": [
          null
         ],
         "y": [
          null
         ]
        }
       ],
       "layout": {
        "font": {
         "size": 19
        },
        "height": 720,
        "legend": {
         "font": {
          "size": 17
         },
         "title": {
          "text": "Pruning method, Metric"
         },
         "tracegroupgap": 0
        },
        "margin": {
         "b": 50,
         "l": 50,
         "r": 50,
         "t": 70
        },
        "plot_bgcolor": "rgba(240, 240, 240, 1)",
        "shapes": [
         {
          "fillcolor": "rgba(0, 0, 255, 0.2)",
          "line": {
           "width": 0
          },
          "type": "rect",
          "x0": 11,
          "x1": 30,
          "y0": 10,
          "y1": 85
         },
         {
          "fillcolor": "rgba(0, 0, 255, 0.2)",
          "line": {
           "width": 0
          },
          "type": "rect",
          "x0": 51,
          "x1": 70,
          "y0": 10,
          "y1": 85
         },
         {
          "fillcolor": "rgba(0, 0, 255, 0.2)",
          "line": {
           "width": 0
          },
          "type": "rect",
          "x0": 91,
          "x1": 110,
          "y0": 10,
          "y1": 85
         },
         {
          "fillcolor": "rgba(0, 0, 255, 0.2)",
          "line": {
           "width": 0
          },
          "type": "rect",
          "x0": 131,
          "x1": 150,
          "y0": 10,
          "y1": 85
         },
         {
          "fillcolor": "rgba(0, 0, 255, 0.2)",
          "line": {
           "width": 0
          },
          "type": "rect",
          "x0": 171,
          "x1": 200,
          "y0": 10,
          "y1": 85
         }
        ],
        "template": {
         "data": {
          "bar": [
           {
            "error_x": {
             "color": "#2a3f5f"
            },
            "error_y": {
             "color": "#2a3f5f"
            },
            "marker": {
             "line": {
              "color": "#E5ECF6",
              "width": 0.5
             },
             "pattern": {
              "fillmode": "overlay",
              "size": 10,
              "solidity": 0.2
             }
            },
            "type": "bar"
           }
          ],
          "barpolar": [
           {
            "marker": {
             "line": {
              "color": "#E5ECF6",
              "width": 0.5
             },
             "pattern": {
              "fillmode": "overlay",
              "size": 10,
              "solidity": 0.2
             }
            },
            "type": "barpolar"
           }
          ],
          "carpet": [
           {
            "aaxis": {
             "endlinecolor": "#2a3f5f",
             "gridcolor": "white",
             "linecolor": "white",
             "minorgridcolor": "white",
             "startlinecolor": "#2a3f5f"
            },
            "baxis": {
             "endlinecolor": "#2a3f5f",
             "gridcolor": "white",
             "linecolor": "white",
             "minorgridcolor": "white",
             "startlinecolor": "#2a3f5f"
            },
            "type": "carpet"
           }
          ],
          "choropleth": [
           {
            "colorbar": {
             "outlinewidth": 0,
             "ticks": ""
            },
            "type": "choropleth"
           }
          ],
          "contour": [
           {
            "colorbar": {
             "outlinewidth": 0,
             "ticks": ""
            },
            "colorscale": [
             [
              0,
              "#0d0887"
             ],
             [
              0.1111111111111111,
              "#46039f"
             ],
             [
              0.2222222222222222,
              "#7201a8"
             ],
             [
              0.3333333333333333,
              "#9c179e"
             ],
             [
              0.4444444444444444,
              "#bd3786"
             ],
             [
              0.5555555555555556,
              "#d8576b"
             ],
             [
              0.6666666666666666,
              "#ed7953"
             ],
             [
              0.7777777777777778,
              "#fb9f3a"
             ],
             [
              0.8888888888888888,
              "#fdca26"
             ],
             [
              1,
              "#f0f921"
             ]
            ],
            "type": "contour"
           }
          ],
          "contourcarpet": [
           {
            "colorbar": {
             "outlinewidth": 0,
             "ticks": ""
            },
            "type": "contourcarpet"
           }
          ],
          "heatmap": [
           {
            "colorbar": {
             "outlinewidth": 0,
             "ticks": ""
            },
            "colorscale": [
             [
              0,
              "#0d0887"
             ],
             [
              0.1111111111111111,
              "#46039f"
             ],
             [
              0.2222222222222222,
              "#7201a8"
             ],
             [
              0.3333333333333333,
              "#9c179e"
             ],
             [
              0.4444444444444444,
              "#bd3786"
             ],
             [
              0.5555555555555556,
              "#d8576b"
             ],
             [
              0.6666666666666666,
              "#ed7953"
             ],
             [
              0.7777777777777778,
              "#fb9f3a"
             ],
             [
              0.8888888888888888,
              "#fdca26"
             ],
             [
              1,
              "#f0f921"
             ]
            ],
            "type": "heatmap"
           }
          ],
          "heatmapgl": [
           {
            "colorbar": {
             "outlinewidth": 0,
             "ticks": ""
            },
            "colorscale": [
             [
              0,
              "#0d0887"
             ],
             [
              0.1111111111111111,
              "#46039f"
             ],
             [
              0.2222222222222222,
              "#7201a8"
             ],
             [
              0.3333333333333333,
              "#9c179e"
             ],
             [
              0.4444444444444444,
              "#bd3786"
             ],
             [
              0.5555555555555556,
              "#d8576b"
             ],
             [
              0.6666666666666666,
              "#ed7953"
             ],
             [
              0.7777777777777778,
              "#fb9f3a"
             ],
             [
              0.8888888888888888,
              "#fdca26"
             ],
             [
              1,
              "#f0f921"
             ]
            ],
            "type": "heatmapgl"
           }
          ],
          "histogram": [
           {
            "marker": {
             "pattern": {
              "fillmode": "overlay",
              "size": 10,
              "solidity": 0.2
             }
            },
            "type": "histogram"
           }
          ],
          "histogram2d": [
           {
            "colorbar": {
             "outlinewidth": 0,
             "ticks": ""
            },
            "colorscale": [
             [
              0,
              "#0d0887"
             ],
             [
              0.1111111111111111,
              "#46039f"
             ],
             [
              0.2222222222222222,
              "#7201a8"
             ],
             [
              0.3333333333333333,
              "#9c179e"
             ],
             [
              0.4444444444444444,
              "#bd3786"
             ],
             [
              0.5555555555555556,
              "#d8576b"
             ],
             [
              0.6666666666666666,
              "#ed7953"
             ],
             [
              0.7777777777777778,
              "#fb9f3a"
             ],
             [
              0.8888888888888888,
              "#fdca26"
             ],
             [
              1,
              "#f0f921"
             ]
            ],
            "type": "histogram2d"
           }
          ],
          "histogram2dcontour": [
           {
            "colorbar": {
             "outlinewidth": 0,
             "ticks": ""
            },
            "colorscale": [
             [
              0,
              "#0d0887"
             ],
             [
              0.1111111111111111,
              "#46039f"
             ],
             [
              0.2222222222222222,
              "#7201a8"
             ],
             [
              0.3333333333333333,
              "#9c179e"
             ],
             [
              0.4444444444444444,
              "#bd3786"
             ],
             [
              0.5555555555555556,
              "#d8576b"
             ],
             [
              0.6666666666666666,
              "#ed7953"
             ],
             [
              0.7777777777777778,
              "#fb9f3a"
             ],
             [
              0.8888888888888888,
              "#fdca26"
             ],
             [
              1,
              "#f0f921"
             ]
            ],
            "type": "histogram2dcontour"
           }
          ],
          "mesh3d": [
           {
            "colorbar": {
             "outlinewidth": 0,
             "ticks": ""
            },
            "type": "mesh3d"
           }
          ],
          "parcoords": [
           {
            "line": {
             "colorbar": {
              "outlinewidth": 0,
              "ticks": ""
             }
            },
            "type": "parcoords"
           }
          ],
          "pie": [
           {
            "automargin": true,
            "type": "pie"
           }
          ],
          "scatter": [
           {
            "fillpattern": {
             "fillmode": "overlay",
             "size": 10,
             "solidity": 0.2
            },
            "type": "scatter"
           }
          ],
          "scatter3d": [
           {
            "line": {
             "colorbar": {
              "outlinewidth": 0,
              "ticks": ""
             }
            },
            "marker": {
             "colorbar": {
              "outlinewidth": 0,
              "ticks": ""
             }
            },
            "type": "scatter3d"
           }
          ],
          "scattercarpet": [
           {
            "marker": {
             "colorbar": {
              "outlinewidth": 0,
              "ticks": ""
             }
            },
            "type": "scattercarpet"
           }
          ],
          "scattergeo": [
           {
            "marker": {
             "colorbar": {
              "outlinewidth": 0,
              "ticks": ""
             }
            },
            "type": "scattergeo"
           }
          ],
          "scattergl": [
           {
            "marker": {
             "colorbar": {
              "outlinewidth": 0,
              "ticks": ""
             }
            },
            "type": "scattergl"
           }
          ],
          "scattermapbox": [
           {
            "marker": {
             "colorbar": {
              "outlinewidth": 0,
              "ticks": ""
             }
            },
            "type": "scattermapbox"
           }
          ],
          "scatterpolar": [
           {
            "marker": {
             "colorbar": {
              "outlinewidth": 0,
              "ticks": ""
             }
            },
            "type": "scatterpolar"
           }
          ],
          "scatterpolargl": [
           {
            "marker": {
             "colorbar": {
              "outlinewidth": 0,
              "ticks": ""
             }
            },
            "type": "scatterpolargl"
           }
          ],
          "scatterternary": [
           {
            "marker": {
             "colorbar": {
              "outlinewidth": 0,
              "ticks": ""
             }
            },
            "type": "scatterternary"
           }
          ],
          "surface": [
           {
            "colorbar": {
             "outlinewidth": 0,
             "ticks": ""
            },
            "colorscale": [
             [
              0,
              "#0d0887"
             ],
             [
              0.1111111111111111,
              "#46039f"
             ],
             [
              0.2222222222222222,
              "#7201a8"
             ],
             [
              0.3333333333333333,
              "#9c179e"
             ],
             [
              0.4444444444444444,
              "#bd3786"
             ],
             [
              0.5555555555555556,
              "#d8576b"
             ],
             [
              0.6666666666666666,
              "#ed7953"
             ],
             [
              0.7777777777777778,
              "#fb9f3a"
             ],
             [
              0.8888888888888888,
              "#fdca26"
             ],
             [
              1,
              "#f0f921"
             ]
            ],
            "type": "surface"
           }
          ],
          "table": [
           {
            "cells": {
             "fill": {
              "color": "#EBF0F8"
             },
             "line": {
              "color": "white"
             }
            },
            "header": {
             "fill": {
              "color": "#C8D4E3"
             },
             "line": {
              "color": "white"
             }
            },
            "type": "table"
           }
          ]
         },
         "layout": {
          "annotationdefaults": {
           "arrowcolor": "#2a3f5f",
           "arrowhead": 0,
           "arrowwidth": 1
          },
          "autotypenumbers": "strict",
          "coloraxis": {
           "colorbar": {
            "outlinewidth": 0,
            "ticks": ""
           }
          },
          "colorscale": {
           "diverging": [
            [
             0,
             "#8e0152"
            ],
            [
             0.1,
             "#c51b7d"
            ],
            [
             0.2,
             "#de77ae"
            ],
            [
             0.3,
             "#f1b6da"
            ],
            [
             0.4,
             "#fde0ef"
            ],
            [
             0.5,
             "#f7f7f7"
            ],
            [
             0.6,
             "#e6f5d0"
            ],
            [
             0.7,
             "#b8e186"
            ],
            [
             0.8,
             "#7fbc41"
            ],
            [
             0.9,
             "#4d9221"
            ],
            [
             1,
             "#276419"
            ]
           ],
           "sequential": [
            [
             0,
             "#0d0887"
            ],
            [
             0.1111111111111111,
             "#46039f"
            ],
            [
             0.2222222222222222,
             "#7201a8"
            ],
            [
             0.3333333333333333,
             "#9c179e"
            ],
            [
             0.4444444444444444,
             "#bd3786"
            ],
            [
             0.5555555555555556,
             "#d8576b"
            ],
            [
             0.6666666666666666,
             "#ed7953"
            ],
            [
             0.7777777777777778,
             "#fb9f3a"
            ],
            [
             0.8888888888888888,
             "#fdca26"
            ],
            [
             1,
             "#f0f921"
            ]
           ],
           "sequentialminus": [
            [
             0,
             "#0d0887"
            ],
            [
             0.1111111111111111,
             "#46039f"
            ],
            [
             0.2222222222222222,
             "#7201a8"
            ],
            [
             0.3333333333333333,
             "#9c179e"
            ],
            [
             0.4444444444444444,
             "#bd3786"
            ],
            [
             0.5555555555555556,
             "#d8576b"
            ],
            [
             0.6666666666666666,
             "#ed7953"
            ],
            [
             0.7777777777777778,
             "#fb9f3a"
            ],
            [
             0.8888888888888888,
             "#fdca26"
            ],
            [
             1,
             "#f0f921"
            ]
           ]
          },
          "colorway": [
           "#636efa",
           "#EF553B",
           "#00cc96",
           "#ab63fa",
           "#FFA15A",
           "#19d3f3",
           "#FF6692",
           "#B6E880",
           "#FF97FF",
           "#FECB52"
          ],
          "font": {
           "color": "#2a3f5f"
          },
          "geo": {
           "bgcolor": "white",
           "lakecolor": "white",
           "landcolor": "#E5ECF6",
           "showlakes": true,
           "showland": true,
           "subunitcolor": "white"
          },
          "hoverlabel": {
           "align": "left"
          },
          "hovermode": "closest",
          "mapbox": {
           "style": "light"
          },
          "paper_bgcolor": "white",
          "plot_bgcolor": "#E5ECF6",
          "polar": {
           "angularaxis": {
            "gridcolor": "white",
            "linecolor": "white",
            "ticks": ""
           },
           "bgcolor": "#E5ECF6",
           "radialaxis": {
            "gridcolor": "white",
            "linecolor": "white",
            "ticks": ""
           }
          },
          "scene": {
           "xaxis": {
            "backgroundcolor": "#E5ECF6",
            "gridcolor": "white",
            "gridwidth": 2,
            "linecolor": "white",
            "showbackground": true,
            "ticks": "",
            "zerolinecolor": "white"
           },
           "yaxis": {
            "backgroundcolor": "#E5ECF6",
            "gridcolor": "white",
            "gridwidth": 2,
            "linecolor": "white",
            "showbackground": true,
            "ticks": "",
            "zerolinecolor": "white"
           },
           "zaxis": {
            "backgroundcolor": "#E5ECF6",
            "gridcolor": "white",
            "gridwidth": 2,
            "linecolor": "white",
            "showbackground": true,
            "ticks": "",
            "zerolinecolor": "white"
           }
          },
          "shapedefaults": {
           "line": {
            "color": "#2a3f5f"
           }
          },
          "ternary": {
           "aaxis": {
            "gridcolor": "white",
            "linecolor": "white",
            "ticks": ""
           },
           "baxis": {
            "gridcolor": "white",
            "linecolor": "white",
            "ticks": ""
           },
           "bgcolor": "#E5ECF6",
           "caxis": {
            "gridcolor": "white",
            "linecolor": "white",
            "ticks": ""
           }
          },
          "title": {
           "x": 0.05
          },
          "xaxis": {
           "automargin": true,
           "gridcolor": "white",
           "linecolor": "white",
           "ticks": "",
           "title": {
            "standoff": 15
           },
           "zerolinecolor": "white",
           "zerolinewidth": 2
          },
          "yaxis": {
           "automargin": true,
           "gridcolor": "white",
           "linecolor": "white",
           "ticks": "",
           "title": {
            "standoff": 15
           },
           "zerolinecolor": "white",
           "zerolinewidth": 2
          }
         }
        },
        "title": {
         "font": {
          "size": 22
         },
         "text": "AC/DC",
         "x": 0.41,
         "y": 0.95
        },
        "width": 960,
        "xaxis": {
         "anchor": "y",
         "domain": [
          0,
          1
         ],
         "title": {
          "font": {
           "size": 19
          },
          "text": "Epoch"
         }
        },
        "yaxis": {
         "anchor": "x",
         "domain": [
          0,
          1
         ],
         "range": [
          10,
          85
         ],
         "title": {
          "font": {
           "size": 19
          },
          "text": "Validation accuracy [%]"
         }
        }
       }
      }
     },
     "metadata": {},
     "output_type": "display_data"
    }
   ],
   "source": [
    "create_visualisation_accuracy_over_epochs(df, title='AC/DC')"
   ]
  }
 ],
 "metadata": {
  "kernelspec": {
   "display_name": "diplomovka_new",
   "language": "python",
   "name": "python3"
  },
  "language_info": {
   "codemirror_mode": {
    "name": "ipython",
    "version": 3
   },
   "file_extension": ".py",
   "mimetype": "text/x-python",
   "name": "python",
   "nbconvert_exporter": "python",
   "pygments_lexer": "ipython3",
   "version": "3.11.11"
  }
 },
 "nbformat": 4,
 "nbformat_minor": 2
}
