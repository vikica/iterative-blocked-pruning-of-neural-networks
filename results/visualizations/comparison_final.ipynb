{
 "cells": [
  {
   "cell_type": "code",
   "execution_count": 1,
   "id": "daa971b4",
   "metadata": {},
   "outputs": [],
   "source": [
    "import pandas as pd\n",
    "import matplotlib.pyplot as plt\n",
    "import plotly.express as px\n",
    "import plotly.graph_objects as go\n",
    "import json\n",
    "from plotly.subplots import make_subplots\n",
    "import plotly.io as pio"
   ]
  },
  {
   "cell_type": "code",
   "execution_count": 2,
   "id": "2380bad4",
   "metadata": {},
   "outputs": [
    {
     "data": {
      "text/html": [
       "<div>\n",
       "<style scoped>\n",
       "    .dataframe tbody tr th:only-of-type {\n",
       "        vertical-align: middle;\n",
       "    }\n",
       "\n",
       "    .dataframe tbody tr th {\n",
       "        vertical-align: top;\n",
       "    }\n",
       "\n",
       "    .dataframe thead th {\n",
       "        text-align: right;\n",
       "    }\n",
       "</style>\n",
       "<table border=\"1\" class=\"dataframe\">\n",
       "  <thead>\n",
       "    <tr style=\"text-align: right;\">\n",
       "      <th></th>\n",
       "      <th>seed</th>\n",
       "      <th>group</th>\n",
       "      <th>pruning_method</th>\n",
       "      <th>metric</th>\n",
       "      <th>sparsity</th>\n",
       "      <th>valid_accuracy</th>\n",
       "    </tr>\n",
       "  </thead>\n",
       "  <tbody>\n",
       "    <tr>\n",
       "      <th>0</th>\n",
       "      <td>31</td>\n",
       "      <td>Base Experiments</td>\n",
       "      <td>unstructured</td>\n",
       "      <td>L1 norm</td>\n",
       "      <td>80</td>\n",
       "      <td>80.850000</td>\n",
       "    </tr>\n",
       "    <tr>\n",
       "      <th>1</th>\n",
       "      <td>31</td>\n",
       "      <td>Base Experiments</td>\n",
       "      <td>block</td>\n",
       "      <td>abs max</td>\n",
       "      <td>80</td>\n",
       "      <td>80.370003</td>\n",
       "    </tr>\n",
       "    <tr>\n",
       "      <th>2</th>\n",
       "      <td>31</td>\n",
       "      <td>Base Experiments</td>\n",
       "      <td>block iterative</td>\n",
       "      <td>abs max</td>\n",
       "      <td>80</td>\n",
       "      <td>80.599998</td>\n",
       "    </tr>\n",
       "    <tr>\n",
       "      <th>3</th>\n",
       "      <td>31</td>\n",
       "      <td>Base Experiments</td>\n",
       "      <td>block</td>\n",
       "      <td>abs min</td>\n",
       "      <td>80</td>\n",
       "      <td>78.790001</td>\n",
       "    </tr>\n",
       "    <tr>\n",
       "      <th>4</th>\n",
       "      <td>31</td>\n",
       "      <td>Base Experiments</td>\n",
       "      <td>block iterative</td>\n",
       "      <td>abs min</td>\n",
       "      <td>80</td>\n",
       "      <td>79.529999</td>\n",
       "    </tr>\n",
       "  </tbody>\n",
       "</table>\n",
       "</div>"
      ],
      "text/plain": [
       "   seed             group   pruning_method   metric  sparsity  valid_accuracy\n",
       "0    31  Base Experiments     unstructured  L1 norm        80       80.850000\n",
       "1    31  Base Experiments            block  abs max        80       80.370003\n",
       "2    31  Base Experiments  block iterative  abs max        80       80.599998\n",
       "3    31  Base Experiments            block  abs min        80       78.790001\n",
       "4    31  Base Experiments  block iterative  abs min        80       79.529999"
      ]
     },
     "execution_count": 2,
     "metadata": {},
     "output_type": "execute_result"
    }
   ],
   "source": [
    "path = 'data_for_boxplots_allseeds.xlsx'\n",
    "df = pd.read_excel(path)\n",
    "df.head(5)"
   ]
  },
  {
   "cell_type": "code",
   "execution_count": 3,
   "id": "949230b2",
   "metadata": {},
   "outputs": [],
   "source": [
    "df = df.fillna('none')\n",
    "df['pruning_method'] = df['pruning_method'].replace('block iterative', 'block iterative (2 steps)')\n",
    "df['experiment'] = df['pruning_method'] #+ ', ' + df['metric']"
   ]
  },
  {
   "cell_type": "code",
   "execution_count": 4,
   "id": "c9ea0649",
   "metadata": {},
   "outputs": [
    {
     "data": {
      "text/html": [
       "<div>\n",
       "<style scoped>\n",
       "    .dataframe tbody tr th:only-of-type {\n",
       "        vertical-align: middle;\n",
       "    }\n",
       "\n",
       "    .dataframe tbody tr th {\n",
       "        vertical-align: top;\n",
       "    }\n",
       "\n",
       "    .dataframe thead th {\n",
       "        text-align: right;\n",
       "    }\n",
       "</style>\n",
       "<table border=\"1\" class=\"dataframe\">\n",
       "  <thead>\n",
       "    <tr style=\"text-align: right;\">\n",
       "      <th></th>\n",
       "      <th>seed</th>\n",
       "      <th>group</th>\n",
       "      <th>pruning_method</th>\n",
       "      <th>metric</th>\n",
       "      <th>sparsity</th>\n",
       "      <th>valid_accuracy</th>\n",
       "      <th>experiment</th>\n",
       "    </tr>\n",
       "  </thead>\n",
       "  <tbody>\n",
       "    <tr>\n",
       "      <th>9</th>\n",
       "      <td>31</td>\n",
       "      <td>Base Experiments</td>\n",
       "      <td>unstructured</td>\n",
       "      <td>L1 norm</td>\n",
       "      <td>90</td>\n",
       "      <td>80.610001</td>\n",
       "      <td>unstructured</td>\n",
       "    </tr>\n",
       "    <tr>\n",
       "      <th>10</th>\n",
       "      <td>31</td>\n",
       "      <td>Base Experiments</td>\n",
       "      <td>block</td>\n",
       "      <td>abs max</td>\n",
       "      <td>90</td>\n",
       "      <td>78.730003</td>\n",
       "      <td>block</td>\n",
       "    </tr>\n",
       "    <tr>\n",
       "      <th>11</th>\n",
       "      <td>31</td>\n",
       "      <td>Base Experiments</td>\n",
       "      <td>block iterative (2 steps)</td>\n",
       "      <td>abs max</td>\n",
       "      <td>90</td>\n",
       "      <td>79.419998</td>\n",
       "      <td>block iterative (2 steps)</td>\n",
       "    </tr>\n",
       "    <tr>\n",
       "      <th>12</th>\n",
       "      <td>31</td>\n",
       "      <td>Base Experiments</td>\n",
       "      <td>block</td>\n",
       "      <td>abs min</td>\n",
       "      <td>90</td>\n",
       "      <td>76.400002</td>\n",
       "      <td>block</td>\n",
       "    </tr>\n",
       "    <tr>\n",
       "      <th>13</th>\n",
       "      <td>31</td>\n",
       "      <td>Base Experiments</td>\n",
       "      <td>block iterative (2 steps)</td>\n",
       "      <td>abs min</td>\n",
       "      <td>90</td>\n",
       "      <td>78.589996</td>\n",
       "      <td>block iterative (2 steps)</td>\n",
       "    </tr>\n",
       "    <tr>\n",
       "      <th>14</th>\n",
       "      <td>31</td>\n",
       "      <td>Base Experiments</td>\n",
       "      <td>block</td>\n",
       "      <td>L1 norm</td>\n",
       "      <td>90</td>\n",
       "      <td>77.040001</td>\n",
       "      <td>block</td>\n",
       "    </tr>\n",
       "    <tr>\n",
       "      <th>15</th>\n",
       "      <td>31</td>\n",
       "      <td>Base Experiments</td>\n",
       "      <td>block iterative (2 steps)</td>\n",
       "      <td>L1 norm</td>\n",
       "      <td>90</td>\n",
       "      <td>79.040001</td>\n",
       "      <td>block iterative (2 steps)</td>\n",
       "    </tr>\n",
       "    <tr>\n",
       "      <th>16</th>\n",
       "      <td>31</td>\n",
       "      <td>Base Experiments</td>\n",
       "      <td>block</td>\n",
       "      <td>L2 norm</td>\n",
       "      <td>90</td>\n",
       "      <td>77.680000</td>\n",
       "      <td>block</td>\n",
       "    </tr>\n",
       "    <tr>\n",
       "      <th>17</th>\n",
       "      <td>31</td>\n",
       "      <td>Base Experiments</td>\n",
       "      <td>block iterative (2 steps)</td>\n",
       "      <td>L2 norm</td>\n",
       "      <td>90</td>\n",
       "      <td>78.800003</td>\n",
       "      <td>block iterative (2 steps)</td>\n",
       "    </tr>\n",
       "    <tr>\n",
       "      <th>18</th>\n",
       "      <td>31</td>\n",
       "      <td>Dense Baseline</td>\n",
       "      <td>none</td>\n",
       "      <td>none</td>\n",
       "      <td>0</td>\n",
       "      <td>81.150002</td>\n",
       "      <td>none</td>\n",
       "    </tr>\n",
       "    <tr>\n",
       "      <th>24</th>\n",
       "      <td>31</td>\n",
       "      <td>AC/DC</td>\n",
       "      <td>unstructured</td>\n",
       "      <td>L1 norm</td>\n",
       "      <td>90</td>\n",
       "      <td>80.449997</td>\n",
       "      <td>unstructured</td>\n",
       "    </tr>\n",
       "    <tr>\n",
       "      <th>25</th>\n",
       "      <td>31</td>\n",
       "      <td>AC/DC</td>\n",
       "      <td>block</td>\n",
       "      <td>abs max</td>\n",
       "      <td>90</td>\n",
       "      <td>77.230003</td>\n",
       "      <td>block</td>\n",
       "    </tr>\n",
       "    <tr>\n",
       "      <th>26</th>\n",
       "      <td>31</td>\n",
       "      <td>AC/DC</td>\n",
       "      <td>block</td>\n",
       "      <td>abs min</td>\n",
       "      <td>90</td>\n",
       "      <td>76.930000</td>\n",
       "      <td>block</td>\n",
       "    </tr>\n",
       "    <tr>\n",
       "      <th>27</th>\n",
       "      <td>31</td>\n",
       "      <td>AC/DC</td>\n",
       "      <td>block</td>\n",
       "      <td>L1 norm</td>\n",
       "      <td>90</td>\n",
       "      <td>75.660004</td>\n",
       "      <td>block</td>\n",
       "    </tr>\n",
       "    <tr>\n",
       "      <th>28</th>\n",
       "      <td>31</td>\n",
       "      <td>AC/DC</td>\n",
       "      <td>block</td>\n",
       "      <td>L2 norm</td>\n",
       "      <td>90</td>\n",
       "      <td>75.160004</td>\n",
       "      <td>block</td>\n",
       "    </tr>\n",
       "    <tr>\n",
       "      <th>31</th>\n",
       "      <td>31</td>\n",
       "      <td>AC/DC (alt.LR)</td>\n",
       "      <td>unstructured</td>\n",
       "      <td>L1 norm</td>\n",
       "      <td>90</td>\n",
       "      <td>79.980003</td>\n",
       "      <td>unstructured</td>\n",
       "    </tr>\n",
       "    <tr>\n",
       "      <th>32</th>\n",
       "      <td>31</td>\n",
       "      <td>AC/DC (alt.LR)</td>\n",
       "      <td>block</td>\n",
       "      <td>abs max</td>\n",
       "      <td>90</td>\n",
       "      <td>77.260002</td>\n",
       "      <td>block</td>\n",
       "    </tr>\n",
       "    <tr>\n",
       "      <th>34</th>\n",
       "      <td>31</td>\n",
       "      <td>Other</td>\n",
       "      <td>iterative unstructured to block</td>\n",
       "      <td>L1 norm then abs max</td>\n",
       "      <td>90</td>\n",
       "      <td>78.919998</td>\n",
       "      <td>iterative unstructured to block</td>\n",
       "    </tr>\n",
       "    <tr>\n",
       "      <th>35</th>\n",
       "      <td>31</td>\n",
       "      <td>Other</td>\n",
       "      <td>block iterative (multiple steps)</td>\n",
       "      <td>abs max</td>\n",
       "      <td>90</td>\n",
       "      <td>79.910004</td>\n",
       "      <td>block iterative (multiple steps)</td>\n",
       "    </tr>\n",
       "    <tr>\n",
       "      <th>36</th>\n",
       "      <td>31</td>\n",
       "      <td>Gradual Pruning</td>\n",
       "      <td>block stepwise gradual</td>\n",
       "      <td>abs max</td>\n",
       "      <td>90</td>\n",
       "      <td>79.889999</td>\n",
       "      <td>block stepwise gradual</td>\n",
       "    </tr>\n",
       "    <tr>\n",
       "      <th>46</th>\n",
       "      <td>40</td>\n",
       "      <td>Base Experiments</td>\n",
       "      <td>unstructured</td>\n",
       "      <td>L1 norm</td>\n",
       "      <td>90</td>\n",
       "      <td>80.730003</td>\n",
       "      <td>unstructured</td>\n",
       "    </tr>\n",
       "    <tr>\n",
       "      <th>47</th>\n",
       "      <td>40</td>\n",
       "      <td>Base Experiments</td>\n",
       "      <td>block</td>\n",
       "      <td>abs max</td>\n",
       "      <td>90</td>\n",
       "      <td>78.760002</td>\n",
       "      <td>block</td>\n",
       "    </tr>\n",
       "    <tr>\n",
       "      <th>48</th>\n",
       "      <td>40</td>\n",
       "      <td>Base Experiments</td>\n",
       "      <td>block iterative (2 steps)</td>\n",
       "      <td>abs max</td>\n",
       "      <td>90</td>\n",
       "      <td>79.639999</td>\n",
       "      <td>block iterative (2 steps)</td>\n",
       "    </tr>\n",
       "    <tr>\n",
       "      <th>49</th>\n",
       "      <td>40</td>\n",
       "      <td>Base Experiments</td>\n",
       "      <td>block</td>\n",
       "      <td>abs min</td>\n",
       "      <td>90</td>\n",
       "      <td>76.519997</td>\n",
       "      <td>block</td>\n",
       "    </tr>\n",
       "    <tr>\n",
       "      <th>50</th>\n",
       "      <td>40</td>\n",
       "      <td>Base Experiments</td>\n",
       "      <td>block iterative (2 steps)</td>\n",
       "      <td>abs min</td>\n",
       "      <td>90</td>\n",
       "      <td>78.260002</td>\n",
       "      <td>block iterative (2 steps)</td>\n",
       "    </tr>\n",
       "    <tr>\n",
       "      <th>51</th>\n",
       "      <td>40</td>\n",
       "      <td>Base Experiments</td>\n",
       "      <td>block</td>\n",
       "      <td>L1 norm</td>\n",
       "      <td>90</td>\n",
       "      <td>76.080002</td>\n",
       "      <td>block</td>\n",
       "    </tr>\n",
       "    <tr>\n",
       "      <th>52</th>\n",
       "      <td>40</td>\n",
       "      <td>Base Experiments</td>\n",
       "      <td>block iterative (2 steps)</td>\n",
       "      <td>L1 norm</td>\n",
       "      <td>90</td>\n",
       "      <td>78.370003</td>\n",
       "      <td>block iterative (2 steps)</td>\n",
       "    </tr>\n",
       "    <tr>\n",
       "      <th>53</th>\n",
       "      <td>40</td>\n",
       "      <td>Base Experiments</td>\n",
       "      <td>block</td>\n",
       "      <td>L2 norm</td>\n",
       "      <td>90</td>\n",
       "      <td>77.860001</td>\n",
       "      <td>block</td>\n",
       "    </tr>\n",
       "    <tr>\n",
       "      <th>54</th>\n",
       "      <td>40</td>\n",
       "      <td>Base Experiments</td>\n",
       "      <td>block iterative (2 steps)</td>\n",
       "      <td>L2 norm</td>\n",
       "      <td>90</td>\n",
       "      <td>79.320000</td>\n",
       "      <td>block iterative (2 steps)</td>\n",
       "    </tr>\n",
       "    <tr>\n",
       "      <th>55</th>\n",
       "      <td>40</td>\n",
       "      <td>Dense Baseline</td>\n",
       "      <td>none</td>\n",
       "      <td>none</td>\n",
       "      <td>0</td>\n",
       "      <td>81.040001</td>\n",
       "      <td>none</td>\n",
       "    </tr>\n",
       "    <tr>\n",
       "      <th>61</th>\n",
       "      <td>40</td>\n",
       "      <td>AC/DC</td>\n",
       "      <td>unstructured</td>\n",
       "      <td>L1 norm</td>\n",
       "      <td>90</td>\n",
       "      <td>79.930000</td>\n",
       "      <td>unstructured</td>\n",
       "    </tr>\n",
       "    <tr>\n",
       "      <th>62</th>\n",
       "      <td>40</td>\n",
       "      <td>AC/DC</td>\n",
       "      <td>block</td>\n",
       "      <td>abs max</td>\n",
       "      <td>90</td>\n",
       "      <td>78.050003</td>\n",
       "      <td>block</td>\n",
       "    </tr>\n",
       "    <tr>\n",
       "      <th>63</th>\n",
       "      <td>40</td>\n",
       "      <td>AC/DC</td>\n",
       "      <td>block</td>\n",
       "      <td>abs min</td>\n",
       "      <td>90</td>\n",
       "      <td>75.919998</td>\n",
       "      <td>block</td>\n",
       "    </tr>\n",
       "    <tr>\n",
       "      <th>64</th>\n",
       "      <td>40</td>\n",
       "      <td>AC/DC</td>\n",
       "      <td>block</td>\n",
       "      <td>L1 norm</td>\n",
       "      <td>90</td>\n",
       "      <td>75.820000</td>\n",
       "      <td>block</td>\n",
       "    </tr>\n",
       "    <tr>\n",
       "      <th>65</th>\n",
       "      <td>40</td>\n",
       "      <td>AC/DC</td>\n",
       "      <td>block</td>\n",
       "      <td>L2 norm</td>\n",
       "      <td>90</td>\n",
       "      <td>75.150002</td>\n",
       "      <td>block</td>\n",
       "    </tr>\n",
       "    <tr>\n",
       "      <th>68</th>\n",
       "      <td>40</td>\n",
       "      <td>AC/DC (alt.LR)</td>\n",
       "      <td>unstructured</td>\n",
       "      <td>L1 norm</td>\n",
       "      <td>90</td>\n",
       "      <td>80.250000</td>\n",
       "      <td>unstructured</td>\n",
       "    </tr>\n",
       "    <tr>\n",
       "      <th>69</th>\n",
       "      <td>40</td>\n",
       "      <td>AC/DC (alt.LR)</td>\n",
       "      <td>block</td>\n",
       "      <td>abs max</td>\n",
       "      <td>90</td>\n",
       "      <td>77.120003</td>\n",
       "      <td>block</td>\n",
       "    </tr>\n",
       "    <tr>\n",
       "      <th>71</th>\n",
       "      <td>40</td>\n",
       "      <td>Other</td>\n",
       "      <td>iterative unstructured to block</td>\n",
       "      <td>L1 norm then abs max</td>\n",
       "      <td>90</td>\n",
       "      <td>78.400002</td>\n",
       "      <td>iterative unstructured to block</td>\n",
       "    </tr>\n",
       "    <tr>\n",
       "      <th>72</th>\n",
       "      <td>40</td>\n",
       "      <td>Other</td>\n",
       "      <td>block iterative (multiple steps)</td>\n",
       "      <td>abs max</td>\n",
       "      <td>90</td>\n",
       "      <td>79.720001</td>\n",
       "      <td>block iterative (multiple steps)</td>\n",
       "    </tr>\n",
       "    <tr>\n",
       "      <th>73</th>\n",
       "      <td>40</td>\n",
       "      <td>Gradual Pruning</td>\n",
       "      <td>block stepwise gradual</td>\n",
       "      <td>abs max</td>\n",
       "      <td>90</td>\n",
       "      <td>79.970001</td>\n",
       "      <td>block stepwise gradual</td>\n",
       "    </tr>\n",
       "    <tr>\n",
       "      <th>83</th>\n",
       "      <td>71</td>\n",
       "      <td>Base Experiments</td>\n",
       "      <td>unstructured</td>\n",
       "      <td>L1 norm</td>\n",
       "      <td>90</td>\n",
       "      <td>80.809998</td>\n",
       "      <td>unstructured</td>\n",
       "    </tr>\n",
       "    <tr>\n",
       "      <th>84</th>\n",
       "      <td>71</td>\n",
       "      <td>Base Experiments</td>\n",
       "      <td>block</td>\n",
       "      <td>abs max</td>\n",
       "      <td>90</td>\n",
       "      <td>78.650002</td>\n",
       "      <td>block</td>\n",
       "    </tr>\n",
       "    <tr>\n",
       "      <th>85</th>\n",
       "      <td>71</td>\n",
       "      <td>Base Experiments</td>\n",
       "      <td>block iterative (2 steps)</td>\n",
       "      <td>abs max</td>\n",
       "      <td>90</td>\n",
       "      <td>79.709999</td>\n",
       "      <td>block iterative (2 steps)</td>\n",
       "    </tr>\n",
       "    <tr>\n",
       "      <th>86</th>\n",
       "      <td>71</td>\n",
       "      <td>Base Experiments</td>\n",
       "      <td>block</td>\n",
       "      <td>abs min</td>\n",
       "      <td>90</td>\n",
       "      <td>75.860001</td>\n",
       "      <td>block</td>\n",
       "    </tr>\n",
       "    <tr>\n",
       "      <th>87</th>\n",
       "      <td>71</td>\n",
       "      <td>Base Experiments</td>\n",
       "      <td>block iterative (2 steps)</td>\n",
       "      <td>abs min</td>\n",
       "      <td>90</td>\n",
       "      <td>77.459999</td>\n",
       "      <td>block iterative (2 steps)</td>\n",
       "    </tr>\n",
       "    <tr>\n",
       "      <th>88</th>\n",
       "      <td>71</td>\n",
       "      <td>Base Experiments</td>\n",
       "      <td>block</td>\n",
       "      <td>L1 norm</td>\n",
       "      <td>90</td>\n",
       "      <td>76.599998</td>\n",
       "      <td>block</td>\n",
       "    </tr>\n",
       "    <tr>\n",
       "      <th>89</th>\n",
       "      <td>71</td>\n",
       "      <td>Base Experiments</td>\n",
       "      <td>block iterative (2 steps)</td>\n",
       "      <td>L1 norm</td>\n",
       "      <td>90</td>\n",
       "      <td>78.360001</td>\n",
       "      <td>block iterative (2 steps)</td>\n",
       "    </tr>\n",
       "    <tr>\n",
       "      <th>90</th>\n",
       "      <td>71</td>\n",
       "      <td>Base Experiments</td>\n",
       "      <td>block</td>\n",
       "      <td>L2 norm</td>\n",
       "      <td>90</td>\n",
       "      <td>78.080002</td>\n",
       "      <td>block</td>\n",
       "    </tr>\n",
       "    <tr>\n",
       "      <th>91</th>\n",
       "      <td>71</td>\n",
       "      <td>Base Experiments</td>\n",
       "      <td>block iterative (2 steps)</td>\n",
       "      <td>L2 norm</td>\n",
       "      <td>90</td>\n",
       "      <td>78.809998</td>\n",
       "      <td>block iterative (2 steps)</td>\n",
       "    </tr>\n",
       "    <tr>\n",
       "      <th>92</th>\n",
       "      <td>71</td>\n",
       "      <td>Dense Baseline</td>\n",
       "      <td>none</td>\n",
       "      <td>none</td>\n",
       "      <td>0</td>\n",
       "      <td>80.690002</td>\n",
       "      <td>none</td>\n",
       "    </tr>\n",
       "    <tr>\n",
       "      <th>98</th>\n",
       "      <td>71</td>\n",
       "      <td>AC/DC</td>\n",
       "      <td>unstructured</td>\n",
       "      <td>L1 norm</td>\n",
       "      <td>90</td>\n",
       "      <td>79.930000</td>\n",
       "      <td>unstructured</td>\n",
       "    </tr>\n",
       "    <tr>\n",
       "      <th>99</th>\n",
       "      <td>71</td>\n",
       "      <td>AC/DC</td>\n",
       "      <td>block</td>\n",
       "      <td>abs max</td>\n",
       "      <td>90</td>\n",
       "      <td>78.080002</td>\n",
       "      <td>block</td>\n",
       "    </tr>\n",
       "    <tr>\n",
       "      <th>100</th>\n",
       "      <td>71</td>\n",
       "      <td>AC/DC</td>\n",
       "      <td>block</td>\n",
       "      <td>abs min</td>\n",
       "      <td>90</td>\n",
       "      <td>76.610001</td>\n",
       "      <td>block</td>\n",
       "    </tr>\n",
       "    <tr>\n",
       "      <th>101</th>\n",
       "      <td>71</td>\n",
       "      <td>AC/DC</td>\n",
       "      <td>block</td>\n",
       "      <td>L1 norm</td>\n",
       "      <td>90</td>\n",
       "      <td>76.320000</td>\n",
       "      <td>block</td>\n",
       "    </tr>\n",
       "    <tr>\n",
       "      <th>102</th>\n",
       "      <td>71</td>\n",
       "      <td>AC/DC</td>\n",
       "      <td>block</td>\n",
       "      <td>L2 norm</td>\n",
       "      <td>90</td>\n",
       "      <td>75.419998</td>\n",
       "      <td>block</td>\n",
       "    </tr>\n",
       "    <tr>\n",
       "      <th>105</th>\n",
       "      <td>71</td>\n",
       "      <td>AC/DC (alt.LR)</td>\n",
       "      <td>unstructured</td>\n",
       "      <td>L1 norm</td>\n",
       "      <td>90</td>\n",
       "      <td>80.070000</td>\n",
       "      <td>unstructured</td>\n",
       "    </tr>\n",
       "    <tr>\n",
       "      <th>106</th>\n",
       "      <td>71</td>\n",
       "      <td>AC/DC (alt.LR)</td>\n",
       "      <td>block</td>\n",
       "      <td>abs max</td>\n",
       "      <td>90</td>\n",
       "      <td>77.480003</td>\n",
       "      <td>block</td>\n",
       "    </tr>\n",
       "    <tr>\n",
       "      <th>108</th>\n",
       "      <td>71</td>\n",
       "      <td>Other</td>\n",
       "      <td>iterative unstructured to block</td>\n",
       "      <td>L1 norm then abs max</td>\n",
       "      <td>90</td>\n",
       "      <td>79.419998</td>\n",
       "      <td>iterative unstructured to block</td>\n",
       "    </tr>\n",
       "    <tr>\n",
       "      <th>109</th>\n",
       "      <td>71</td>\n",
       "      <td>Other</td>\n",
       "      <td>block iterative (multiple steps)</td>\n",
       "      <td>abs max</td>\n",
       "      <td>90</td>\n",
       "      <td>79.470001</td>\n",
       "      <td>block iterative (multiple steps)</td>\n",
       "    </tr>\n",
       "    <tr>\n",
       "      <th>110</th>\n",
       "      <td>71</td>\n",
       "      <td>Gradual Pruning</td>\n",
       "      <td>block stepwise gradual</td>\n",
       "      <td>abs max</td>\n",
       "      <td>90</td>\n",
       "      <td>79.970001</td>\n",
       "      <td>block stepwise gradual</td>\n",
       "    </tr>\n",
       "  </tbody>\n",
       "</table>\n",
       "</div>"
      ],
      "text/plain": [
       "     seed             group                    pruning_method  \\\n",
       "9      31  Base Experiments                      unstructured   \n",
       "10     31  Base Experiments                             block   \n",
       "11     31  Base Experiments         block iterative (2 steps)   \n",
       "12     31  Base Experiments                             block   \n",
       "13     31  Base Experiments         block iterative (2 steps)   \n",
       "14     31  Base Experiments                             block   \n",
       "15     31  Base Experiments         block iterative (2 steps)   \n",
       "16     31  Base Experiments                             block   \n",
       "17     31  Base Experiments         block iterative (2 steps)   \n",
       "18     31    Dense Baseline                              none   \n",
       "24     31             AC/DC                      unstructured   \n",
       "25     31             AC/DC                             block   \n",
       "26     31             AC/DC                             block   \n",
       "27     31             AC/DC                             block   \n",
       "28     31             AC/DC                             block   \n",
       "31     31    AC/DC (alt.LR)                      unstructured   \n",
       "32     31    AC/DC (alt.LR)                             block   \n",
       "34     31             Other   iterative unstructured to block   \n",
       "35     31             Other  block iterative (multiple steps)   \n",
       "36     31   Gradual Pruning            block stepwise gradual   \n",
       "46     40  Base Experiments                      unstructured   \n",
       "47     40  Base Experiments                             block   \n",
       "48     40  Base Experiments         block iterative (2 steps)   \n",
       "49     40  Base Experiments                             block   \n",
       "50     40  Base Experiments         block iterative (2 steps)   \n",
       "51     40  Base Experiments                             block   \n",
       "52     40  Base Experiments         block iterative (2 steps)   \n",
       "53     40  Base Experiments                             block   \n",
       "54     40  Base Experiments         block iterative (2 steps)   \n",
       "55     40    Dense Baseline                              none   \n",
       "61     40             AC/DC                      unstructured   \n",
       "62     40             AC/DC                             block   \n",
       "63     40             AC/DC                             block   \n",
       "64     40             AC/DC                             block   \n",
       "65     40             AC/DC                             block   \n",
       "68     40    AC/DC (alt.LR)                      unstructured   \n",
       "69     40    AC/DC (alt.LR)                             block   \n",
       "71     40             Other   iterative unstructured to block   \n",
       "72     40             Other  block iterative (multiple steps)   \n",
       "73     40   Gradual Pruning            block stepwise gradual   \n",
       "83     71  Base Experiments                      unstructured   \n",
       "84     71  Base Experiments                             block   \n",
       "85     71  Base Experiments         block iterative (2 steps)   \n",
       "86     71  Base Experiments                             block   \n",
       "87     71  Base Experiments         block iterative (2 steps)   \n",
       "88     71  Base Experiments                             block   \n",
       "89     71  Base Experiments         block iterative (2 steps)   \n",
       "90     71  Base Experiments                             block   \n",
       "91     71  Base Experiments         block iterative (2 steps)   \n",
       "92     71    Dense Baseline                              none   \n",
       "98     71             AC/DC                      unstructured   \n",
       "99     71             AC/DC                             block   \n",
       "100    71             AC/DC                             block   \n",
       "101    71             AC/DC                             block   \n",
       "102    71             AC/DC                             block   \n",
       "105    71    AC/DC (alt.LR)                      unstructured   \n",
       "106    71    AC/DC (alt.LR)                             block   \n",
       "108    71             Other   iterative unstructured to block   \n",
       "109    71             Other  block iterative (multiple steps)   \n",
       "110    71   Gradual Pruning            block stepwise gradual   \n",
       "\n",
       "                   metric  sparsity  valid_accuracy  \\\n",
       "9                 L1 norm        90       80.610001   \n",
       "10                abs max        90       78.730003   \n",
       "11                abs max        90       79.419998   \n",
       "12                abs min        90       76.400002   \n",
       "13                abs min        90       78.589996   \n",
       "14                L1 norm        90       77.040001   \n",
       "15                L1 norm        90       79.040001   \n",
       "16                L2 norm        90       77.680000   \n",
       "17                L2 norm        90       78.800003   \n",
       "18                   none         0       81.150002   \n",
       "24                L1 norm        90       80.449997   \n",
       "25                abs max        90       77.230003   \n",
       "26                abs min        90       76.930000   \n",
       "27                L1 norm        90       75.660004   \n",
       "28                L2 norm        90       75.160004   \n",
       "31                L1 norm        90       79.980003   \n",
       "32                abs max        90       77.260002   \n",
       "34   L1 norm then abs max        90       78.919998   \n",
       "35                abs max        90       79.910004   \n",
       "36                abs max        90       79.889999   \n",
       "46                L1 norm        90       80.730003   \n",
       "47                abs max        90       78.760002   \n",
       "48                abs max        90       79.639999   \n",
       "49                abs min        90       76.519997   \n",
       "50                abs min        90       78.260002   \n",
       "51                L1 norm        90       76.080002   \n",
       "52                L1 norm        90       78.370003   \n",
       "53                L2 norm        90       77.860001   \n",
       "54                L2 norm        90       79.320000   \n",
       "55                   none         0       81.040001   \n",
       "61                L1 norm        90       79.930000   \n",
       "62                abs max        90       78.050003   \n",
       "63                abs min        90       75.919998   \n",
       "64                L1 norm        90       75.820000   \n",
       "65                L2 norm        90       75.150002   \n",
       "68                L1 norm        90       80.250000   \n",
       "69                abs max        90       77.120003   \n",
       "71   L1 norm then abs max        90       78.400002   \n",
       "72                abs max        90       79.720001   \n",
       "73                abs max        90       79.970001   \n",
       "83                L1 norm        90       80.809998   \n",
       "84                abs max        90       78.650002   \n",
       "85                abs max        90       79.709999   \n",
       "86                abs min        90       75.860001   \n",
       "87                abs min        90       77.459999   \n",
       "88                L1 norm        90       76.599998   \n",
       "89                L1 norm        90       78.360001   \n",
       "90                L2 norm        90       78.080002   \n",
       "91                L2 norm        90       78.809998   \n",
       "92                   none         0       80.690002   \n",
       "98                L1 norm        90       79.930000   \n",
       "99                abs max        90       78.080002   \n",
       "100               abs min        90       76.610001   \n",
       "101               L1 norm        90       76.320000   \n",
       "102               L2 norm        90       75.419998   \n",
       "105               L1 norm        90       80.070000   \n",
       "106               abs max        90       77.480003   \n",
       "108  L1 norm then abs max        90       79.419998   \n",
       "109               abs max        90       79.470001   \n",
       "110               abs max        90       79.970001   \n",
       "\n",
       "                           experiment  \n",
       "9                        unstructured  \n",
       "10                              block  \n",
       "11          block iterative (2 steps)  \n",
       "12                              block  \n",
       "13          block iterative (2 steps)  \n",
       "14                              block  \n",
       "15          block iterative (2 steps)  \n",
       "16                              block  \n",
       "17          block iterative (2 steps)  \n",
       "18                               none  \n",
       "24                       unstructured  \n",
       "25                              block  \n",
       "26                              block  \n",
       "27                              block  \n",
       "28                              block  \n",
       "31                       unstructured  \n",
       "32                              block  \n",
       "34    iterative unstructured to block  \n",
       "35   block iterative (multiple steps)  \n",
       "36             block stepwise gradual  \n",
       "46                       unstructured  \n",
       "47                              block  \n",
       "48          block iterative (2 steps)  \n",
       "49                              block  \n",
       "50          block iterative (2 steps)  \n",
       "51                              block  \n",
       "52          block iterative (2 steps)  \n",
       "53                              block  \n",
       "54          block iterative (2 steps)  \n",
       "55                               none  \n",
       "61                       unstructured  \n",
       "62                              block  \n",
       "63                              block  \n",
       "64                              block  \n",
       "65                              block  \n",
       "68                       unstructured  \n",
       "69                              block  \n",
       "71    iterative unstructured to block  \n",
       "72   block iterative (multiple steps)  \n",
       "73             block stepwise gradual  \n",
       "83                       unstructured  \n",
       "84                              block  \n",
       "85          block iterative (2 steps)  \n",
       "86                              block  \n",
       "87          block iterative (2 steps)  \n",
       "88                              block  \n",
       "89          block iterative (2 steps)  \n",
       "90                              block  \n",
       "91          block iterative (2 steps)  \n",
       "92                               none  \n",
       "98                       unstructured  \n",
       "99                              block  \n",
       "100                             block  \n",
       "101                             block  \n",
       "102                             block  \n",
       "105                      unstructured  \n",
       "106                             block  \n",
       "108   iterative unstructured to block  \n",
       "109  block iterative (multiple steps)  \n",
       "110            block stepwise gradual  "
      ]
     },
     "execution_count": 4,
     "metadata": {},
     "output_type": "execute_result"
    }
   ],
   "source": [
    "# Define df_80 as the subset of df where sparsity is 80 or 0\n",
    "df_80 = df[(df['sparsity'] == 80) | (df['sparsity'] == 0)]\n",
    "df_90 = df[(df['sparsity'] == 90) | (df['sparsity'] == 0)]\n",
    "df_90"
   ]
  },
  {
   "cell_type": "code",
   "execution_count": 5,
   "id": "3c4262d6",
   "metadata": {},
   "outputs": [
    {
     "data": {
      "text/html": [
       "<div>\n",
       "<style scoped>\n",
       "    .dataframe tbody tr th:only-of-type {\n",
       "        vertical-align: middle;\n",
       "    }\n",
       "\n",
       "    .dataframe tbody tr th {\n",
       "        vertical-align: top;\n",
       "    }\n",
       "\n",
       "    .dataframe thead th {\n",
       "        text-align: right;\n",
       "    }\n",
       "</style>\n",
       "<table border=\"1\" class=\"dataframe\">\n",
       "  <thead>\n",
       "    <tr style=\"text-align: right;\">\n",
       "      <th></th>\n",
       "      <th>seed</th>\n",
       "      <th>group</th>\n",
       "      <th>pruning_method</th>\n",
       "      <th>metric</th>\n",
       "      <th>sparsity</th>\n",
       "      <th>valid_accuracy</th>\n",
       "      <th>experiment</th>\n",
       "    </tr>\n",
       "  </thead>\n",
       "  <tbody>\n",
       "    <tr>\n",
       "      <th>38</th>\n",
       "      <td>40</td>\n",
       "      <td>Base Experiments</td>\n",
       "      <td>block</td>\n",
       "      <td>abs max</td>\n",
       "      <td>80</td>\n",
       "      <td>80.279999</td>\n",
       "      <td>block</td>\n",
       "    </tr>\n",
       "    <tr>\n",
       "      <th>44</th>\n",
       "      <td>40</td>\n",
       "      <td>Base Experiments</td>\n",
       "      <td>block</td>\n",
       "      <td>L2 norm</td>\n",
       "      <td>80</td>\n",
       "      <td>79.279999</td>\n",
       "      <td>block</td>\n",
       "    </tr>\n",
       "    <tr>\n",
       "      <th>57</th>\n",
       "      <td>40</td>\n",
       "      <td>AC/DC</td>\n",
       "      <td>block</td>\n",
       "      <td>abs max</td>\n",
       "      <td>80</td>\n",
       "      <td>79.250000</td>\n",
       "      <td>block</td>\n",
       "    </tr>\n",
       "    <tr>\n",
       "      <th>42</th>\n",
       "      <td>40</td>\n",
       "      <td>Base Experiments</td>\n",
       "      <td>block</td>\n",
       "      <td>L1 norm</td>\n",
       "      <td>80</td>\n",
       "      <td>79.309998</td>\n",
       "      <td>block</td>\n",
       "    </tr>\n",
       "    <tr>\n",
       "      <th>58</th>\n",
       "      <td>40</td>\n",
       "      <td>AC/DC</td>\n",
       "      <td>block</td>\n",
       "      <td>abs min</td>\n",
       "      <td>80</td>\n",
       "      <td>78.040001</td>\n",
       "      <td>block</td>\n",
       "    </tr>\n",
       "    <tr>\n",
       "      <th>40</th>\n",
       "      <td>40</td>\n",
       "      <td>Base Experiments</td>\n",
       "      <td>block</td>\n",
       "      <td>abs min</td>\n",
       "      <td>80</td>\n",
       "      <td>78.730003</td>\n",
       "      <td>block</td>\n",
       "    </tr>\n",
       "    <tr>\n",
       "      <th>59</th>\n",
       "      <td>40</td>\n",
       "      <td>AC/DC</td>\n",
       "      <td>block</td>\n",
       "      <td>L1 norm</td>\n",
       "      <td>80</td>\n",
       "      <td>77.489998</td>\n",
       "      <td>block</td>\n",
       "    </tr>\n",
       "    <tr>\n",
       "      <th>75</th>\n",
       "      <td>71</td>\n",
       "      <td>Base Experiments</td>\n",
       "      <td>block</td>\n",
       "      <td>abs max</td>\n",
       "      <td>80</td>\n",
       "      <td>80.370003</td>\n",
       "      <td>block</td>\n",
       "    </tr>\n",
       "    <tr>\n",
       "      <th>60</th>\n",
       "      <td>40</td>\n",
       "      <td>AC/DC</td>\n",
       "      <td>block</td>\n",
       "      <td>L2 norm</td>\n",
       "      <td>80</td>\n",
       "      <td>77.620003</td>\n",
       "      <td>block</td>\n",
       "    </tr>\n",
       "    <tr>\n",
       "      <th>94</th>\n",
       "      <td>71</td>\n",
       "      <td>AC/DC</td>\n",
       "      <td>block</td>\n",
       "      <td>abs max</td>\n",
       "      <td>80</td>\n",
       "      <td>78.930000</td>\n",
       "      <td>block</td>\n",
       "    </tr>\n",
       "    <tr>\n",
       "      <th>30</th>\n",
       "      <td>31</td>\n",
       "      <td>AC/DC (alt.LR)</td>\n",
       "      <td>block</td>\n",
       "      <td>abs max</td>\n",
       "      <td>80</td>\n",
       "      <td>79.620003</td>\n",
       "      <td>block</td>\n",
       "    </tr>\n",
       "    <tr>\n",
       "      <th>95</th>\n",
       "      <td>71</td>\n",
       "      <td>AC/DC</td>\n",
       "      <td>block</td>\n",
       "      <td>abs min</td>\n",
       "      <td>80</td>\n",
       "      <td>77.970001</td>\n",
       "      <td>block</td>\n",
       "    </tr>\n",
       "    <tr>\n",
       "      <th>23</th>\n",
       "      <td>31</td>\n",
       "      <td>AC/DC</td>\n",
       "      <td>block</td>\n",
       "      <td>L2 norm</td>\n",
       "      <td>80</td>\n",
       "      <td>77.639999</td>\n",
       "      <td>block</td>\n",
       "    </tr>\n",
       "    <tr>\n",
       "      <th>22</th>\n",
       "      <td>31</td>\n",
       "      <td>AC/DC</td>\n",
       "      <td>block</td>\n",
       "      <td>L1 norm</td>\n",
       "      <td>80</td>\n",
       "      <td>77.120003</td>\n",
       "      <td>block</td>\n",
       "    </tr>\n",
       "    <tr>\n",
       "      <th>21</th>\n",
       "      <td>31</td>\n",
       "      <td>AC/DC</td>\n",
       "      <td>block</td>\n",
       "      <td>abs min</td>\n",
       "      <td>80</td>\n",
       "      <td>78.220001</td>\n",
       "      <td>block</td>\n",
       "    </tr>\n",
       "    <tr>\n",
       "      <th>20</th>\n",
       "      <td>31</td>\n",
       "      <td>AC/DC</td>\n",
       "      <td>block</td>\n",
       "      <td>abs max</td>\n",
       "      <td>80</td>\n",
       "      <td>79.629997</td>\n",
       "      <td>block</td>\n",
       "    </tr>\n",
       "    <tr>\n",
       "      <th>96</th>\n",
       "      <td>71</td>\n",
       "      <td>AC/DC</td>\n",
       "      <td>block</td>\n",
       "      <td>L1 norm</td>\n",
       "      <td>80</td>\n",
       "      <td>77.500000</td>\n",
       "      <td>block</td>\n",
       "    </tr>\n",
       "    <tr>\n",
       "      <th>97</th>\n",
       "      <td>71</td>\n",
       "      <td>AC/DC</td>\n",
       "      <td>block</td>\n",
       "      <td>L2 norm</td>\n",
       "      <td>80</td>\n",
       "      <td>77.580002</td>\n",
       "      <td>block</td>\n",
       "    </tr>\n",
       "    <tr>\n",
       "      <th>79</th>\n",
       "      <td>71</td>\n",
       "      <td>Base Experiments</td>\n",
       "      <td>block</td>\n",
       "      <td>L1 norm</td>\n",
       "      <td>80</td>\n",
       "      <td>79.099998</td>\n",
       "      <td>block</td>\n",
       "    </tr>\n",
       "    <tr>\n",
       "      <th>7</th>\n",
       "      <td>31</td>\n",
       "      <td>Base Experiments</td>\n",
       "      <td>block</td>\n",
       "      <td>L2 norm</td>\n",
       "      <td>80</td>\n",
       "      <td>79.769997</td>\n",
       "      <td>block</td>\n",
       "    </tr>\n",
       "    <tr>\n",
       "      <th>67</th>\n",
       "      <td>40</td>\n",
       "      <td>AC/DC (alt.LR)</td>\n",
       "      <td>block</td>\n",
       "      <td>abs max</td>\n",
       "      <td>80</td>\n",
       "      <td>79.080002</td>\n",
       "      <td>block</td>\n",
       "    </tr>\n",
       "    <tr>\n",
       "      <th>5</th>\n",
       "      <td>31</td>\n",
       "      <td>Base Experiments</td>\n",
       "      <td>block</td>\n",
       "      <td>L1 norm</td>\n",
       "      <td>80</td>\n",
       "      <td>79.449997</td>\n",
       "      <td>block</td>\n",
       "    </tr>\n",
       "    <tr>\n",
       "      <th>3</th>\n",
       "      <td>31</td>\n",
       "      <td>Base Experiments</td>\n",
       "      <td>block</td>\n",
       "      <td>abs min</td>\n",
       "      <td>80</td>\n",
       "      <td>78.790001</td>\n",
       "      <td>block</td>\n",
       "    </tr>\n",
       "    <tr>\n",
       "      <th>77</th>\n",
       "      <td>71</td>\n",
       "      <td>Base Experiments</td>\n",
       "      <td>block</td>\n",
       "      <td>abs min</td>\n",
       "      <td>80</td>\n",
       "      <td>78.699997</td>\n",
       "      <td>block</td>\n",
       "    </tr>\n",
       "    <tr>\n",
       "      <th>1</th>\n",
       "      <td>31</td>\n",
       "      <td>Base Experiments</td>\n",
       "      <td>block</td>\n",
       "      <td>abs max</td>\n",
       "      <td>80</td>\n",
       "      <td>80.370003</td>\n",
       "      <td>block</td>\n",
       "    </tr>\n",
       "    <tr>\n",
       "      <th>104</th>\n",
       "      <td>71</td>\n",
       "      <td>AC/DC (alt.LR)</td>\n",
       "      <td>block</td>\n",
       "      <td>abs max</td>\n",
       "      <td>80</td>\n",
       "      <td>79.410004</td>\n",
       "      <td>block</td>\n",
       "    </tr>\n",
       "    <tr>\n",
       "      <th>81</th>\n",
       "      <td>71</td>\n",
       "      <td>Base Experiments</td>\n",
       "      <td>block</td>\n",
       "      <td>L2 norm</td>\n",
       "      <td>80</td>\n",
       "      <td>80.040001</td>\n",
       "      <td>block</td>\n",
       "    </tr>\n",
       "    <tr>\n",
       "      <th>78</th>\n",
       "      <td>71</td>\n",
       "      <td>Base Experiments</td>\n",
       "      <td>block iterative (2 steps)</td>\n",
       "      <td>abs min</td>\n",
       "      <td>80</td>\n",
       "      <td>78.820000</td>\n",
       "      <td>block iterative (2 steps)</td>\n",
       "    </tr>\n",
       "    <tr>\n",
       "      <th>45</th>\n",
       "      <td>40</td>\n",
       "      <td>Base Experiments</td>\n",
       "      <td>block iterative (2 steps)</td>\n",
       "      <td>L2 norm</td>\n",
       "      <td>80</td>\n",
       "      <td>80.059998</td>\n",
       "      <td>block iterative (2 steps)</td>\n",
       "    </tr>\n",
       "    <tr>\n",
       "      <th>43</th>\n",
       "      <td>40</td>\n",
       "      <td>Base Experiments</td>\n",
       "      <td>block iterative (2 steps)</td>\n",
       "      <td>L1 norm</td>\n",
       "      <td>80</td>\n",
       "      <td>79.589996</td>\n",
       "      <td>block iterative (2 steps)</td>\n",
       "    </tr>\n",
       "    <tr>\n",
       "      <th>41</th>\n",
       "      <td>40</td>\n",
       "      <td>Base Experiments</td>\n",
       "      <td>block iterative (2 steps)</td>\n",
       "      <td>abs min</td>\n",
       "      <td>80</td>\n",
       "      <td>79.059998</td>\n",
       "      <td>block iterative (2 steps)</td>\n",
       "    </tr>\n",
       "    <tr>\n",
       "      <th>39</th>\n",
       "      <td>40</td>\n",
       "      <td>Base Experiments</td>\n",
       "      <td>block iterative (2 steps)</td>\n",
       "      <td>abs max</td>\n",
       "      <td>80</td>\n",
       "      <td>80.410004</td>\n",
       "      <td>block iterative (2 steps)</td>\n",
       "    </tr>\n",
       "    <tr>\n",
       "      <th>82</th>\n",
       "      <td>71</td>\n",
       "      <td>Base Experiments</td>\n",
       "      <td>block iterative (2 steps)</td>\n",
       "      <td>L2 norm</td>\n",
       "      <td>80</td>\n",
       "      <td>79.940002</td>\n",
       "      <td>block iterative (2 steps)</td>\n",
       "    </tr>\n",
       "    <tr>\n",
       "      <th>8</th>\n",
       "      <td>31</td>\n",
       "      <td>Base Experiments</td>\n",
       "      <td>block iterative (2 steps)</td>\n",
       "      <td>L2 norm</td>\n",
       "      <td>80</td>\n",
       "      <td>80.250000</td>\n",
       "      <td>block iterative (2 steps)</td>\n",
       "    </tr>\n",
       "    <tr>\n",
       "      <th>6</th>\n",
       "      <td>31</td>\n",
       "      <td>Base Experiments</td>\n",
       "      <td>block iterative (2 steps)</td>\n",
       "      <td>L1 norm</td>\n",
       "      <td>80</td>\n",
       "      <td>79.279999</td>\n",
       "      <td>block iterative (2 steps)</td>\n",
       "    </tr>\n",
       "    <tr>\n",
       "      <th>4</th>\n",
       "      <td>31</td>\n",
       "      <td>Base Experiments</td>\n",
       "      <td>block iterative (2 steps)</td>\n",
       "      <td>abs min</td>\n",
       "      <td>80</td>\n",
       "      <td>79.529999</td>\n",
       "      <td>block iterative (2 steps)</td>\n",
       "    </tr>\n",
       "    <tr>\n",
       "      <th>2</th>\n",
       "      <td>31</td>\n",
       "      <td>Base Experiments</td>\n",
       "      <td>block iterative (2 steps)</td>\n",
       "      <td>abs max</td>\n",
       "      <td>80</td>\n",
       "      <td>80.599998</td>\n",
       "      <td>block iterative (2 steps)</td>\n",
       "    </tr>\n",
       "    <tr>\n",
       "      <th>80</th>\n",
       "      <td>71</td>\n",
       "      <td>Base Experiments</td>\n",
       "      <td>block iterative (2 steps)</td>\n",
       "      <td>L1 norm</td>\n",
       "      <td>80</td>\n",
       "      <td>79.489998</td>\n",
       "      <td>block iterative (2 steps)</td>\n",
       "    </tr>\n",
       "    <tr>\n",
       "      <th>76</th>\n",
       "      <td>71</td>\n",
       "      <td>Base Experiments</td>\n",
       "      <td>block iterative (2 steps)</td>\n",
       "      <td>abs max</td>\n",
       "      <td>80</td>\n",
       "      <td>80.500000</td>\n",
       "      <td>block iterative (2 steps)</td>\n",
       "    </tr>\n",
       "    <tr>\n",
       "      <th>107</th>\n",
       "      <td>71</td>\n",
       "      <td>Other</td>\n",
       "      <td>iterative unstructured to block</td>\n",
       "      <td>L1 norm then abs max</td>\n",
       "      <td>80</td>\n",
       "      <td>80.279999</td>\n",
       "      <td>iterative unstructured to block</td>\n",
       "    </tr>\n",
       "    <tr>\n",
       "      <th>70</th>\n",
       "      <td>40</td>\n",
       "      <td>Other</td>\n",
       "      <td>iterative unstructured to block</td>\n",
       "      <td>L1 norm then abs max</td>\n",
       "      <td>80</td>\n",
       "      <td>80.400002</td>\n",
       "      <td>iterative unstructured to block</td>\n",
       "    </tr>\n",
       "    <tr>\n",
       "      <th>33</th>\n",
       "      <td>31</td>\n",
       "      <td>Other</td>\n",
       "      <td>iterative unstructured to block</td>\n",
       "      <td>L1 norm then abs max</td>\n",
       "      <td>80</td>\n",
       "      <td>80.029999</td>\n",
       "      <td>iterative unstructured to block</td>\n",
       "    </tr>\n",
       "    <tr>\n",
       "      <th>55</th>\n",
       "      <td>40</td>\n",
       "      <td>Dense Baseline</td>\n",
       "      <td>none</td>\n",
       "      <td>none</td>\n",
       "      <td>0</td>\n",
       "      <td>81.040001</td>\n",
       "      <td>none</td>\n",
       "    </tr>\n",
       "    <tr>\n",
       "      <th>92</th>\n",
       "      <td>71</td>\n",
       "      <td>Dense Baseline</td>\n",
       "      <td>none</td>\n",
       "      <td>none</td>\n",
       "      <td>0</td>\n",
       "      <td>80.690002</td>\n",
       "      <td>none</td>\n",
       "    </tr>\n",
       "    <tr>\n",
       "      <th>18</th>\n",
       "      <td>31</td>\n",
       "      <td>Dense Baseline</td>\n",
       "      <td>none</td>\n",
       "      <td>none</td>\n",
       "      <td>0</td>\n",
       "      <td>81.150002</td>\n",
       "      <td>none</td>\n",
       "    </tr>\n",
       "    <tr>\n",
       "      <th>66</th>\n",
       "      <td>40</td>\n",
       "      <td>AC/DC (alt.LR)</td>\n",
       "      <td>unstructured</td>\n",
       "      <td>L1 norm</td>\n",
       "      <td>80</td>\n",
       "      <td>80.709999</td>\n",
       "      <td>unstructured</td>\n",
       "    </tr>\n",
       "    <tr>\n",
       "      <th>56</th>\n",
       "      <td>40</td>\n",
       "      <td>AC/DC</td>\n",
       "      <td>unstructured</td>\n",
       "      <td>L1 norm</td>\n",
       "      <td>80</td>\n",
       "      <td>80.190002</td>\n",
       "      <td>unstructured</td>\n",
       "    </tr>\n",
       "    <tr>\n",
       "      <th>37</th>\n",
       "      <td>40</td>\n",
       "      <td>Base Experiments</td>\n",
       "      <td>unstructured</td>\n",
       "      <td>L1 norm</td>\n",
       "      <td>80</td>\n",
       "      <td>80.940002</td>\n",
       "      <td>unstructured</td>\n",
       "    </tr>\n",
       "    <tr>\n",
       "      <th>93</th>\n",
       "      <td>71</td>\n",
       "      <td>AC/DC</td>\n",
       "      <td>unstructured</td>\n",
       "      <td>L1 norm</td>\n",
       "      <td>80</td>\n",
       "      <td>80.250000</td>\n",
       "      <td>unstructured</td>\n",
       "    </tr>\n",
       "    <tr>\n",
       "      <th>29</th>\n",
       "      <td>31</td>\n",
       "      <td>AC/DC (alt.LR)</td>\n",
       "      <td>unstructured</td>\n",
       "      <td>L1 norm</td>\n",
       "      <td>80</td>\n",
       "      <td>80.730003</td>\n",
       "      <td>unstructured</td>\n",
       "    </tr>\n",
       "    <tr>\n",
       "      <th>19</th>\n",
       "      <td>31</td>\n",
       "      <td>AC/DC</td>\n",
       "      <td>unstructured</td>\n",
       "      <td>L1 norm</td>\n",
       "      <td>80</td>\n",
       "      <td>80.440002</td>\n",
       "      <td>unstructured</td>\n",
       "    </tr>\n",
       "    <tr>\n",
       "      <th>103</th>\n",
       "      <td>71</td>\n",
       "      <td>AC/DC (alt.LR)</td>\n",
       "      <td>unstructured</td>\n",
       "      <td>L1 norm</td>\n",
       "      <td>80</td>\n",
       "      <td>80.070000</td>\n",
       "      <td>unstructured</td>\n",
       "    </tr>\n",
       "    <tr>\n",
       "      <th>74</th>\n",
       "      <td>71</td>\n",
       "      <td>Base Experiments</td>\n",
       "      <td>unstructured</td>\n",
       "      <td>L1 norm</td>\n",
       "      <td>80</td>\n",
       "      <td>80.820000</td>\n",
       "      <td>unstructured</td>\n",
       "    </tr>\n",
       "    <tr>\n",
       "      <th>0</th>\n",
       "      <td>31</td>\n",
       "      <td>Base Experiments</td>\n",
       "      <td>unstructured</td>\n",
       "      <td>L1 norm</td>\n",
       "      <td>80</td>\n",
       "      <td>80.850000</td>\n",
       "      <td>unstructured</td>\n",
       "    </tr>\n",
       "  </tbody>\n",
       "</table>\n",
       "</div>"
      ],
      "text/plain": [
       "     seed             group                   pruning_method  \\\n",
       "38     40  Base Experiments                            block   \n",
       "44     40  Base Experiments                            block   \n",
       "57     40             AC/DC                            block   \n",
       "42     40  Base Experiments                            block   \n",
       "58     40             AC/DC                            block   \n",
       "40     40  Base Experiments                            block   \n",
       "59     40             AC/DC                            block   \n",
       "75     71  Base Experiments                            block   \n",
       "60     40             AC/DC                            block   \n",
       "94     71             AC/DC                            block   \n",
       "30     31    AC/DC (alt.LR)                            block   \n",
       "95     71             AC/DC                            block   \n",
       "23     31             AC/DC                            block   \n",
       "22     31             AC/DC                            block   \n",
       "21     31             AC/DC                            block   \n",
       "20     31             AC/DC                            block   \n",
       "96     71             AC/DC                            block   \n",
       "97     71             AC/DC                            block   \n",
       "79     71  Base Experiments                            block   \n",
       "7      31  Base Experiments                            block   \n",
       "67     40    AC/DC (alt.LR)                            block   \n",
       "5      31  Base Experiments                            block   \n",
       "3      31  Base Experiments                            block   \n",
       "77     71  Base Experiments                            block   \n",
       "1      31  Base Experiments                            block   \n",
       "104    71    AC/DC (alt.LR)                            block   \n",
       "81     71  Base Experiments                            block   \n",
       "78     71  Base Experiments        block iterative (2 steps)   \n",
       "45     40  Base Experiments        block iterative (2 steps)   \n",
       "43     40  Base Experiments        block iterative (2 steps)   \n",
       "41     40  Base Experiments        block iterative (2 steps)   \n",
       "39     40  Base Experiments        block iterative (2 steps)   \n",
       "82     71  Base Experiments        block iterative (2 steps)   \n",
       "8      31  Base Experiments        block iterative (2 steps)   \n",
       "6      31  Base Experiments        block iterative (2 steps)   \n",
       "4      31  Base Experiments        block iterative (2 steps)   \n",
       "2      31  Base Experiments        block iterative (2 steps)   \n",
       "80     71  Base Experiments        block iterative (2 steps)   \n",
       "76     71  Base Experiments        block iterative (2 steps)   \n",
       "107    71             Other  iterative unstructured to block   \n",
       "70     40             Other  iterative unstructured to block   \n",
       "33     31             Other  iterative unstructured to block   \n",
       "55     40    Dense Baseline                             none   \n",
       "92     71    Dense Baseline                             none   \n",
       "18     31    Dense Baseline                             none   \n",
       "66     40    AC/DC (alt.LR)                     unstructured   \n",
       "56     40             AC/DC                     unstructured   \n",
       "37     40  Base Experiments                     unstructured   \n",
       "93     71             AC/DC                     unstructured   \n",
       "29     31    AC/DC (alt.LR)                     unstructured   \n",
       "19     31             AC/DC                     unstructured   \n",
       "103    71    AC/DC (alt.LR)                     unstructured   \n",
       "74     71  Base Experiments                     unstructured   \n",
       "0      31  Base Experiments                     unstructured   \n",
       "\n",
       "                   metric  sparsity  valid_accuracy  \\\n",
       "38                abs max        80       80.279999   \n",
       "44                L2 norm        80       79.279999   \n",
       "57                abs max        80       79.250000   \n",
       "42                L1 norm        80       79.309998   \n",
       "58                abs min        80       78.040001   \n",
       "40                abs min        80       78.730003   \n",
       "59                L1 norm        80       77.489998   \n",
       "75                abs max        80       80.370003   \n",
       "60                L2 norm        80       77.620003   \n",
       "94                abs max        80       78.930000   \n",
       "30                abs max        80       79.620003   \n",
       "95                abs min        80       77.970001   \n",
       "23                L2 norm        80       77.639999   \n",
       "22                L1 norm        80       77.120003   \n",
       "21                abs min        80       78.220001   \n",
       "20                abs max        80       79.629997   \n",
       "96                L1 norm        80       77.500000   \n",
       "97                L2 norm        80       77.580002   \n",
       "79                L1 norm        80       79.099998   \n",
       "7                 L2 norm        80       79.769997   \n",
       "67                abs max        80       79.080002   \n",
       "5                 L1 norm        80       79.449997   \n",
       "3                 abs min        80       78.790001   \n",
       "77                abs min        80       78.699997   \n",
       "1                 abs max        80       80.370003   \n",
       "104               abs max        80       79.410004   \n",
       "81                L2 norm        80       80.040001   \n",
       "78                abs min        80       78.820000   \n",
       "45                L2 norm        80       80.059998   \n",
       "43                L1 norm        80       79.589996   \n",
       "41                abs min        80       79.059998   \n",
       "39                abs max        80       80.410004   \n",
       "82                L2 norm        80       79.940002   \n",
       "8                 L2 norm        80       80.250000   \n",
       "6                 L1 norm        80       79.279999   \n",
       "4                 abs min        80       79.529999   \n",
       "2                 abs max        80       80.599998   \n",
       "80                L1 norm        80       79.489998   \n",
       "76                abs max        80       80.500000   \n",
       "107  L1 norm then abs max        80       80.279999   \n",
       "70   L1 norm then abs max        80       80.400002   \n",
       "33   L1 norm then abs max        80       80.029999   \n",
       "55                   none         0       81.040001   \n",
       "92                   none         0       80.690002   \n",
       "18                   none         0       81.150002   \n",
       "66                L1 norm        80       80.709999   \n",
       "56                L1 norm        80       80.190002   \n",
       "37                L1 norm        80       80.940002   \n",
       "93                L1 norm        80       80.250000   \n",
       "29                L1 norm        80       80.730003   \n",
       "19                L1 norm        80       80.440002   \n",
       "103               L1 norm        80       80.070000   \n",
       "74                L1 norm        80       80.820000   \n",
       "0                 L1 norm        80       80.850000   \n",
       "\n",
       "                          experiment  \n",
       "38                             block  \n",
       "44                             block  \n",
       "57                             block  \n",
       "42                             block  \n",
       "58                             block  \n",
       "40                             block  \n",
       "59                             block  \n",
       "75                             block  \n",
       "60                             block  \n",
       "94                             block  \n",
       "30                             block  \n",
       "95                             block  \n",
       "23                             block  \n",
       "22                             block  \n",
       "21                             block  \n",
       "20                             block  \n",
       "96                             block  \n",
       "97                             block  \n",
       "79                             block  \n",
       "7                              block  \n",
       "67                             block  \n",
       "5                              block  \n",
       "3                              block  \n",
       "77                             block  \n",
       "1                              block  \n",
       "104                            block  \n",
       "81                             block  \n",
       "78         block iterative (2 steps)  \n",
       "45         block iterative (2 steps)  \n",
       "43         block iterative (2 steps)  \n",
       "41         block iterative (2 steps)  \n",
       "39         block iterative (2 steps)  \n",
       "82         block iterative (2 steps)  \n",
       "8          block iterative (2 steps)  \n",
       "6          block iterative (2 steps)  \n",
       "4          block iterative (2 steps)  \n",
       "2          block iterative (2 steps)  \n",
       "80         block iterative (2 steps)  \n",
       "76         block iterative (2 steps)  \n",
       "107  iterative unstructured to block  \n",
       "70   iterative unstructured to block  \n",
       "33   iterative unstructured to block  \n",
       "55                              none  \n",
       "92                              none  \n",
       "18                              none  \n",
       "66                      unstructured  \n",
       "56                      unstructured  \n",
       "37                      unstructured  \n",
       "93                      unstructured  \n",
       "29                      unstructured  \n",
       "19                      unstructured  \n",
       "103                     unstructured  \n",
       "74                      unstructured  \n",
       "0                       unstructured  "
      ]
     },
     "execution_count": 5,
     "metadata": {},
     "output_type": "execute_result"
    }
   ],
   "source": [
    "df_80 = df_80.sort_values(by='experiment')\n",
    "df_90 = df_90.sort_values(by='experiment')\n",
    "df_80"
   ]
  },
  {
   "cell_type": "code",
   "execution_count": 6,
   "id": "498bd926",
   "metadata": {},
   "outputs": [],
   "source": [
    "custom_order = ['Dense Baseline', 'Base Experiments', 'AC/DC', 'AC/DC (alt.LR)', 'Other']  \n",
    "\n",
    "# Create grouped data using the custom order\n",
    "grouped = [ (group_name, df_80[df_80['group'] == group_name]) for group_name in custom_order]"
   ]
  },
  {
   "cell_type": "code",
   "execution_count": 7,
   "id": "e7dde248",
   "metadata": {},
   "outputs": [],
   "source": [
    "color_map = {'L1 norm': 'blue', 'L2 norm': 'red', 'abs max': 'green', 'abs min': 'orange', 'L1 norm then abs max': 'rgb(0, 139, 139)', 'none': 'grey'}"
   ]
  },
  {
   "cell_type": "code",
   "execution_count": 9,
   "id": "b868b698",
   "metadata": {},
   "outputs": [
    {
     "data": {
      "application/vnd.plotly.v1+json": {
       "config": {
        "plotlyServerURL": "https://plot.ly"
       },
       "data": [
        {
         "legendgroup": "none",
         "marker": {
          "color": "grey",
          "opacity": 0.5,
          "size": 6
         },
         "mode": "markers",
         "name": "none",
         "showlegend": true,
         "type": "scatter",
         "x": [
          1,
          1,
          1
         ],
         "xaxis": "x",
         "y": [
          81.04000092,
          80.69000244,
          81.15000153
         ],
         "yaxis": "y"
        },
        {
         "fill": "toself",
         "fillcolor": "grey",
         "line": {
          "color": "grey"
         },
         "mode": "lines",
         "opacity": 0.2,
         "showlegend": false,
         "type": "scatter",
         "x": [
          0.95,
          1.05,
          1.05,
          0.95
         ],
         "xaxis": "x",
         "y": [
          80.71979400002006,
          80.71979400002006,
          81.20020925997996,
          81.20020925997996
         ],
         "yaxis": "y"
        },
        {
         "legendgroup": "none",
         "marker": {
          "color": "grey",
          "size": 10,
          "symbol": "x"
         },
         "mode": "markers",
         "name": "none mean",
         "showlegend": false,
         "type": "scatter",
         "x": [
          1
         ],
         "xaxis": "x",
         "y": [
          80.96000163000001
         ],
         "yaxis": "y"
        },
        {
         "legendgroup": "abs max",
         "marker": {
          "color": "green",
          "opacity": 0.5,
          "size": 6
         },
         "mode": "markers",
         "name": "abs max",
         "showlegend": true,
         "type": "scatter",
         "x": [
          1.2,
          1.2,
          1.2,
          1.4,
          1.4,
          1.4
         ],
         "xaxis": "x2",
         "y": [
          80.27999878,
          80.37000275,
          80.37000275,
          80.41000366,
          80.59999847,
          80.5
         ],
         "yaxis": "y2"
        },
        {
         "fill": "toself",
         "fillcolor": "green",
         "line": {
          "color": "green"
         },
         "mode": "lines",
         "opacity": 0.2,
         "showlegend": false,
         "type": "scatter",
         "x": [
          1.15,
          1.25,
          1.25,
          1.15
         ],
         "xaxis": "x2",
         "y": [
          80.28803761035903,
          80.28803761035903,
          80.3919652429743,
          80.3919652429743
         ],
         "yaxis": "y2"
        },
        {
         "fill": "toself",
         "fillcolor": "green",
         "line": {
          "color": "green"
         },
         "mode": "lines",
         "opacity": 0.2,
         "showlegend": false,
         "type": "scatter",
         "x": [
          1.3499999999999999,
          1.45,
          1.45,
          1.3499999999999999
         ],
         "xaxis": "x2",
         "y": [
          80.40829276892876,
          80.40829276892876,
          80.59837531773792,
          80.59837531773792
         ],
         "yaxis": "y2"
        },
        {
         "legendgroup": "abs max",
         "marker": {
          "color": "green",
          "size": 10,
          "symbol": "x"
         },
         "mode": "markers",
         "name": "abs max mean",
         "showlegend": false,
         "type": "scatter",
         "x": [
          1.2,
          1.4
         ],
         "xaxis": "x2",
         "y": [
          80.34000142666666,
          80.50333404333334
         ],
         "yaxis": "y2"
        },
        {
         "legendgroup": "L2 norm",
         "marker": {
          "color": "red",
          "opacity": 0.5,
          "size": 6
         },
         "mode": "markers",
         "name": "L2 norm",
         "showlegend": true,
         "type": "scatter",
         "x": [
          1.2,
          1.2,
          1.2,
          1.4,
          1.4,
          1.4
         ],
         "xaxis": "x2",
         "y": [
          79.27999878,
          79.76999664,
          80.04000092,
          80.05999756,
          79.94000244,
          80.25
         ],
         "yaxis": "y2"
        },
        {
         "fill": "toself",
         "fillcolor": "red",
         "line": {
          "color": "red"
         },
         "mode": "lines",
         "opacity": 0.2,
         "showlegend": false,
         "type": "scatter",
         "x": [
          1.15,
          1.25,
          1.25,
          1.15
         ],
         "xaxis": "x2",
         "y": [
          79.31139422903173,
          79.31139422903173,
          80.08193666430161,
          80.08193666430161
         ],
         "yaxis": "y2"
        },
        {
         "fill": "toself",
         "fillcolor": "red",
         "line": {
          "color": "red"
         },
         "mode": "lines",
         "opacity": 0.2,
         "showlegend": false,
         "type": "scatter",
         "x": [
          1.3499999999999999,
          1.45,
          1.45,
          1.3499999999999999
         ],
         "xaxis": "x2",
         "y": [
          79.92702261540494,
          79.92702261540494,
          80.23964405126172,
          80.23964405126172
         ],
         "yaxis": "y2"
        },
        {
         "legendgroup": "L2 norm",
         "marker": {
          "color": "red",
          "size": 10,
          "symbol": "x"
         },
         "mode": "markers",
         "name": "L2 norm mean",
         "showlegend": false,
         "type": "scatter",
         "x": [
          1.2,
          1.4
         ],
         "xaxis": "x2",
         "y": [
          79.69666544666667,
          80.08333333333333
         ],
         "yaxis": "y2"
        },
        {
         "legendgroup": "L1 norm",
         "marker": {
          "color": "blue",
          "opacity": 0.5,
          "size": 6
         },
         "mode": "markers",
         "name": "L1 norm",
         "showlegend": true,
         "type": "scatter",
         "x": [
          1.2,
          1.2,
          1.2,
          1.4,
          1.4,
          1.4,
          1,
          1,
          1
         ],
         "xaxis": "x2",
         "y": [
          79.30999756,
          79.09999847,
          79.44999695,
          79.58999634,
          79.27999878,
          79.48999786,
          80.94000244,
          80.81999969,
          80.85
         ],
         "yaxis": "y2"
        },
        {
         "fill": "toself",
         "fillcolor": "blue",
         "line": {
          "color": "blue"
         },
         "mode": "lines",
         "opacity": 0.2,
         "showlegend": false,
         "type": "scatter",
         "x": [
          1.15,
          1.25,
          1.25,
          1.15
         ],
         "xaxis": "x2",
         "y": [
          79.11050228809445,
          79.11050228809445,
          79.46282636523888,
          79.46282636523888
         ],
         "yaxis": "y2"
        },
        {
         "fill": "toself",
         "fillcolor": "blue",
         "line": {
          "color": "blue"
         },
         "mode": "lines",
         "opacity": 0.2,
         "showlegend": false,
         "type": "scatter",
         "x": [
          1.3499999999999999,
          1.45,
          1.45,
          1.3499999999999999
         ],
         "xaxis": "x2",
         "y": [
          79.29511289659706,
          79.29511289659706,
          79.61154909006962,
          79.61154909006962
         ],
         "yaxis": "y2"
        },
        {
         "fill": "toself",
         "fillcolor": "blue",
         "line": {
          "color": "blue"
         },
         "mode": "lines",
         "opacity": 0.2,
         "showlegend": false,
         "type": "scatter",
         "x": [
          0.95,
          1.05,
          1.05,
          0.95
         ],
         "xaxis": "x2",
         "y": [
          80.80754923842191,
          80.80754923842191,
          80.93245218157809,
          80.93245218157809
         ],
         "yaxis": "y2"
        },
        {
         "legendgroup": "L1 norm",
         "marker": {
          "color": "blue",
          "size": 10,
          "symbol": "x"
         },
         "mode": "markers",
         "name": "L1 norm mean",
         "showlegend": false,
         "type": "scatter",
         "x": [
          1.2,
          1.4,
          1
         ],
         "xaxis": "x2",
         "y": [
          79.28666432666667,
          79.45333099333334,
          80.87000071
         ],
         "yaxis": "y2"
        },
        {
         "legendgroup": "abs min",
         "marker": {
          "color": "orange",
          "opacity": 0.5,
          "size": 6
         },
         "mode": "markers",
         "name": "abs min",
         "showlegend": true,
         "type": "scatter",
         "x": [
          1.2,
          1.2,
          1.2,
          1.4,
          1.4,
          1.4
         ],
         "xaxis": "x2",
         "y": [
          78.73000336,
          78.79000092,
          78.69999695,
          78.81999969,
          79.05999756,
          79.52999878
         ],
         "yaxis": "y2"
        },
        {
         "fill": "toself",
         "fillcolor": "orange",
         "line": {
          "color": "orange"
         },
         "mode": "lines",
         "opacity": 0.2,
         "showlegend": false,
         "type": "scatter",
         "x": [
          1.15,
          1.25,
          1.25,
          1.15
         ],
         "xaxis": "x2",
         "y": [
          78.69417318653548,
          78.69417318653548,
          78.7858276334645,
          78.7858276334645
         ],
         "yaxis": "y2"
        },
        {
         "fill": "toself",
         "fillcolor": "orange",
         "line": {
          "color": "orange"
         },
         "mode": "lines",
         "opacity": 0.2,
         "showlegend": false,
         "type": "scatter",
         "x": [
          1.3499999999999999,
          1.45,
          1.45,
          1.3499999999999999
         ],
         "xaxis": "x2",
         "y": [
          78.77551005997014,
          78.77551005997014,
          79.49782062669652,
          79.49782062669652
         ],
         "yaxis": "y2"
        },
        {
         "legendgroup": "abs min",
         "marker": {
          "color": "orange",
          "size": 10,
          "symbol": "x"
         },
         "mode": "markers",
         "name": "abs min mean",
         "showlegend": false,
         "type": "scatter",
         "x": [
          1.2,
          1.4
         ],
         "xaxis": "x2",
         "y": [
          78.74000041,
          79.13666534333333
         ],
         "yaxis": "y2"
        },
        {
         "legendgroup": "abs max",
         "marker": {
          "color": "green",
          "opacity": 0.5,
          "size": 6
         },
         "mode": "markers",
         "showlegend": false,
         "type": "scatter",
         "x": [
          1.2,
          1.2,
          1.2
         ],
         "xaxis": "x3",
         "y": [
          79.25,
          78.93000031,
          79.62999725
         ],
         "yaxis": "y3"
        },
        {
         "fill": "toself",
         "fillcolor": "green",
         "line": {
          "color": "green"
         },
         "mode": "lines",
         "opacity": 0.2,
         "showlegend": false,
         "type": "scatter",
         "x": [
          1.15,
          1.25,
          1.25,
          1.15
         ],
         "xaxis": "x3",
         "y": [
          78.9195724402519,
          78.9195724402519,
          79.62042593308144,
          79.62042593308144
         ],
         "yaxis": "y3"
        },
        {
         "legendgroup": "abs max",
         "marker": {
          "color": "green",
          "size": 10,
          "symbol": "x"
         },
         "mode": "markers",
         "showlegend": false,
         "type": "scatter",
         "x": [
          1.2
         ],
         "xaxis": "x3",
         "y": [
          79.26999918666667
         ],
         "yaxis": "y3"
        },
        {
         "legendgroup": "abs min",
         "marker": {
          "color": "orange",
          "opacity": 0.5,
          "size": 6
         },
         "mode": "markers",
         "showlegend": false,
         "type": "scatter",
         "x": [
          1.2,
          1.2,
          1.2
         ],
         "xaxis": "x3",
         "y": [
          78.04000092,
          77.97000122,
          78.22000122
         ],
         "yaxis": "y3"
        },
        {
         "fill": "toself",
         "fillcolor": "orange",
         "line": {
          "color": "orange"
         },
         "mode": "lines",
         "opacity": 0.2,
         "showlegend": false,
         "type": "scatter",
         "x": [
          1.15,
          1.25,
          1.25,
          1.15
         ],
         "xaxis": "x3",
         "y": [
          77.94769746320672,
          77.94769746320672,
          78.20563811012663,
          78.20563811012663
         ],
         "yaxis": "y3"
        },
        {
         "legendgroup": "abs min",
         "marker": {
          "color": "orange",
          "size": 10,
          "symbol": "x"
         },
         "mode": "markers",
         "showlegend": false,
         "type": "scatter",
         "x": [
          1.2
         ],
         "xaxis": "x3",
         "y": [
          78.07666778666668
         ],
         "yaxis": "y3"
        },
        {
         "legendgroup": "L1 norm",
         "marker": {
          "color": "blue",
          "opacity": 0.5,
          "size": 6
         },
         "mode": "markers",
         "showlegend": false,
         "type": "scatter",
         "x": [
          1.2,
          1.2,
          1.2,
          1,
          1,
          1
         ],
         "xaxis": "x3",
         "y": [
          77.48999786,
          77.12000275,
          77.5,
          80.19000244,
          80.25,
          80.44000244
         ],
         "yaxis": "y3"
        },
        {
         "fill": "toself",
         "fillcolor": "blue",
         "line": {
          "color": "blue"
         },
         "mode": "lines",
         "opacity": 0.2,
         "showlegend": false,
         "type": "scatter",
         "x": [
          1.15,
          1.25,
          1.25,
          1.15
         ],
         "xaxis": "x3",
         "y": [
          77.15343830523949,
          77.15343830523949,
          77.58656210142718,
          77.58656210142718
         ],
         "yaxis": "y3"
        },
        {
         "fill": "toself",
         "fillcolor": "blue",
         "line": {
          "color": "blue"
         },
         "mode": "lines",
         "opacity": 0.2,
         "showlegend": false,
         "type": "scatter",
         "x": [
          0.95,
          1.05,
          1.05,
          0.95
         ],
         "xaxis": "x3",
         "y": [
          80.16282274191812,
          80.16282274191812,
          80.42384717808187,
          80.42384717808187
         ],
         "yaxis": "y3"
        },
        {
         "legendgroup": "L1 norm",
         "marker": {
          "color": "blue",
          "size": 10,
          "symbol": "x"
         },
         "mode": "markers",
         "showlegend": false,
         "type": "scatter",
         "x": [
          1.2,
          1
         ],
         "xaxis": "x3",
         "y": [
          77.37000020333333,
          80.29333496
         ],
         "yaxis": "y3"
        },
        {
         "legendgroup": "L2 norm",
         "marker": {
          "color": "red",
          "opacity": 0.5,
          "size": 6
         },
         "mode": "markers",
         "showlegend": false,
         "type": "scatter",
         "x": [
          1.2,
          1.2,
          1.2
         ],
         "xaxis": "x3",
         "y": [
          77.62000275,
          77.63999939,
          77.58000183
         ],
         "yaxis": "y3"
        },
        {
         "fill": "toself",
         "fillcolor": "red",
         "line": {
          "color": "red"
         },
         "mode": "lines",
         "opacity": 0.2,
         "showlegend": false,
         "type": "scatter",
         "x": [
          1.15,
          1.25,
          1.25,
          1.15
         ],
         "xaxis": "x3",
         "y": [
          77.58278511652259,
          77.58278511652259,
          77.64388419681075,
          77.64388419681075
         ],
         "yaxis": "y3"
        },
        {
         "legendgroup": "L2 norm",
         "marker": {
          "color": "red",
          "size": 10,
          "symbol": "x"
         },
         "mode": "markers",
         "showlegend": false,
         "type": "scatter",
         "x": [
          1.2
         ],
         "xaxis": "x3",
         "y": [
          77.61333465666667
         ],
         "yaxis": "y3"
        },
        {
         "legendgroup": "abs max",
         "marker": {
          "color": "green",
          "opacity": 0.5,
          "size": 6
         },
         "mode": "markers",
         "showlegend": false,
         "type": "scatter",
         "x": [
          1.2,
          1.2,
          1.2
         ],
         "xaxis": "x4",
         "y": [
          79.62000275,
          79.08000183,
          79.41000366
         ],
         "yaxis": "y4"
        },
        {
         "fill": "toself",
         "fillcolor": "green",
         "line": {
          "color": "green"
         },
         "mode": "lines",
         "opacity": 0.2,
         "showlegend": false,
         "type": "scatter",
         "x": [
          1.15,
          1.25,
          1.25,
          1.15
         ],
         "xaxis": "x4",
         "y": [
          79.09778903797287,
          79.09778903797287,
          79.64221645536047,
          79.64221645536047
         ],
         "yaxis": "y4"
        },
        {
         "legendgroup": "abs max",
         "marker": {
          "color": "green",
          "size": 10,
          "symbol": "x"
         },
         "mode": "markers",
         "showlegend": false,
         "type": "scatter",
         "x": [
          1.2
         ],
         "xaxis": "x4",
         "y": [
          79.37000274666667
         ],
         "yaxis": "y4"
        },
        {
         "legendgroup": "L1 norm",
         "marker": {
          "color": "blue",
          "opacity": 0.5,
          "size": 6
         },
         "mode": "markers",
         "showlegend": false,
         "type": "scatter",
         "x": [
          1,
          1,
          1
         ],
         "xaxis": "x4",
         "y": [
          80.70999908,
          80.73000336,
          80.06999969
         ],
         "yaxis": "y4"
        },
        {
         "fill": "toself",
         "fillcolor": "blue",
         "line": {
          "color": "blue"
         },
         "mode": "lines",
         "opacity": 0.2,
         "showlegend": false,
         "type": "scatter",
         "x": [
          0.95,
          1.05,
          1.05,
          0.95
         ],
         "xaxis": "x4",
         "y": [
          80.12792221728267,
          80.12792221728267,
          80.878745869384,
          80.878745869384
         ],
         "yaxis": "y4"
        },
        {
         "legendgroup": "L1 norm",
         "marker": {
          "color": "blue",
          "size": 10,
          "symbol": "x"
         },
         "mode": "markers",
         "showlegend": false,
         "type": "scatter",
         "x": [
          1
         ],
         "xaxis": "x4",
         "y": [
          80.50333404333334
         ],
         "yaxis": "y4"
        },
        {
         "legendgroup": "L1 norm then abs max",
         "marker": {
          "color": "rgb(0, 139, 139)",
          "opacity": 0.5,
          "size": 6
         },
         "mode": "markers",
         "name": "L1 norm then abs max",
         "showlegend": true,
         "type": "scatter",
         "x": [
          1,
          1,
          1
         ],
         "xaxis": "x5",
         "y": [
          80.27999878,
          80.40000153,
          80.02999878
         ],
         "yaxis": "y5"
        },
        {
         "fill": "toself",
         "fillcolor": "rgb(0, 139, 139)",
         "line": {
          "color": "rgb(0, 139, 139)"
         },
         "mode": "lines",
         "opacity": 0.2,
         "showlegend": false,
         "type": "scatter",
         "x": [
          0.95,
          1.05,
          1.05,
          0.95
         ],
         "xaxis": "x5",
         "y": [
          80.04789723846774,
          80.04789723846774,
          80.42543548819891,
          80.42543548819891
         ],
         "yaxis": "y5"
        },
        {
         "legendgroup": "L1 norm then abs max",
         "marker": {
          "color": "rgb(0, 139, 139)",
          "size": 10,
          "symbol": "x"
         },
         "mode": "markers",
         "name": "L1 norm then abs max mean",
         "showlegend": false,
         "type": "scatter",
         "x": [
          1
         ],
         "xaxis": "x5",
         "y": [
          80.23666636333333
         ],
         "yaxis": "y5"
        },
        {
         "marker": {
          "opacity": 0,
          "size": 0
         },
         "mode": "markers",
         "name": "",
         "type": "scatter",
         "x": [
          null
         ],
         "y": [
          null
         ]
        },
        {
         "marker": {
          "color": "black",
          "size": 10,
          "symbol": "x"
         },
         "mode": "markers",
         "name": "Mean",
         "showlegend": true,
         "type": "scatter",
         "x": [
          1000000,
          1000001,
          1000001,
          1000000,
          1000000,
          1000000.5
         ],
         "y": [
          80.23666636333333
         ]
        },
        {
         "fill": "toself",
         "fillcolor": "black",
         "mode": "none",
         "name": "Mean ± Std",
         "opacity": 0.3,
         "showlegend": true,
         "type": "scatter",
         "x": [
          999999.95,
          1000000.05,
          1000000.05,
          999999.95
         ],
         "xaxis": "x5",
         "y": [
          75,
          75,
          80,
          80
         ],
         "yaxis": "y5"
        }
       ],
       "layout": {
        "annotations": [
         {
          "font": {
           "size": 16
          },
          "showarrow": false,
          "text": "Dense Baseline",
          "x": 0.04666666666666666,
          "xanchor": "center",
          "xref": "paper",
          "y": 1,
          "yanchor": "bottom",
          "yref": "paper"
         },
         {
          "font": {
           "size": 16
          },
          "showarrow": false,
          "text": "Base Experiments",
          "x": 0.2733333333333333,
          "xanchor": "center",
          "xref": "paper",
          "y": 1,
          "yanchor": "bottom",
          "yref": "paper"
         },
         {
          "font": {
           "size": 16
          },
          "showarrow": false,
          "text": "AC/DC",
          "x": 0.5466666666666666,
          "xanchor": "center",
          "xref": "paper",
          "y": 1,
          "yanchor": "bottom",
          "yref": "paper"
         },
         {
          "font": {
           "size": 16
          },
          "showarrow": false,
          "text": "AC/DC (alt.LR)",
          "x": 0.7733333333333332,
          "xanchor": "center",
          "xref": "paper",
          "y": 1,
          "yanchor": "bottom",
          "yref": "paper"
         },
         {
          "font": {
           "size": 16
          },
          "showarrow": false,
          "text": "Other",
          "x": 0.9533333333333334,
          "xanchor": "center",
          "xref": "paper",
          "y": 1,
          "yanchor": "bottom",
          "yref": "paper"
         },
         {
          "font": {
           "size": 17
          },
          "showarrow": false,
          "text": "Pruning Type",
          "x": 0.5,
          "xanchor": "center",
          "xref": "paper",
          "y": -0.52,
          "yanchor": "top",
          "yref": "paper"
         }
        ],
        "height": 820,
        "legend": {
         "font": {
          "size": 16
         },
         "orientation": "h",
         "title": {
          "text": "Metric"
         },
         "x": 0.5,
         "xanchor": "center",
         "y": -0.9,
         "yanchor": "bottom"
        },
        "margin": {
         "l": 50,
         "r": 50,
         "t": 120
        },
        "template": {
         "data": {
          "bar": [
           {
            "error_x": {
             "color": "#2a3f5f"
            },
            "error_y": {
             "color": "#2a3f5f"
            },
            "marker": {
             "line": {
              "color": "#E5ECF6",
              "width": 0.5
             },
             "pattern": {
              "fillmode": "overlay",
              "size": 10,
              "solidity": 0.2
             }
            },
            "type": "bar"
           }
          ],
          "barpolar": [
           {
            "marker": {
             "line": {
              "color": "#E5ECF6",
              "width": 0.5
             },
             "pattern": {
              "fillmode": "overlay",
              "size": 10,
              "solidity": 0.2
             }
            },
            "type": "barpolar"
           }
          ],
          "carpet": [
           {
            "aaxis": {
             "endlinecolor": "#2a3f5f",
             "gridcolor": "white",
             "linecolor": "white",
             "minorgridcolor": "white",
             "startlinecolor": "#2a3f5f"
            },
            "baxis": {
             "endlinecolor": "#2a3f5f",
             "gridcolor": "white",
             "linecolor": "white",
             "minorgridcolor": "white",
             "startlinecolor": "#2a3f5f"
            },
            "type": "carpet"
           }
          ],
          "choropleth": [
           {
            "colorbar": {
             "outlinewidth": 0,
             "ticks": ""
            },
            "type": "choropleth"
           }
          ],
          "contour": [
           {
            "colorbar": {
             "outlinewidth": 0,
             "ticks": ""
            },
            "colorscale": [
             [
              0,
              "#0d0887"
             ],
             [
              0.1111111111111111,
              "#46039f"
             ],
             [
              0.2222222222222222,
              "#7201a8"
             ],
             [
              0.3333333333333333,
              "#9c179e"
             ],
             [
              0.4444444444444444,
              "#bd3786"
             ],
             [
              0.5555555555555556,
              "#d8576b"
             ],
             [
              0.6666666666666666,
              "#ed7953"
             ],
             [
              0.7777777777777778,
              "#fb9f3a"
             ],
             [
              0.8888888888888888,
              "#fdca26"
             ],
             [
              1,
              "#f0f921"
             ]
            ],
            "type": "contour"
           }
          ],
          "contourcarpet": [
           {
            "colorbar": {
             "outlinewidth": 0,
             "ticks": ""
            },
            "type": "contourcarpet"
           }
          ],
          "heatmap": [
           {
            "colorbar": {
             "outlinewidth": 0,
             "ticks": ""
            },
            "colorscale": [
             [
              0,
              "#0d0887"
             ],
             [
              0.1111111111111111,
              "#46039f"
             ],
             [
              0.2222222222222222,
              "#7201a8"
             ],
             [
              0.3333333333333333,
              "#9c179e"
             ],
             [
              0.4444444444444444,
              "#bd3786"
             ],
             [
              0.5555555555555556,
              "#d8576b"
             ],
             [
              0.6666666666666666,
              "#ed7953"
             ],
             [
              0.7777777777777778,
              "#fb9f3a"
             ],
             [
              0.8888888888888888,
              "#fdca26"
             ],
             [
              1,
              "#f0f921"
             ]
            ],
            "type": "heatmap"
           }
          ],
          "heatmapgl": [
           {
            "colorbar": {
             "outlinewidth": 0,
             "ticks": ""
            },
            "colorscale": [
             [
              0,
              "#0d0887"
             ],
             [
              0.1111111111111111,
              "#46039f"
             ],
             [
              0.2222222222222222,
              "#7201a8"
             ],
             [
              0.3333333333333333,
              "#9c179e"
             ],
             [
              0.4444444444444444,
              "#bd3786"
             ],
             [
              0.5555555555555556,
              "#d8576b"
             ],
             [
              0.6666666666666666,
              "#ed7953"
             ],
             [
              0.7777777777777778,
              "#fb9f3a"
             ],
             [
              0.8888888888888888,
              "#fdca26"
             ],
             [
              1,
              "#f0f921"
             ]
            ],
            "type": "heatmapgl"
           }
          ],
          "histogram": [
           {
            "marker": {
             "pattern": {
              "fillmode": "overlay",
              "size": 10,
              "solidity": 0.2
             }
            },
            "type": "histogram"
           }
          ],
          "histogram2d": [
           {
            "colorbar": {
             "outlinewidth": 0,
             "ticks": ""
            },
            "colorscale": [
             [
              0,
              "#0d0887"
             ],
             [
              0.1111111111111111,
              "#46039f"
             ],
             [
              0.2222222222222222,
              "#7201a8"
             ],
             [
              0.3333333333333333,
              "#9c179e"
             ],
             [
              0.4444444444444444,
              "#bd3786"
             ],
             [
              0.5555555555555556,
              "#d8576b"
             ],
             [
              0.6666666666666666,
              "#ed7953"
             ],
             [
              0.7777777777777778,
              "#fb9f3a"
             ],
             [
              0.8888888888888888,
              "#fdca26"
             ],
             [
              1,
              "#f0f921"
             ]
            ],
            "type": "histogram2d"
           }
          ],
          "histogram2dcontour": [
           {
            "colorbar": {
             "outlinewidth": 0,
             "ticks": ""
            },
            "colorscale": [
             [
              0,
              "#0d0887"
             ],
             [
              0.1111111111111111,
              "#46039f"
             ],
             [
              0.2222222222222222,
              "#7201a8"
             ],
             [
              0.3333333333333333,
              "#9c179e"
             ],
             [
              0.4444444444444444,
              "#bd3786"
             ],
             [
              0.5555555555555556,
              "#d8576b"
             ],
             [
              0.6666666666666666,
              "#ed7953"
             ],
             [
              0.7777777777777778,
              "#fb9f3a"
             ],
             [
              0.8888888888888888,
              "#fdca26"
             ],
             [
              1,
              "#f0f921"
             ]
            ],
            "type": "histogram2dcontour"
           }
          ],
          "mesh3d": [
           {
            "colorbar": {
             "outlinewidth": 0,
             "ticks": ""
            },
            "type": "mesh3d"
           }
          ],
          "parcoords": [
           {
            "line": {
             "colorbar": {
              "outlinewidth": 0,
              "ticks": ""
             }
            },
            "type": "parcoords"
           }
          ],
          "pie": [
           {
            "automargin": true,
            "type": "pie"
           }
          ],
          "scatter": [
           {
            "fillpattern": {
             "fillmode": "overlay",
             "size": 10,
             "solidity": 0.2
            },
            "type": "scatter"
           }
          ],
          "scatter3d": [
           {
            "line": {
             "colorbar": {
              "outlinewidth": 0,
              "ticks": ""
             }
            },
            "marker": {
             "colorbar": {
              "outlinewidth": 0,
              "ticks": ""
             }
            },
            "type": "scatter3d"
           }
          ],
          "scattercarpet": [
           {
            "marker": {
             "colorbar": {
              "outlinewidth": 0,
              "ticks": ""
             }
            },
            "type": "scattercarpet"
           }
          ],
          "scattergeo": [
           {
            "marker": {
             "colorbar": {
              "outlinewidth": 0,
              "ticks": ""
             }
            },
            "type": "scattergeo"
           }
          ],
          "scattergl": [
           {
            "marker": {
             "colorbar": {
              "outlinewidth": 0,
              "ticks": ""
             }
            },
            "type": "scattergl"
           }
          ],
          "scattermapbox": [
           {
            "marker": {
             "colorbar": {
              "outlinewidth": 0,
              "ticks": ""
             }
            },
            "type": "scattermapbox"
           }
          ],
          "scatterpolar": [
           {
            "marker": {
             "colorbar": {
              "outlinewidth": 0,
              "ticks": ""
             }
            },
            "type": "scatterpolar"
           }
          ],
          "scatterpolargl": [
           {
            "marker": {
             "colorbar": {
              "outlinewidth": 0,
              "ticks": ""
             }
            },
            "type": "scatterpolargl"
           }
          ],
          "scatterternary": [
           {
            "marker": {
             "colorbar": {
              "outlinewidth": 0,
              "ticks": ""
             }
            },
            "type": "scatterternary"
           }
          ],
          "surface": [
           {
            "colorbar": {
             "outlinewidth": 0,
             "ticks": ""
            },
            "colorscale": [
             [
              0,
              "#0d0887"
             ],
             [
              0.1111111111111111,
              "#46039f"
             ],
             [
              0.2222222222222222,
              "#7201a8"
             ],
             [
              0.3333333333333333,
              "#9c179e"
             ],
             [
              0.4444444444444444,
              "#bd3786"
             ],
             [
              0.5555555555555556,
              "#d8576b"
             ],
             [
              0.6666666666666666,
              "#ed7953"
             ],
             [
              0.7777777777777778,
              "#fb9f3a"
             ],
             [
              0.8888888888888888,
              "#fdca26"
             ],
             [
              1,
              "#f0f921"
             ]
            ],
            "type": "surface"
           }
          ],
          "table": [
           {
            "cells": {
             "fill": {
              "color": "#EBF0F8"
             },
             "line": {
              "color": "white"
             }
            },
            "header": {
             "fill": {
              "color": "#C8D4E3"
             },
             "line": {
              "color": "white"
             }
            },
            "type": "table"
           }
          ]
         },
         "layout": {
          "annotationdefaults": {
           "arrowcolor": "#2a3f5f",
           "arrowhead": 0,
           "arrowwidth": 1
          },
          "autotypenumbers": "strict",
          "coloraxis": {
           "colorbar": {
            "outlinewidth": 0,
            "ticks": ""
           }
          },
          "colorscale": {
           "diverging": [
            [
             0,
             "#8e0152"
            ],
            [
             0.1,
             "#c51b7d"
            ],
            [
             0.2,
             "#de77ae"
            ],
            [
             0.3,
             "#f1b6da"
            ],
            [
             0.4,
             "#fde0ef"
            ],
            [
             0.5,
             "#f7f7f7"
            ],
            [
             0.6,
             "#e6f5d0"
            ],
            [
             0.7,
             "#b8e186"
            ],
            [
             0.8,
             "#7fbc41"
            ],
            [
             0.9,
             "#4d9221"
            ],
            [
             1,
             "#276419"
            ]
           ],
           "sequential": [
            [
             0,
             "#0d0887"
            ],
            [
             0.1111111111111111,
             "#46039f"
            ],
            [
             0.2222222222222222,
             "#7201a8"
            ],
            [
             0.3333333333333333,
             "#9c179e"
            ],
            [
             0.4444444444444444,
             "#bd3786"
            ],
            [
             0.5555555555555556,
             "#d8576b"
            ],
            [
             0.6666666666666666,
             "#ed7953"
            ],
            [
             0.7777777777777778,
             "#fb9f3a"
            ],
            [
             0.8888888888888888,
             "#fdca26"
            ],
            [
             1,
             "#f0f921"
            ]
           ],
           "sequentialminus": [
            [
             0,
             "#0d0887"
            ],
            [
             0.1111111111111111,
             "#46039f"
            ],
            [
             0.2222222222222222,
             "#7201a8"
            ],
            [
             0.3333333333333333,
             "#9c179e"
            ],
            [
             0.4444444444444444,
             "#bd3786"
            ],
            [
             0.5555555555555556,
             "#d8576b"
            ],
            [
             0.6666666666666666,
             "#ed7953"
            ],
            [
             0.7777777777777778,
             "#fb9f3a"
            ],
            [
             0.8888888888888888,
             "#fdca26"
            ],
            [
             1,
             "#f0f921"
            ]
           ]
          },
          "colorway": [
           "#636efa",
           "#EF553B",
           "#00cc96",
           "#ab63fa",
           "#FFA15A",
           "#19d3f3",
           "#FF6692",
           "#B6E880",
           "#FF97FF",
           "#FECB52"
          ],
          "font": {
           "color": "#2a3f5f"
          },
          "geo": {
           "bgcolor": "white",
           "lakecolor": "white",
           "landcolor": "#E5ECF6",
           "showlakes": true,
           "showland": true,
           "subunitcolor": "white"
          },
          "hoverlabel": {
           "align": "left"
          },
          "hovermode": "closest",
          "mapbox": {
           "style": "light"
          },
          "paper_bgcolor": "white",
          "plot_bgcolor": "#E5ECF6",
          "polar": {
           "angularaxis": {
            "gridcolor": "white",
            "linecolor": "white",
            "ticks": ""
           },
           "bgcolor": "#E5ECF6",
           "radialaxis": {
            "gridcolor": "white",
            "linecolor": "white",
            "ticks": ""
           }
          },
          "scene": {
           "xaxis": {
            "backgroundcolor": "#E5ECF6",
            "gridcolor": "white",
            "gridwidth": 2,
            "linecolor": "white",
            "showbackground": true,
            "ticks": "",
            "zerolinecolor": "white"
           },
           "yaxis": {
            "backgroundcolor": "#E5ECF6",
            "gridcolor": "white",
            "gridwidth": 2,
            "linecolor": "white",
            "showbackground": true,
            "ticks": "",
            "zerolinecolor": "white"
           },
           "zaxis": {
            "backgroundcolor": "#E5ECF6",
            "gridcolor": "white",
            "gridwidth": 2,
            "linecolor": "white",
            "showbackground": true,
            "ticks": "",
            "zerolinecolor": "white"
           }
          },
          "shapedefaults": {
           "line": {
            "color": "#2a3f5f"
           }
          },
          "ternary": {
           "aaxis": {
            "gridcolor": "white",
            "linecolor": "white",
            "ticks": ""
           },
           "baxis": {
            "gridcolor": "white",
            "linecolor": "white",
            "ticks": ""
           },
           "bgcolor": "#E5ECF6",
           "caxis": {
            "gridcolor": "white",
            "linecolor": "white",
            "ticks": ""
           }
          },
          "title": {
           "x": 0.05
          },
          "xaxis": {
           "automargin": true,
           "gridcolor": "white",
           "linecolor": "white",
           "ticks": "",
           "title": {
            "standoff": 15
           },
           "zerolinecolor": "white",
           "zerolinewidth": 2
          },
          "yaxis": {
           "automargin": true,
           "gridcolor": "white",
           "linecolor": "white",
           "ticks": "",
           "title": {
            "standoff": 15
           },
           "zerolinecolor": "white",
           "zerolinewidth": 2
          }
         }
        },
        "title": {
         "font": {
          "size": 20
         },
         "text": "Pruning Experiments Comparison at 80% Sparsity",
         "x": 0.5,
         "xanchor": "center"
        },
        "width": 820,
        "xaxis": {
         "anchor": "y",
         "domain": [
          0,
          0.09333333333333332
         ],
         "range": [
          0.87,
          1.1300000000000001
         ],
         "showgrid": false,
         "tickangle": 70,
         "tickfont": {
          "size": 16
         },
         "tickmode": "array",
         "ticktext": [
          "none"
         ],
         "tickvals": [
          1
         ]
        },
        "xaxis2": {
         "anchor": "y2",
         "domain": [
          0.13333333333333333,
          0.41333333333333333
         ],
         "range": [
          0.87,
          1.53
         ],
         "showgrid": false,
         "tickangle": 70,
         "tickfont": {
          "size": 16
         },
         "tickmode": "array",
         "ticktext": [
          "unstructured",
          "block",
          "block iterative (2 steps)"
         ],
         "tickvals": [
          1,
          1.2,
          1.4
         ]
        },
        "xaxis3": {
         "anchor": "y3",
         "domain": [
          0.4533333333333333,
          0.6399999999999999
         ],
         "range": [
          0.87,
          1.33
         ],
         "showgrid": false,
         "tickangle": 70,
         "tickfont": {
          "size": 16
         },
         "tickmode": "array",
         "ticktext": [
          "unstructured",
          "block"
         ],
         "tickvals": [
          1,
          1.2
         ]
        },
        "xaxis4": {
         "anchor": "y4",
         "domain": [
          0.6799999999999999,
          0.8666666666666666
         ],
         "range": [
          0.87,
          1.33
         ],
         "showgrid": false,
         "tickangle": 70,
         "tickfont": {
          "size": 16
         },
         "tickmode": "array",
         "ticktext": [
          "unstructured",
          "block"
         ],
         "tickvals": [
          1,
          1.2
         ]
        },
        "xaxis5": {
         "anchor": "y5",
         "domain": [
          0.9066666666666666,
          1
         ],
         "range": [
          0.87,
          1.1300000000000001
         ],
         "showgrid": false,
         "tickangle": 70,
         "tickfont": {
          "size": 16
         },
         "tickmode": "array",
         "ticktext": [
          "iterative unstructured to block"
         ],
         "tickvals": [
          1
         ]
        },
        "yaxis": {
         "anchor": "x",
         "domain": [
          0,
          1
         ],
         "range": [
          76.5,
          81.5
         ],
         "title": {
          "font": {
           "size": 17
          },
          "text": "Validation Accuracy [%]"
         }
        },
        "yaxis2": {
         "anchor": "x2",
         "domain": [
          0,
          1
         ],
         "matches": "y",
         "range": [
          76.5,
          81.5
         ],
         "showticklabels": false
        },
        "yaxis3": {
         "anchor": "x3",
         "domain": [
          0,
          1
         ],
         "matches": "y",
         "range": [
          76.5,
          81.5
         ],
         "showticklabels": false
        },
        "yaxis4": {
         "anchor": "x4",
         "domain": [
          0,
          1
         ],
         "matches": "y",
         "range": [
          76.5,
          81.5
         ],
         "showticklabels": false
        },
        "yaxis5": {
         "anchor": "x5",
         "domain": [
          0,
          1
         ],
         "matches": "y",
         "range": [
          76.5,
          81.5
         ],
         "showticklabels": false
        }
       }
      }
     },
     "metadata": {},
     "output_type": "display_data"
    }
   ],
   "source": [
    "# Calculate subplot widths\n",
    "group_widths = [len(group['experiment'].unique()) for _, group in grouped]\n",
    "total = sum(group_widths)\n",
    "normalized_widths = [w / total for w in group_widths]\n",
    "\n",
    "custom_order = ['none', 'unstructured', 'iterative unstructured to block', 'block', 'block iterative (2 steps)', 'block iterative (multiple steps)', 'block stepwise gradual']\n",
    "\n",
    "# Create subplots with proportional widths\n",
    "fig = make_subplots(\n",
    "    rows=1,\n",
    "    cols=len(grouped),\n",
    "    shared_yaxes=True,\n",
    "    column_widths=normalized_widths,\n",
    "    subplot_titles=[group for group, _ in grouped]\n",
    ")\n",
    "\n",
    "shown_metrics = set()\n",
    "\n",
    "for i, (group_name, group_df) in enumerate(grouped, start=1):\n",
    "    experiments = [exp for exp in custom_order if exp in group_df['experiment'].unique()]\n",
    "    experiment_to_x = {exp: 1 + j/5 for j, exp in enumerate(experiments)}\n",
    "    box_width = 0.05  # Controls whisker rectangle width\n",
    "    xmin = 1 -box_width - 0.08\n",
    "    xmax = max(experiment_to_x.values()) + box_width + 0.08\n",
    "\n",
    "    for metric in group_df['metric'].unique():\n",
    "        subset = group_df[group_df['metric'] == metric]\n",
    "        show_legend = metric not in shown_metrics\n",
    "\n",
    "        # Compute mean and std\n",
    "        stats = subset.groupby('experiment')['valid_accuracy'].agg(['mean', 'std']).reset_index()\n",
    "\n",
    "        # Plot raw data\n",
    "        fig.add_trace(\n",
    "            go.Scatter(\n",
    "                x=[experiment_to_x[exp] - 0 for exp in subset['experiment']],\n",
    "                y=subset['valid_accuracy'],\n",
    "                mode='markers',\n",
    "                marker=dict(size=6, opacity=0.5, color=color_map[metric]),\n",
    "                name=f'{metric}' if show_legend else None,\n",
    "                legendgroup=metric,\n",
    "                showlegend=show_legend\n",
    "            ),\n",
    "            row=1,\n",
    "            col=i\n",
    "        )\n",
    "\n",
    "        # Plot rectangular whiskers (mean ± std)\n",
    "        for _, row_stats in stats.iterrows():\n",
    "            x_center = experiment_to_x[row_stats['experiment']]\n",
    "            mean = row_stats['mean']\n",
    "            std = row_stats['std']\n",
    "            x0 = x_center - box_width\n",
    "            x1 = x_center + box_width\n",
    "            y0 = mean - std\n",
    "            y1 = mean + std\n",
    "\n",
    "            fig.add_trace(\n",
    "                go.Scatter(\n",
    "                    x=[x0, x1, x1, x0],  # Points to define the rectangle corners\n",
    "                    y=[y0, y0, y1, y1],  # Points to define the rectangle height\n",
    "                    fill='toself',  # Fill the area inside the rectangle\n",
    "                    fillcolor=color_map[metric],  # Fill color\n",
    "                    opacity=0.2,  # Transparency of the filled area\n",
    "                    line=dict(color=color_map[metric]),  \n",
    "                    showlegend=False,  # Don't show in the legend,\n",
    "                    mode='lines'\n",
    "                ),\n",
    "                row=1,\n",
    "                col=i\n",
    "            )\n",
    "\n",
    "        # Plot mean as 'x'\n",
    "        fig.add_trace(\n",
    "            go.Scatter(\n",
    "                x=[experiment_to_x[exp] for exp in stats['experiment']],\n",
    "                y=stats['mean'],\n",
    "                mode='markers',\n",
    "                marker=dict(symbol='x', size=10, color=color_map[metric]),\n",
    "                name=f'{metric} mean' if show_legend else None,\n",
    "                legendgroup=metric,\n",
    "                showlegend=False\n",
    "            ),\n",
    "            row=1,\n",
    "            col=i\n",
    "        )\n",
    "\n",
    "        if show_legend:\n",
    "            shown_metrics.add(metric)\n",
    "\n",
    "    # Set tick labels back to experiment names\n",
    "    fig.update_xaxes(\n",
    "        range=[xmin, xmax],\n",
    "        tickmode='array',\n",
    "        tickvals=list(experiment_to_x.values()),\n",
    "        ticktext=list(experiment_to_x.keys()),\n",
    "        row=1,\n",
    "        col=i,\n",
    "        tickfont=dict(size=16)\n",
    "    )\n",
    "\n",
    "# Add a blank trace to create space in the legend\n",
    "fig.add_trace(\n",
    "    go.Scatter(\n",
    "    x=[None], y=[None],\n",
    "    mode='markers',\n",
    "    marker=dict(size=0, opacity=0),  # Invisible marker\n",
    "    name=''  # Empty name to act as a separator\n",
    "    )\n",
    ")\n",
    "\n",
    "x_offset = 1e6  # Very large number off-screen\n",
    "fig.add_trace(\n",
    "    go.Scatter(\n",
    "        x=[x_offset, x_offset + 1, x_offset + 1, x_offset, x_offset, x_offset + 0.5],\n",
    "        y=stats['mean'],\n",
    "        mode='markers',\n",
    "        marker=dict(symbol='x', size=10, color='black'),\n",
    "        name='Mean',\n",
    "        showlegend=True\n",
    "    )\n",
    ")\n",
    "fig.add_trace(\n",
    "    go.Scatter(\n",
    "        x=[x_offset - box_width, x_offset + box_width, x_offset + box_width, x_offset - box_width],  # Points to define the rectangle corners\n",
    "        y=[75, 75, 80, 80],  # Points to define the rectangle height\n",
    "        fill='toself',  # Fill the area inside the rectangle\n",
    "        fillcolor='black',  # Fill color\n",
    "        opacity=0.3,  # Transparency of the filled area\n",
    "        name='Mean ± Std',\n",
    "        mode='none',              # This hides both line and marker\n",
    "        showlegend=True, \n",
    "    ),\n",
    "    row=1,\n",
    "    col=i\n",
    ")\n",
    "\n",
    "\n",
    "fig.update_layout(\n",
    "    title=dict(\n",
    "        text='Pruning Experiments Comparison at 80% Sparsity',\n",
    "        x=0.5,             \n",
    "        xanchor='center', \n",
    "        font=dict(size=20) \n",
    "    ),\n",
    "    yaxis_title='Validation Accuracy [%]',\n",
    "    legend_title='Metric',\n",
    "    height=820,\n",
    "    width=820,\n",
    "    yaxis=dict(titlefont=dict(size=17)),\n",
    ")\n",
    "fig.update_layout(annotations=[])\n",
    "fig.add_annotation(\n",
    "    text=\"Pruning Type\",\n",
    "    xref=\"paper\",\n",
    "    yref=\"paper\",\n",
    "    x=0.5,\n",
    "    y=-0.52,\n",
    "    showarrow=False,\n",
    "    font=dict(size=17),\n",
    "    xanchor='center',\n",
    "    yanchor='top'\n",
    ")\n",
    "fig.update_xaxes(tickangle=70)\n",
    "fig.update_xaxes(showgrid=False)  \n",
    "fig.update_layout(\n",
    "    legend=dict(\n",
    "        orientation='h',  # Make the legend horizontal\n",
    "        yanchor='bottom',  # Set the legend's vertical position\n",
    "        y=-0.9, \n",
    "        xanchor='center',  # Set the legend's horizontal position\n",
    "        x=0.5,  # Center the legend horizontally,\n",
    "        font=dict(size=16)\n",
    "    ),\n",
    "    margin=dict(\n",
    "            l=50,  \n",
    "            r=50,  \n",
    "            t=120,  \n",
    "    ),\n",
    ")\n",
    "fig.update_yaxes(range=[76.5, 81.5])\n",
    "# pio.write_image(fig, \"plots/exports/plot80.png\", width=820, height=820, scale=3)\n",
    "fig.show()\n"
   ]
  },
  {
   "cell_type": "code",
   "execution_count": 10,
   "id": "07fc23a4",
   "metadata": {},
   "outputs": [
    {
     "data": {
      "application/vnd.plotly.v1+json": {
       "config": {
        "plotlyServerURL": "https://plot.ly"
       },
       "data": [
        {
         "legendgroup": "none",
         "marker": {
          "color": "grey",
          "opacity": 0.5,
          "size": 6
         },
         "mode": "markers",
         "name": "none",
         "showlegend": true,
         "type": "scatter",
         "x": [
          1,
          1,
          1
         ],
         "xaxis": "x",
         "y": [
          80.69000244,
          81.04000092,
          81.15000153
         ],
         "yaxis": "y"
        },
        {
         "fill": "toself",
         "fillcolor": "grey",
         "line": {
          "color": "grey"
         },
         "mode": "lines",
         "opacity": 0.2,
         "showlegend": false,
         "type": "scatter",
         "x": [
          0.95,
          1.05,
          1.05,
          0.95
         ],
         "xaxis": "x",
         "y": [
          80.71979400002006,
          80.71979400002006,
          81.20020925997996,
          81.20020925997996
         ],
         "yaxis": "y"
        },
        {
         "legendgroup": "none",
         "marker": {
          "color": "grey",
          "size": 10,
          "symbol": "x"
         },
         "mode": "markers",
         "name": "none mean",
         "showlegend": false,
         "type": "scatter",
         "x": [
          1
         ],
         "xaxis": "x",
         "y": [
          80.96000163000001
         ],
         "yaxis": "y"
        },
        {
         "legendgroup": "L2 norm",
         "marker": {
          "color": "red",
          "opacity": 0.5,
          "size": 6
         },
         "mode": "markers",
         "name": "L2 norm",
         "showlegend": true,
         "type": "scatter",
         "x": [
          1.2,
          1.2,
          1.2,
          1.4,
          1.4,
          1.4
         ],
         "xaxis": "x2",
         "y": [
          77.86000061,
          78.08000183,
          77.68000031,
          78.80999756,
          79.31999969,
          78.80000305
         ],
         "yaxis": "y2"
        },
        {
         "fill": "toself",
         "fillcolor": "red",
         "line": {
          "color": "red"
         },
         "mode": "lines",
         "opacity": 0.2,
         "showlegend": false,
         "type": "scatter",
         "x": [
          1.15,
          1.25,
          1.25,
          1.15
         ],
         "xaxis": "x2",
         "y": [
          77.67300041993799,
          77.67300041993799,
          78.073668080062,
          78.073668080062
         ],
         "yaxis": "y2"
        },
        {
         "fill": "toself",
         "fillcolor": "red",
         "line": {
          "color": "red"
         },
         "mode": "lines",
         "opacity": 0.2,
         "showlegend": false,
         "type": "scatter",
         "x": [
          1.3499999999999999,
          1.45,
          1.45,
          1.3499999999999999
         ],
         "xaxis": "x2",
         "y": [
          78.67928974209853,
          78.67928974209853,
          79.2740437912348,
          79.2740437912348
         ],
         "yaxis": "y2"
        },
        {
         "legendgroup": "L2 norm",
         "marker": {
          "color": "red",
          "size": 10,
          "symbol": "x"
         },
         "mode": "markers",
         "name": "L2 norm mean",
         "showlegend": false,
         "type": "scatter",
         "x": [
          1.2,
          1.4
         ],
         "xaxis": "x2",
         "y": [
          77.87333425,
          78.97666676666667
         ],
         "yaxis": "y2"
        },
        {
         "legendgroup": "L1 norm",
         "marker": {
          "color": "blue",
          "opacity": 0.5,
          "size": 6
         },
         "mode": "markers",
         "name": "L1 norm",
         "showlegend": true,
         "type": "scatter",
         "x": [
          1.2,
          1.2,
          1.2,
          1.4,
          1.4,
          1.4,
          1,
          1,
          1
         ],
         "xaxis": "x2",
         "y": [
          76.08000183,
          77.04000092,
          76.59999847,
          78.36000061,
          78.37000275,
          79.04000092,
          80.73000336,
          80.80999756,
          80.61000061
         ],
         "yaxis": "y2"
        },
        {
         "fill": "toself",
         "fillcolor": "blue",
         "line": {
          "color": "blue"
         },
         "mode": "lines",
         "opacity": 0.2,
         "showlegend": false,
         "type": "scatter",
         "x": [
          1.15,
          1.25,
          1.25,
          1.15
         ],
         "xaxis": "x2",
         "y": [
          76.09277904064759,
          76.09277904064759,
          77.0538884393524,
          77.0538884393524
         ],
         "yaxis": "y2"
        },
        {
         "fill": "toself",
         "fillcolor": "blue",
         "line": {
          "color": "blue"
         },
         "mode": "lines",
         "opacity": 0.2,
         "showlegend": false,
         "type": "scatter",
         "x": [
          1.3499999999999999,
          1.45,
          1.45,
          1.3499999999999999
         ],
         "xaxis": "x2",
         "y": [
          78.2002583462902,
          78.2002583462902,
          78.97974450704312,
          78.97974450704312
         ],
         "yaxis": "y2"
        },
        {
         "fill": "toself",
         "fillcolor": "blue",
         "line": {
          "color": "blue"
         },
         "mode": "lines",
         "opacity": 0.2,
         "showlegend": false,
         "type": "scatter",
         "x": [
          0.95,
          1.05,
          1.05,
          0.95
         ],
         "xaxis": "x2",
         "y": [
          80.61600394931054,
          80.61600394931054,
          80.81733040402278,
          80.81733040402278
         ],
         "yaxis": "y2"
        },
        {
         "legendgroup": "L1 norm",
         "marker": {
          "color": "blue",
          "size": 10,
          "symbol": "x"
         },
         "mode": "markers",
         "name": "L1 norm mean",
         "showlegend": false,
         "type": "scatter",
         "x": [
          1.2,
          1.4,
          1
         ],
         "xaxis": "x2",
         "y": [
          76.57333374,
          78.59000142666666,
          80.71666717666666
         ],
         "yaxis": "y2"
        },
        {
         "legendgroup": "abs min",
         "marker": {
          "color": "orange",
          "opacity": 0.5,
          "size": 6
         },
         "mode": "markers",
         "name": "abs min",
         "showlegend": true,
         "type": "scatter",
         "x": [
          1.2,
          1.2,
          1.2,
          1.4,
          1.4,
          1.4
         ],
         "xaxis": "x2",
         "y": [
          76.51999664,
          75.86000061,
          76.40000153,
          77.45999908,
          78.26000214,
          78.58999634
         ],
         "yaxis": "y2"
        },
        {
         "fill": "toself",
         "fillcolor": "orange",
         "line": {
          "color": "orange"
         },
         "mode": "lines",
         "opacity": 0.2,
         "showlegend": false,
         "type": "scatter",
         "x": [
          1.15,
          1.25,
          1.25,
          1.15
         ],
         "xaxis": "x2",
         "y": [
          75.9084329615169,
          75.9084329615169,
          76.61156622514977,
          76.61156622514977
         ],
         "yaxis": "y2"
        },
        {
         "fill": "toself",
         "fillcolor": "orange",
         "line": {
          "color": "orange"
         },
         "mode": "lines",
         "opacity": 0.2,
         "showlegend": false,
         "type": "scatter",
         "x": [
          1.3499999999999999,
          1.45,
          1.45,
          1.3499999999999999
         ],
         "xaxis": "x2",
         "y": [
          77.52227100924999,
          77.52227100924999,
          78.68439403075,
          78.68439403075
         ],
         "yaxis": "y2"
        },
        {
         "legendgroup": "abs min",
         "marker": {
          "color": "orange",
          "size": 10,
          "symbol": "x"
         },
         "mode": "markers",
         "name": "abs min mean",
         "showlegend": false,
         "type": "scatter",
         "x": [
          1.2,
          1.4
         ],
         "xaxis": "x2",
         "y": [
          76.25999959333333,
          78.10333252
         ],
         "yaxis": "y2"
        },
        {
         "legendgroup": "abs max",
         "marker": {
          "color": "green",
          "opacity": 0.5,
          "size": 6
         },
         "mode": "markers",
         "name": "abs max",
         "showlegend": true,
         "type": "scatter",
         "x": [
          1.2,
          1.2,
          1.2,
          1.4,
          1.4,
          1.4
         ],
         "xaxis": "x2",
         "y": [
          78.76000214,
          78.65000153,
          78.73000336,
          79.70999908,
          79.63999939,
          79.41999817
         ],
         "yaxis": "y2"
        },
        {
         "fill": "toself",
         "fillcolor": "green",
         "line": {
          "color": "green"
         },
         "mode": "lines",
         "opacity": 0.2,
         "showlegend": false,
         "type": "scatter",
         "x": [
          1.15,
          1.25,
          1.25,
          1.15
         ],
         "xaxis": "x2",
         "y": [
          78.65647275112754,
          78.65647275112754,
          78.77019860220578,
          78.77019860220578
         ],
         "yaxis": "y2"
        },
        {
         "fill": "toself",
         "fillcolor": "green",
         "line": {
          "color": "green"
         },
         "mode": "lines",
         "opacity": 0.2,
         "showlegend": false,
         "type": "scatter",
         "x": [
          1.3499999999999999,
          1.45,
          1.45,
          1.3499999999999999
         ],
         "xaxis": "x2",
         "y": [
          79.43867085813886,
          79.43867085813886,
          79.74132690186113,
          79.74132690186113
         ],
         "yaxis": "y2"
        },
        {
         "legendgroup": "abs max",
         "marker": {
          "color": "green",
          "size": 10,
          "symbol": "x"
         },
         "mode": "markers",
         "name": "abs max mean",
         "showlegend": false,
         "type": "scatter",
         "x": [
          1.2,
          1.4
         ],
         "xaxis": "x2",
         "y": [
          78.71333567666666,
          79.58999888
         ],
         "yaxis": "y2"
        },
        {
         "legendgroup": "L2 norm",
         "marker": {
          "color": "red",
          "opacity": 0.5,
          "size": 6
         },
         "mode": "markers",
         "showlegend": false,
         "type": "scatter",
         "x": [
          1.2,
          1.2,
          1.2
         ],
         "xaxis": "x3",
         "y": [
          75.41999817,
          75.15000153,
          75.16000366
         ],
         "yaxis": "y3"
        },
        {
         "fill": "toself",
         "fillcolor": "red",
         "line": {
          "color": "red"
         },
         "mode": "lines",
         "opacity": 0.2,
         "showlegend": false,
         "type": "scatter",
         "x": [
          1.15,
          1.25,
          1.25,
          1.15
         ],
         "xaxis": "x3",
         "y": [
          75.09025747191224,
          75.09025747191224,
          75.39641143475443,
          75.39641143475443
         ],
         "yaxis": "y3"
        },
        {
         "legendgroup": "L2 norm",
         "marker": {
          "color": "red",
          "size": 10,
          "symbol": "x"
         },
         "mode": "markers",
         "showlegend": false,
         "type": "scatter",
         "x": [
          1.2
         ],
         "xaxis": "x3",
         "y": [
          75.24333445333333
         ],
         "yaxis": "y3"
        },
        {
         "legendgroup": "abs min",
         "marker": {
          "color": "orange",
          "opacity": 0.5,
          "size": 6
         },
         "mode": "markers",
         "showlegend": false,
         "type": "scatter",
         "x": [
          1.2,
          1.2,
          1.2
         ],
         "xaxis": "x3",
         "y": [
          75.91999817,
          76.61000061,
          76.93000031
         ],
         "yaxis": "y3"
        },
        {
         "fill": "toself",
         "fillcolor": "orange",
         "line": {
          "color": "orange"
         },
         "mode": "lines",
         "opacity": 0.2,
         "showlegend": false,
         "type": "scatter",
         "x": [
          1.15,
          1.25,
          1.25,
          1.15
         ],
         "xaxis": "x3",
         "y": [
          75.9704933467955,
          75.9704933467955,
          77.00283937987116,
          77.00283937987116
         ],
         "yaxis": "y3"
        },
        {
         "legendgroup": "abs min",
         "marker": {
          "color": "orange",
          "size": 10,
          "symbol": "x"
         },
         "mode": "markers",
         "showlegend": false,
         "type": "scatter",
         "x": [
          1.2
         ],
         "xaxis": "x3",
         "y": [
          76.48666636333333
         ],
         "yaxis": "y3"
        },
        {
         "legendgroup": "L1 norm",
         "marker": {
          "color": "blue",
          "opacity": 0.5,
          "size": 6
         },
         "mode": "markers",
         "showlegend": false,
         "type": "scatter",
         "x": [
          1.2,
          1.2,
          1.2,
          1,
          1,
          1
         ],
         "xaxis": "x3",
         "y": [
          75.81999969,
          76.31999969,
          75.66000366,
          79.93000031,
          79.93000031,
          80.44999695
         ],
         "yaxis": "y3"
        },
        {
         "fill": "toself",
         "fillcolor": "blue",
         "line": {
          "color": "blue"
         },
         "mode": "lines",
         "opacity": 0.2,
         "showlegend": false,
         "type": "scatter",
         "x": [
          1.15,
          1.25,
          1.25,
          1.15
         ],
         "xaxis": "x3",
         "y": [
          75.58904922034655,
          75.58904922034655,
          76.27761947298679,
          76.27761947298679
         ],
         "yaxis": "y3"
        },
        {
         "fill": "toself",
         "fillcolor": "blue",
         "line": {
          "color": "blue"
         },
         "mode": "lines",
         "opacity": 0.2,
         "showlegend": false,
         "type": "scatter",
         "x": [
          0.95,
          1.05,
          1.05,
          0.95
         ],
         "xaxis": "x3",
         "y": [
          79.80311232325164,
          79.80311232325164,
          80.40355272341503,
          80.40355272341503
         ],
         "yaxis": "y3"
        },
        {
         "legendgroup": "L1 norm",
         "marker": {
          "color": "blue",
          "size": 10,
          "symbol": "x"
         },
         "mode": "markers",
         "showlegend": false,
         "type": "scatter",
         "x": [
          1.2,
          1
         ],
         "xaxis": "x3",
         "y": [
          75.93333434666667,
          80.10333252333334
         ],
         "yaxis": "y3"
        },
        {
         "legendgroup": "abs max",
         "marker": {
          "color": "green",
          "opacity": 0.5,
          "size": 6
         },
         "mode": "markers",
         "showlegend": false,
         "type": "scatter",
         "x": [
          1.2,
          1.2,
          1.2
         ],
         "xaxis": "x3",
         "y": [
          78.08000183,
          78.05000305,
          77.23000336
         ],
         "yaxis": "y3"
        },
        {
         "fill": "toself",
         "fillcolor": "green",
         "line": {
          "color": "green"
         },
         "mode": "lines",
         "opacity": 0.2,
         "showlegend": false,
         "type": "scatter",
         "x": [
          1.15,
          1.25,
          1.25,
          1.15
         ],
         "xaxis": "x3",
         "y": [
          77.30434918475004,
          77.30434918475004,
          78.26898964191665,
          78.26898964191665
         ],
         "yaxis": "y3"
        },
        {
         "legendgroup": "abs max",
         "marker": {
          "color": "green",
          "size": 10,
          "symbol": "x"
         },
         "mode": "markers",
         "showlegend": false,
         "type": "scatter",
         "x": [
          1.2
         ],
         "xaxis": "x3",
         "y": [
          77.78666941333334
         ],
         "yaxis": "y3"
        },
        {
         "legendgroup": "abs max",
         "marker": {
          "color": "green",
          "opacity": 0.5,
          "size": 6
         },
         "mode": "markers",
         "showlegend": false,
         "type": "scatter",
         "x": [
          1.2,
          1.2,
          1.2
         ],
         "xaxis": "x4",
         "y": [
          77.12000275,
          77.26000214,
          77.48000336
         ],
         "yaxis": "y4"
        },
        {
         "fill": "toself",
         "fillcolor": "green",
         "line": {
          "color": "green"
         },
         "mode": "lines",
         "opacity": 0.2,
         "showlegend": false,
         "type": "scatter",
         "x": [
          1.15,
          1.25,
          1.25,
          1.15
         ],
         "xaxis": "x4",
         "y": [
          77.10519361240146,
          77.10519361240146,
          77.46814522093187,
          77.46814522093187
         ],
         "yaxis": "y4"
        },
        {
         "legendgroup": "abs max",
         "marker": {
          "color": "green",
          "size": 10,
          "symbol": "x"
         },
         "mode": "markers",
         "showlegend": false,
         "type": "scatter",
         "x": [
          1.2
         ],
         "xaxis": "x4",
         "y": [
          77.28666941666667
         ],
         "yaxis": "y4"
        },
        {
         "legendgroup": "L1 norm",
         "marker": {
          "color": "blue",
          "opacity": 0.5,
          "size": 6
         },
         "mode": "markers",
         "showlegend": false,
         "type": "scatter",
         "x": [
          1,
          1,
          1
         ],
         "xaxis": "x4",
         "y": [
          80.25,
          79.98000336,
          80.06999969
         ],
         "yaxis": "y4"
        },
        {
         "fill": "toself",
         "fillcolor": "blue",
         "line": {
          "color": "blue"
         },
         "mode": "lines",
         "opacity": 0.2,
         "showlegend": false,
         "type": "scatter",
         "x": [
          0.95,
          1.05,
          1.05,
          0.95
         ],
         "xaxis": "x4",
         "y": [
          79.96252517841083,
          79.96252517841083,
          80.2374768549225,
          80.2374768549225
         ],
         "yaxis": "y4"
        },
        {
         "legendgroup": "L1 norm",
         "marker": {
          "color": "blue",
          "size": 10,
          "symbol": "x"
         },
         "mode": "markers",
         "showlegend": false,
         "type": "scatter",
         "x": [
          1
         ],
         "xaxis": "x4",
         "y": [
          80.10000101666667
         ],
         "yaxis": "y4"
        },
        {
         "legendgroup": "abs max",
         "marker": {
          "color": "green",
          "opacity": 0.5,
          "size": 6
         },
         "mode": "markers",
         "showlegend": false,
         "type": "scatter",
         "x": [
          1.2,
          1.2,
          1.2
         ],
         "xaxis": "x5",
         "y": [
          79.91000366,
          79.72000122,
          79.47000122
         ],
         "yaxis": "y5"
        },
        {
         "fill": "toself",
         "fillcolor": "green",
         "line": {
          "color": "green"
         },
         "mode": "lines",
         "opacity": 0.2,
         "showlegend": false,
         "type": "scatter",
         "x": [
          1.15,
          1.25,
          1.25,
          1.15
         ],
         "xaxis": "x5",
         "y": [
          79.47932010747174,
          79.47932010747174,
          79.92068395919493,
          79.92068395919493
         ],
         "yaxis": "y5"
        },
        {
         "legendgroup": "abs max",
         "marker": {
          "color": "green",
          "size": 10,
          "symbol": "x"
         },
         "mode": "markers",
         "showlegend": false,
         "type": "scatter",
         "x": [
          1.2
         ],
         "xaxis": "x5",
         "y": [
          79.70000203333333
         ],
         "yaxis": "y5"
        },
        {
         "legendgroup": "L1 norm then abs max",
         "marker": {
          "color": "rgb(0, 139, 139)",
          "opacity": 0.5,
          "size": 6
         },
         "mode": "markers",
         "name": "L1 norm then abs max",
         "showlegend": true,
         "type": "scatter",
         "x": [
          1,
          1,
          1
         ],
         "xaxis": "x5",
         "y": [
          78.91999817,
          78.40000153,
          79.41999817
         ],
         "yaxis": "y5"
        },
        {
         "fill": "toself",
         "fillcolor": "rgb(0, 139, 139)",
         "line": {
          "color": "rgb(0, 139, 139)"
         },
         "mode": "lines",
         "opacity": 0.2,
         "showlegend": false,
         "type": "scatter",
         "x": [
          0.95,
          1.05,
          1.05,
          0.95
         ],
         "xaxis": "x5",
         "y": [
          78.40330163551289,
          78.40330163551289,
          79.42336361115377,
          79.42336361115377
         ],
         "yaxis": "y5"
        },
        {
         "legendgroup": "L1 norm then abs max",
         "marker": {
          "color": "rgb(0, 139, 139)",
          "size": 10,
          "symbol": "x"
         },
         "mode": "markers",
         "name": "L1 norm then abs max mean",
         "showlegend": false,
         "type": "scatter",
         "x": [
          1
         ],
         "xaxis": "x5",
         "y": [
          78.91333262333333
         ],
         "yaxis": "y5"
        },
        {
         "legendgroup": "abs max",
         "marker": {
          "color": "green",
          "opacity": 0.5,
          "size": 6
         },
         "mode": "markers",
         "showlegend": false,
         "type": "scatter",
         "x": [
          1,
          1,
          1
         ],
         "xaxis": "x6",
         "y": [
          79.97000122,
          79.97000122,
          79.88999939
         ],
         "yaxis": "y6"
        },
        {
         "fill": "toself",
         "fillcolor": "green",
         "line": {
          "color": "green"
         },
         "mode": "lines",
         "opacity": 0.2,
         "showlegend": false,
         "type": "scatter",
         "x": [
          0.95,
          1.05,
          1.05,
          0.95
         ],
         "xaxis": "x6",
         "y": [
          79.89714486524718,
          79.89714486524718,
          79.9895230214195,
          79.9895230214195
         ],
         "yaxis": "y6"
        },
        {
         "legendgroup": "abs max",
         "marker": {
          "color": "green",
          "size": 10,
          "symbol": "x"
         },
         "mode": "markers",
         "showlegend": false,
         "type": "scatter",
         "x": [
          1
         ],
         "xaxis": "x6",
         "y": [
          79.94333394333334
         ],
         "yaxis": "y6"
        },
        {
         "marker": {
          "opacity": 0,
          "size": 0
         },
         "mode": "markers",
         "name": "",
         "type": "scatter",
         "x": [
          null
         ],
         "y": [
          null
         ]
        },
        {
         "marker": {
          "color": "black",
          "size": 10,
          "symbol": "x"
         },
         "mode": "markers",
         "name": "Mean",
         "showlegend": true,
         "type": "scatter",
         "x": [
          1000000,
          1000001,
          1000001,
          1000000,
          1000000,
          1000000.5
         ],
         "y": [
          79.94333394333334
         ]
        },
        {
         "fill": "toself",
         "fillcolor": "black",
         "mode": "none",
         "name": "Mean ± Std",
         "opacity": 0.3,
         "showlegend": true,
         "type": "scatter",
         "x": [
          999999.95,
          1000000.05,
          1000000.05,
          999999.95
         ],
         "xaxis": "x6",
         "y": [
          75,
          75,
          80,
          80
         ],
         "yaxis": "y6"
        }
       ],
       "layout": {
        "annotations": [
         {
          "font": {
           "size": 16
          },
          "showarrow": false,
          "text": "Dense Baseline",
          "x": 0.03787878787878788,
          "xanchor": "center",
          "xref": "paper",
          "y": 1,
          "yanchor": "bottom",
          "yref": "paper"
         },
         {
          "font": {
           "size": 16
          },
          "showarrow": false,
          "text": "Base Experiments",
          "x": 0.22272727272727272,
          "xanchor": "center",
          "xref": "paper",
          "y": 1,
          "yanchor": "bottom",
          "yref": "paper"
         },
         {
          "font": {
           "size": 16
          },
          "showarrow": false,
          "text": "AC/DC",
          "x": 0.44545454545454544,
          "xanchor": "center",
          "xref": "paper",
          "y": 1,
          "yanchor": "bottom",
          "yref": "paper"
         },
         {
          "font": {
           "size": 16
          },
          "showarrow": false,
          "text": "AC/DC (alt.LR)",
          "x": 0.6303030303030304,
          "xanchor": "center",
          "xref": "paper",
          "y": 1,
          "yanchor": "bottom",
          "yref": "paper"
         },
         {
          "font": {
           "size": 16
          },
          "showarrow": false,
          "text": "Other",
          "x": 0.8151515151515152,
          "xanchor": "center",
          "xref": "paper",
          "y": 1,
          "yanchor": "bottom",
          "yref": "paper"
         },
         {
          "font": {
           "size": 16
          },
          "showarrow": false,
          "text": "Gradual Pruning",
          "x": 0.9621212121212122,
          "xanchor": "center",
          "xref": "paper",
          "y": 1,
          "yanchor": "bottom",
          "yref": "paper"
         },
         {
          "font": {
           "size": 17
          },
          "showarrow": false,
          "text": "Pruning Type",
          "x": 0.5,
          "xanchor": "center",
          "xref": "paper",
          "y": -0.52,
          "yanchor": "top",
          "yref": "paper"
         }
        ],
        "height": 820,
        "legend": {
         "font": {
          "size": 16
         },
         "orientation": "h",
         "title": {
          "text": "Metric"
         },
         "x": 0.5,
         "xanchor": "center",
         "y": -0.9,
         "yanchor": "bottom"
        },
        "margin": {
         "l": 50,
         "r": 50,
         "t": 120
        },
        "template": {
         "data": {
          "bar": [
           {
            "error_x": {
             "color": "#2a3f5f"
            },
            "error_y": {
             "color": "#2a3f5f"
            },
            "marker": {
             "line": {
              "color": "#E5ECF6",
              "width": 0.5
             },
             "pattern": {
              "fillmode": "overlay",
              "size": 10,
              "solidity": 0.2
             }
            },
            "type": "bar"
           }
          ],
          "barpolar": [
           {
            "marker": {
             "line": {
              "color": "#E5ECF6",
              "width": 0.5
             },
             "pattern": {
              "fillmode": "overlay",
              "size": 10,
              "solidity": 0.2
             }
            },
            "type": "barpolar"
           }
          ],
          "carpet": [
           {
            "aaxis": {
             "endlinecolor": "#2a3f5f",
             "gridcolor": "white",
             "linecolor": "white",
             "minorgridcolor": "white",
             "startlinecolor": "#2a3f5f"
            },
            "baxis": {
             "endlinecolor": "#2a3f5f",
             "gridcolor": "white",
             "linecolor": "white",
             "minorgridcolor": "white",
             "startlinecolor": "#2a3f5f"
            },
            "type": "carpet"
           }
          ],
          "choropleth": [
           {
            "colorbar": {
             "outlinewidth": 0,
             "ticks": ""
            },
            "type": "choropleth"
           }
          ],
          "contour": [
           {
            "colorbar": {
             "outlinewidth": 0,
             "ticks": ""
            },
            "colorscale": [
             [
              0,
              "#0d0887"
             ],
             [
              0.1111111111111111,
              "#46039f"
             ],
             [
              0.2222222222222222,
              "#7201a8"
             ],
             [
              0.3333333333333333,
              "#9c179e"
             ],
             [
              0.4444444444444444,
              "#bd3786"
             ],
             [
              0.5555555555555556,
              "#d8576b"
             ],
             [
              0.6666666666666666,
              "#ed7953"
             ],
             [
              0.7777777777777778,
              "#fb9f3a"
             ],
             [
              0.8888888888888888,
              "#fdca26"
             ],
             [
              1,
              "#f0f921"
             ]
            ],
            "type": "contour"
           }
          ],
          "contourcarpet": [
           {
            "colorbar": {
             "outlinewidth": 0,
             "ticks": ""
            },
            "type": "contourcarpet"
           }
          ],
          "heatmap": [
           {
            "colorbar": {
             "outlinewidth": 0,
             "ticks": ""
            },
            "colorscale": [
             [
              0,
              "#0d0887"
             ],
             [
              0.1111111111111111,
              "#46039f"
             ],
             [
              0.2222222222222222,
              "#7201a8"
             ],
             [
              0.3333333333333333,
              "#9c179e"
             ],
             [
              0.4444444444444444,
              "#bd3786"
             ],
             [
              0.5555555555555556,
              "#d8576b"
             ],
             [
              0.6666666666666666,
              "#ed7953"
             ],
             [
              0.7777777777777778,
              "#fb9f3a"
             ],
             [
              0.8888888888888888,
              "#fdca26"
             ],
             [
              1,
              "#f0f921"
             ]
            ],
            "type": "heatmap"
           }
          ],
          "heatmapgl": [
           {
            "colorbar": {
             "outlinewidth": 0,
             "ticks": ""
            },
            "colorscale": [
             [
              0,
              "#0d0887"
             ],
             [
              0.1111111111111111,
              "#46039f"
             ],
             [
              0.2222222222222222,
              "#7201a8"
             ],
             [
              0.3333333333333333,
              "#9c179e"
             ],
             [
              0.4444444444444444,
              "#bd3786"
             ],
             [
              0.5555555555555556,
              "#d8576b"
             ],
             [
              0.6666666666666666,
              "#ed7953"
             ],
             [
              0.7777777777777778,
              "#fb9f3a"
             ],
             [
              0.8888888888888888,
              "#fdca26"
             ],
             [
              1,
              "#f0f921"
             ]
            ],
            "type": "heatmapgl"
           }
          ],
          "histogram": [
           {
            "marker": {
             "pattern": {
              "fillmode": "overlay",
              "size": 10,
              "solidity": 0.2
             }
            },
            "type": "histogram"
           }
          ],
          "histogram2d": [
           {
            "colorbar": {
             "outlinewidth": 0,
             "ticks": ""
            },
            "colorscale": [
             [
              0,
              "#0d0887"
             ],
             [
              0.1111111111111111,
              "#46039f"
             ],
             [
              0.2222222222222222,
              "#7201a8"
             ],
             [
              0.3333333333333333,
              "#9c179e"
             ],
             [
              0.4444444444444444,
              "#bd3786"
             ],
             [
              0.5555555555555556,
              "#d8576b"
             ],
             [
              0.6666666666666666,
              "#ed7953"
             ],
             [
              0.7777777777777778,
              "#fb9f3a"
             ],
             [
              0.8888888888888888,
              "#fdca26"
             ],
             [
              1,
              "#f0f921"
             ]
            ],
            "type": "histogram2d"
           }
          ],
          "histogram2dcontour": [
           {
            "colorbar": {
             "outlinewidth": 0,
             "ticks": ""
            },
            "colorscale": [
             [
              0,
              "#0d0887"
             ],
             [
              0.1111111111111111,
              "#46039f"
             ],
             [
              0.2222222222222222,
              "#7201a8"
             ],
             [
              0.3333333333333333,
              "#9c179e"
             ],
             [
              0.4444444444444444,
              "#bd3786"
             ],
             [
              0.5555555555555556,
              "#d8576b"
             ],
             [
              0.6666666666666666,
              "#ed7953"
             ],
             [
              0.7777777777777778,
              "#fb9f3a"
             ],
             [
              0.8888888888888888,
              "#fdca26"
             ],
             [
              1,
              "#f0f921"
             ]
            ],
            "type": "histogram2dcontour"
           }
          ],
          "mesh3d": [
           {
            "colorbar": {
             "outlinewidth": 0,
             "ticks": ""
            },
            "type": "mesh3d"
           }
          ],
          "parcoords": [
           {
            "line": {
             "colorbar": {
              "outlinewidth": 0,
              "ticks": ""
             }
            },
            "type": "parcoords"
           }
          ],
          "pie": [
           {
            "automargin": true,
            "type": "pie"
           }
          ],
          "scatter": [
           {
            "fillpattern": {
             "fillmode": "overlay",
             "size": 10,
             "solidity": 0.2
            },
            "type": "scatter"
           }
          ],
          "scatter3d": [
           {
            "line": {
             "colorbar": {
              "outlinewidth": 0,
              "ticks": ""
             }
            },
            "marker": {
             "colorbar": {
              "outlinewidth": 0,
              "ticks": ""
             }
            },
            "type": "scatter3d"
           }
          ],
          "scattercarpet": [
           {
            "marker": {
             "colorbar": {
              "outlinewidth": 0,
              "ticks": ""
             }
            },
            "type": "scattercarpet"
           }
          ],
          "scattergeo": [
           {
            "marker": {
             "colorbar": {
              "outlinewidth": 0,
              "ticks": ""
             }
            },
            "type": "scattergeo"
           }
          ],
          "scattergl": [
           {
            "marker": {
             "colorbar": {
              "outlinewidth": 0,
              "ticks": ""
             }
            },
            "type": "scattergl"
           }
          ],
          "scattermapbox": [
           {
            "marker": {
             "colorbar": {
              "outlinewidth": 0,
              "ticks": ""
             }
            },
            "type": "scattermapbox"
           }
          ],
          "scatterpolar": [
           {
            "marker": {
             "colorbar": {
              "outlinewidth": 0,
              "ticks": ""
             }
            },
            "type": "scatterpolar"
           }
          ],
          "scatterpolargl": [
           {
            "marker": {
             "colorbar": {
              "outlinewidth": 0,
              "ticks": ""
             }
            },
            "type": "scatterpolargl"
           }
          ],
          "scatterternary": [
           {
            "marker": {
             "colorbar": {
              "outlinewidth": 0,
              "ticks": ""
             }
            },
            "type": "scatterternary"
           }
          ],
          "surface": [
           {
            "colorbar": {
             "outlinewidth": 0,
             "ticks": ""
            },
            "colorscale": [
             [
              0,
              "#0d0887"
             ],
             [
              0.1111111111111111,
              "#46039f"
             ],
             [
              0.2222222222222222,
              "#7201a8"
             ],
             [
              0.3333333333333333,
              "#9c179e"
             ],
             [
              0.4444444444444444,
              "#bd3786"
             ],
             [
              0.5555555555555556,
              "#d8576b"
             ],
             [
              0.6666666666666666,
              "#ed7953"
             ],
             [
              0.7777777777777778,
              "#fb9f3a"
             ],
             [
              0.8888888888888888,
              "#fdca26"
             ],
             [
              1,
              "#f0f921"
             ]
            ],
            "type": "surface"
           }
          ],
          "table": [
           {
            "cells": {
             "fill": {
              "color": "#EBF0F8"
             },
             "line": {
              "color": "white"
             }
            },
            "header": {
             "fill": {
              "color": "#C8D4E3"
             },
             "line": {
              "color": "white"
             }
            },
            "type": "table"
           }
          ]
         },
         "layout": {
          "annotationdefaults": {
           "arrowcolor": "#2a3f5f",
           "arrowhead": 0,
           "arrowwidth": 1
          },
          "autotypenumbers": "strict",
          "coloraxis": {
           "colorbar": {
            "outlinewidth": 0,
            "ticks": ""
           }
          },
          "colorscale": {
           "diverging": [
            [
             0,
             "#8e0152"
            ],
            [
             0.1,
             "#c51b7d"
            ],
            [
             0.2,
             "#de77ae"
            ],
            [
             0.3,
             "#f1b6da"
            ],
            [
             0.4,
             "#fde0ef"
            ],
            [
             0.5,
             "#f7f7f7"
            ],
            [
             0.6,
             "#e6f5d0"
            ],
            [
             0.7,
             "#b8e186"
            ],
            [
             0.8,
             "#7fbc41"
            ],
            [
             0.9,
             "#4d9221"
            ],
            [
             1,
             "#276419"
            ]
           ],
           "sequential": [
            [
             0,
             "#0d0887"
            ],
            [
             0.1111111111111111,
             "#46039f"
            ],
            [
             0.2222222222222222,
             "#7201a8"
            ],
            [
             0.3333333333333333,
             "#9c179e"
            ],
            [
             0.4444444444444444,
             "#bd3786"
            ],
            [
             0.5555555555555556,
             "#d8576b"
            ],
            [
             0.6666666666666666,
             "#ed7953"
            ],
            [
             0.7777777777777778,
             "#fb9f3a"
            ],
            [
             0.8888888888888888,
             "#fdca26"
            ],
            [
             1,
             "#f0f921"
            ]
           ],
           "sequentialminus": [
            [
             0,
             "#0d0887"
            ],
            [
             0.1111111111111111,
             "#46039f"
            ],
            [
             0.2222222222222222,
             "#7201a8"
            ],
            [
             0.3333333333333333,
             "#9c179e"
            ],
            [
             0.4444444444444444,
             "#bd3786"
            ],
            [
             0.5555555555555556,
             "#d8576b"
            ],
            [
             0.6666666666666666,
             "#ed7953"
            ],
            [
             0.7777777777777778,
             "#fb9f3a"
            ],
            [
             0.8888888888888888,
             "#fdca26"
            ],
            [
             1,
             "#f0f921"
            ]
           ]
          },
          "colorway": [
           "#636efa",
           "#EF553B",
           "#00cc96",
           "#ab63fa",
           "#FFA15A",
           "#19d3f3",
           "#FF6692",
           "#B6E880",
           "#FF97FF",
           "#FECB52"
          ],
          "font": {
           "color": "#2a3f5f"
          },
          "geo": {
           "bgcolor": "white",
           "lakecolor": "white",
           "landcolor": "#E5ECF6",
           "showlakes": true,
           "showland": true,
           "subunitcolor": "white"
          },
          "hoverlabel": {
           "align": "left"
          },
          "hovermode": "closest",
          "mapbox": {
           "style": "light"
          },
          "paper_bgcolor": "white",
          "plot_bgcolor": "#E5ECF6",
          "polar": {
           "angularaxis": {
            "gridcolor": "white",
            "linecolor": "white",
            "ticks": ""
           },
           "bgcolor": "#E5ECF6",
           "radialaxis": {
            "gridcolor": "white",
            "linecolor": "white",
            "ticks": ""
           }
          },
          "scene": {
           "xaxis": {
            "backgroundcolor": "#E5ECF6",
            "gridcolor": "white",
            "gridwidth": 2,
            "linecolor": "white",
            "showbackground": true,
            "ticks": "",
            "zerolinecolor": "white"
           },
           "yaxis": {
            "backgroundcolor": "#E5ECF6",
            "gridcolor": "white",
            "gridwidth": 2,
            "linecolor": "white",
            "showbackground": true,
            "ticks": "",
            "zerolinecolor": "white"
           },
           "zaxis": {
            "backgroundcolor": "#E5ECF6",
            "gridcolor": "white",
            "gridwidth": 2,
            "linecolor": "white",
            "showbackground": true,
            "ticks": "",
            "zerolinecolor": "white"
           }
          },
          "shapedefaults": {
           "line": {
            "color": "#2a3f5f"
           }
          },
          "ternary": {
           "aaxis": {
            "gridcolor": "white",
            "linecolor": "white",
            "ticks": ""
           },
           "baxis": {
            "gridcolor": "white",
            "linecolor": "white",
            "ticks": ""
           },
           "bgcolor": "#E5ECF6",
           "caxis": {
            "gridcolor": "white",
            "linecolor": "white",
            "ticks": ""
           }
          },
          "title": {
           "x": 0.05
          },
          "xaxis": {
           "automargin": true,
           "gridcolor": "white",
           "linecolor": "white",
           "ticks": "",
           "title": {
            "standoff": 15
           },
           "zerolinecolor": "white",
           "zerolinewidth": 2
          },
          "yaxis": {
           "automargin": true,
           "gridcolor": "white",
           "linecolor": "white",
           "ticks": "",
           "title": {
            "standoff": 15
           },
           "zerolinecolor": "white",
           "zerolinewidth": 2
          }
         }
        },
        "title": {
         "font": {
          "size": 20
         },
         "text": "Pruning Experiments Comparison at 90% Sparsity",
         "x": 0.5,
         "xanchor": "center"
        },
        "width": 820,
        "xaxis": {
         "anchor": "y",
         "domain": [
          0,
          0.07575757575757576
         ],
         "range": [
          0.87,
          1.1300000000000001
         ],
         "showgrid": false,
         "tickangle": 70,
         "tickfont": {
          "size": 16
         },
         "tickmode": "array",
         "ticktext": [
          "none"
         ],
         "tickvals": [
          1
         ]
        },
        "xaxis2": {
         "anchor": "y2",
         "domain": [
          0.1090909090909091,
          0.33636363636363636
         ],
         "range": [
          0.87,
          1.53
         ],
         "showgrid": false,
         "tickangle": 70,
         "tickfont": {
          "size": 16
         },
         "tickmode": "array",
         "ticktext": [
          "unstructured",
          "block",
          "block iterative (2 steps)"
         ],
         "tickvals": [
          1,
          1.2,
          1.4
         ]
        },
        "xaxis3": {
         "anchor": "y3",
         "domain": [
          0.3696969696969697,
          0.5212121212121212
         ],
         "range": [
          0.87,
          1.33
         ],
         "showgrid": false,
         "tickangle": 70,
         "tickfont": {
          "size": 16
         },
         "tickmode": "array",
         "ticktext": [
          "unstructured",
          "block"
         ],
         "tickvals": [
          1,
          1.2
         ]
        },
        "xaxis4": {
         "anchor": "y4",
         "domain": [
          0.5545454545454546,
          0.706060606060606
         ],
         "range": [
          0.87,
          1.33
         ],
         "showgrid": false,
         "tickangle": 70,
         "tickfont": {
          "size": 16
         },
         "tickmode": "array",
         "ticktext": [
          "unstructured",
          "block"
         ],
         "tickvals": [
          1,
          1.2
         ]
        },
        "xaxis5": {
         "anchor": "y5",
         "domain": [
          0.7393939393939394,
          0.8909090909090909
         ],
         "range": [
          0.87,
          1.33
         ],
         "showgrid": false,
         "tickangle": 70,
         "tickfont": {
          "size": 16
         },
         "tickmode": "array",
         "ticktext": [
          "iterative unstructured to block",
          "block iterative (multiple steps)"
         ],
         "tickvals": [
          1,
          1.2
         ]
        },
        "xaxis6": {
         "anchor": "y6",
         "domain": [
          0.9242424242424242,
          1
         ],
         "range": [
          0.87,
          1.1300000000000001
         ],
         "showgrid": false,
         "tickangle": 70,
         "tickfont": {
          "size": 16
         },
         "tickmode": "array",
         "ticktext": [
          "block stepwise gradual"
         ],
         "tickvals": [
          1
         ]
        },
        "yaxis": {
         "anchor": "x",
         "domain": [
          0,
          1
         ],
         "range": [
          74.5,
          81.5
         ],
         "title": {
          "font": {
           "size": 17
          },
          "text": "Validation Accuracy [%]"
         }
        },
        "yaxis2": {
         "anchor": "x2",
         "domain": [
          0,
          1
         ],
         "matches": "y",
         "range": [
          74.5,
          81.5
         ],
         "showticklabels": false
        },
        "yaxis3": {
         "anchor": "x3",
         "domain": [
          0,
          1
         ],
         "matches": "y",
         "range": [
          74.5,
          81.5
         ],
         "showticklabels": false
        },
        "yaxis4": {
         "anchor": "x4",
         "domain": [
          0,
          1
         ],
         "matches": "y",
         "range": [
          74.5,
          81.5
         ],
         "showticklabels": false
        },
        "yaxis5": {
         "anchor": "x5",
         "domain": [
          0,
          1
         ],
         "matches": "y",
         "range": [
          74.5,
          81.5
         ],
         "showticklabels": false
        },
        "yaxis6": {
         "anchor": "x6",
         "domain": [
          0,
          1
         ],
         "matches": "y",
         "range": [
          74.5,
          81.5
         ],
         "showticklabels": false
        }
       }
      }
     },
     "metadata": {},
     "output_type": "display_data"
    }
   ],
   "source": [
    "custom_order = ['Dense Baseline', 'Base Experiments', 'AC/DC', 'AC/DC (alt.LR)', 'Other', 'Gradual Pruning']  \n",
    "\n",
    "# Create grouped data using the custom order\n",
    "grouped = [ (group_name, df_90[df_90['group'] == group_name]) for group_name in custom_order]\n",
    "\n",
    "group_widths = [len(group['experiment'].unique()) for _, group in grouped]\n",
    "total = sum(group_widths)\n",
    "normalized_widths = [w / total for w in group_widths]\n",
    "\n",
    "custom_order = ['none', 'unstructured', 'iterative unstructured to block', 'block', 'block iterative (2 steps)', 'block iterative (multiple steps)', 'block stepwise gradual']\n",
    "\n",
    "# Create subplots with proportional widths\n",
    "fig = make_subplots(\n",
    "    rows=1,\n",
    "    cols=len(grouped),\n",
    "    shared_yaxes=True,\n",
    "    column_widths=normalized_widths,\n",
    "    subplot_titles=[group for group, _ in grouped]\n",
    ")\n",
    "\n",
    "shown_metrics = set()\n",
    "\n",
    "# Build plot\n",
    "for i, (group_name, group_df) in enumerate(grouped, start=1):\n",
    "    experiments = [exp for exp in custom_order if exp in group_df['experiment'].unique()]\n",
    "    experiment_to_x = {exp: 1 + j/5 for j, exp in enumerate(experiments)}\n",
    "    box_width = 0.05  # Controls whisker rectangle width\n",
    "    xmin = 1 -box_width - 0.08\n",
    "    xmax = max(experiment_to_x.values()) + box_width + 0.08\n",
    "\n",
    "    for metric in group_df['metric'].unique():\n",
    "        subset = group_df[group_df['metric'] == metric]\n",
    "        show_legend = metric not in shown_metrics\n",
    "\n",
    "        # Compute mean and std\n",
    "        stats = subset.groupby('experiment')['valid_accuracy'].agg(['mean', 'std']).reset_index()\n",
    "\n",
    "        # Plot raw data (shifted slightly left)\n",
    "        fig.add_trace(\n",
    "            go.Scatter(\n",
    "                x=[experiment_to_x[exp] - 0 for exp in subset['experiment']],\n",
    "                y=subset['valid_accuracy'],\n",
    "                mode='markers',\n",
    "                marker=dict(size=6, opacity=0.5, color=color_map[metric]),\n",
    "                name=f'{metric}' if show_legend else None,\n",
    "                legendgroup=metric,\n",
    "                showlegend=show_legend\n",
    "            ),\n",
    "            row=1,\n",
    "            col=i\n",
    "        )\n",
    "\n",
    "        # Plot rectangular whiskers (mean ± std)\n",
    "        for _, row_stats in stats.iterrows():\n",
    "            x_center = experiment_to_x[row_stats['experiment']]\n",
    "            mean = row_stats['mean']\n",
    "            std = row_stats['std']\n",
    "            x0 = x_center - box_width\n",
    "            x1 = x_center + box_width\n",
    "            y0 = mean - std\n",
    "            y1 = mean + std\n",
    "\n",
    "            fig.add_trace(\n",
    "                go.Scatter(\n",
    "                    x=[x0, x1, x1, x0],  # Points to define the rectangle corners\n",
    "                    y=[y0, y0, y1, y1],  # Points to define the rectangle height\n",
    "                    fill='toself',  # Fill the area inside the rectangle\n",
    "                    fillcolor=color_map[metric],  # Fill color\n",
    "                    opacity=0.2,  # Transparency of the filled area\n",
    "                    line=dict(color=color_map[metric]),  # border line around the rectangle\n",
    "                    showlegend=False,  # Don't show in the legend,\n",
    "                    mode='lines'\n",
    "                ),\n",
    "                row=1,\n",
    "                col=i\n",
    "            )\n",
    "\n",
    "        # Plot mean as 'x'\n",
    "        fig.add_trace(\n",
    "            go.Scatter(\n",
    "                x=[experiment_to_x[exp] for exp in stats['experiment']],\n",
    "                y=stats['mean'],\n",
    "                mode='markers',\n",
    "                marker=dict(symbol='x', size=10, color=color_map[metric]),\n",
    "                name=f'{metric} mean' if show_legend else None,\n",
    "                legendgroup=metric,\n",
    "                showlegend=False\n",
    "            ),\n",
    "            row=1,\n",
    "            col=i\n",
    "        )\n",
    "\n",
    "        if show_legend:\n",
    "            shown_metrics.add(metric)\n",
    "\n",
    "    # Set tick labels back to experiment names\n",
    "    fig.update_xaxes(\n",
    "        range=[xmin, xmax],\n",
    "        tickmode='array',\n",
    "        tickvals=list(experiment_to_x.values()),\n",
    "        ticktext=list(experiment_to_x.keys()),\n",
    "        row=1,\n",
    "        col=i,\n",
    "        tickfont=dict(size=16)\n",
    "    )\n",
    "\n",
    "# Add a blank trace to create space in the legend\n",
    "fig.add_trace(\n",
    "    go.Scatter(\n",
    "    x=[None], y=[None],\n",
    "    mode='markers',\n",
    "    marker=dict(size=0, opacity=0),  # Invisible marker\n",
    "    name=''  # Empty name to act as a separator\n",
    "    )\n",
    ")\n",
    "\n",
    "x_offset = 1e6  # Very large number off-screen\n",
    "fig.add_trace(\n",
    "    go.Scatter(\n",
    "        x=[x_offset, x_offset + 1, x_offset + 1, x_offset, x_offset, x_offset + 0.5],\n",
    "        y=stats['mean'],\n",
    "        mode='markers',\n",
    "        marker=dict(symbol='x', size=10, color='black'),\n",
    "        name='Mean',\n",
    "        showlegend=True\n",
    "    )\n",
    ")\n",
    "fig.add_trace(\n",
    "    go.Scatter(\n",
    "        x=[x_offset - box_width, x_offset + box_width, x_offset + box_width, x_offset - box_width],  # Points to define the rectangle corners\n",
    "        y=[75, 75, 80, 80],  # Points to define the rectangle height\n",
    "        fill='toself',  # Fill the area inside the rectangle\n",
    "        fillcolor='black',  # Fill color\n",
    "        opacity=0.3,  # Transparency of the filled area\n",
    "        name='Mean ± Std',\n",
    "        mode='none',              # This hides both line and marker\n",
    "        showlegend=True, \n",
    "    ),\n",
    "    row=1,\n",
    "    col=i\n",
    ")\n",
    "\n",
    "\n",
    "fig.update_layout(\n",
    "    title=dict(\n",
    "        text='Pruning Experiments Comparison at 90% Sparsity',\n",
    "        x=0.5,             # Center title horizontally\n",
    "        xanchor='center',  # Anchor it from the center\n",
    "        font=dict(size=20) \n",
    "    ),\n",
    "    yaxis_title='Validation Accuracy [%]',\n",
    "    legend_title='Metric',\n",
    "    height=820,\n",
    "    width=820,\n",
    "    yaxis=dict(titlefont=dict(size=17)),\n",
    ")\n",
    "fig.update_layout(annotations=[]) \n",
    "fig.add_annotation(\n",
    "    text=\"Pruning Type\",\n",
    "    xref=\"paper\",\n",
    "    yref=\"paper\",\n",
    "    x=0.5,\n",
    "    y=-0.52,\n",
    "    showarrow=False,\n",
    "    font=dict(size=17),\n",
    "    xanchor='center',\n",
    "    yanchor='top'\n",
    ")\n",
    "fig.update_xaxes(tickangle=70)\n",
    "fig.update_xaxes(showgrid=False)  \n",
    "fig.update_layout(\n",
    "    legend=dict(\n",
    "        orientation='h',  # Make the legend horizontal\n",
    "        yanchor='bottom',  # Set the legend's vertical position\n",
    "        y=-0.9, \n",
    "        xanchor='center',  # Set the legend's horizontal position\n",
    "        x=0.5,  # Center the legend horizontally,\n",
    "        font=dict(size=16)\n",
    "    ),\n",
    "    margin=dict(\n",
    "            l=50,  \n",
    "            r=50,  \n",
    "            t=120,  \n",
    "    ),\n",
    ")\n",
    "fig.update_yaxes(range=[74.5, 81.5])\n",
    "# pio.write_image(fig, \"plots/exports/plot90.png\", width=820, height=820, scale=3)\n",
    "fig.show()\n"
   ]
  }
 ],
 "metadata": {
  "kernelspec": {
   "display_name": "diplomovka_new",
   "language": "python",
   "name": "python3"
  },
  "language_info": {
   "codemirror_mode": {
    "name": "ipython",
    "version": 3
   },
   "file_extension": ".py",
   "mimetype": "text/x-python",
   "name": "python",
   "nbconvert_exporter": "python",
   "pygments_lexer": "ipython3",
   "version": "3.11.11"
  }
 },
 "nbformat": 4,
 "nbformat_minor": 5
}
