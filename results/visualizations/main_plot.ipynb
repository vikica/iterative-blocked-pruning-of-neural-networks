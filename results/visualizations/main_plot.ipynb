{
 "cells": [
  {
   "cell_type": "code",
   "execution_count": 1,
   "id": "9c34a17b",
   "metadata": {},
   "outputs": [],
   "source": [
    "import pandas as pd\n",
    "import plotly.express as px\n",
    "import plotly.graph_objects as go"
   ]
  },
  {
   "cell_type": "code",
   "execution_count": 2,
   "id": "ddafbd5d",
   "metadata": {},
   "outputs": [
    {
     "data": {
      "text/html": [
       "<div>\n",
       "<style scoped>\n",
       "    .dataframe tbody tr th:only-of-type {\n",
       "        vertical-align: middle;\n",
       "    }\n",
       "\n",
       "    .dataframe tbody tr th {\n",
       "        vertical-align: top;\n",
       "    }\n",
       "\n",
       "    .dataframe thead th {\n",
       "        text-align: right;\n",
       "    }\n",
       "</style>\n",
       "<table border=\"1\" class=\"dataframe\">\n",
       "  <thead>\n",
       "    <tr style=\"text-align: right;\">\n",
       "      <th></th>\n",
       "      <th>pruning_method</th>\n",
       "      <th>metric</th>\n",
       "      <th>sparsity</th>\n",
       "      <th>mean_valid_accuracy</th>\n",
       "      <th>std_valid_accuracy</th>\n",
       "    </tr>\n",
       "  </thead>\n",
       "  <tbody>\n",
       "    <tr>\n",
       "      <th>0</th>\n",
       "      <td>unstructured</td>\n",
       "      <td>L1 norm</td>\n",
       "      <td>80</td>\n",
       "      <td>80.870000</td>\n",
       "      <td>0.062452</td>\n",
       "    </tr>\n",
       "    <tr>\n",
       "      <th>1</th>\n",
       "      <td>block</td>\n",
       "      <td>abs max</td>\n",
       "      <td>80</td>\n",
       "      <td>80.340001</td>\n",
       "      <td>0.051964</td>\n",
       "    </tr>\n",
       "    <tr>\n",
       "      <th>2</th>\n",
       "      <td>block iterative</td>\n",
       "      <td>abs max</td>\n",
       "      <td>80</td>\n",
       "      <td>80.503334</td>\n",
       "      <td>0.095041</td>\n",
       "    </tr>\n",
       "    <tr>\n",
       "      <th>3</th>\n",
       "      <td>block</td>\n",
       "      <td>abs min</td>\n",
       "      <td>80</td>\n",
       "      <td>78.740000</td>\n",
       "      <td>0.045827</td>\n",
       "    </tr>\n",
       "    <tr>\n",
       "      <th>4</th>\n",
       "      <td>block iterative</td>\n",
       "      <td>abs min</td>\n",
       "      <td>80</td>\n",
       "      <td>79.136665</td>\n",
       "      <td>0.361155</td>\n",
       "    </tr>\n",
       "  </tbody>\n",
       "</table>\n",
       "</div>"
      ],
      "text/plain": [
       "    pruning_method   metric  sparsity  mean_valid_accuracy  std_valid_accuracy\n",
       "0     unstructured  L1 norm        80            80.870000            0.062452\n",
       "1            block  abs max        80            80.340001            0.051964\n",
       "2  block iterative  abs max        80            80.503334            0.095041\n",
       "3            block  abs min        80            78.740000            0.045827\n",
       "4  block iterative  abs min        80            79.136665            0.361155"
      ]
     },
     "execution_count": 2,
     "metadata": {},
     "output_type": "execute_result"
    }
   ],
   "source": [
    "path = 'data_for_plots.xlsx'\n",
    "df = pd.read_excel(path)\n",
    "df.head(5)"
   ]
  },
  {
   "cell_type": "code",
   "execution_count": 3,
   "id": "65a4fa11",
   "metadata": {},
   "outputs": [
    {
     "data": {
      "text/html": [
       "<div>\n",
       "<style scoped>\n",
       "    .dataframe tbody tr th:only-of-type {\n",
       "        vertical-align: middle;\n",
       "    }\n",
       "\n",
       "    .dataframe tbody tr th {\n",
       "        vertical-align: top;\n",
       "    }\n",
       "\n",
       "    .dataframe thead th {\n",
       "        text-align: right;\n",
       "    }\n",
       "</style>\n",
       "<table border=\"1\" class=\"dataframe\">\n",
       "  <thead>\n",
       "    <tr style=\"text-align: right;\">\n",
       "      <th></th>\n",
       "      <th>pruning_method</th>\n",
       "      <th>metric</th>\n",
       "      <th>sparsity</th>\n",
       "      <th>mean_valid_accuracy</th>\n",
       "      <th>std_valid_accuracy</th>\n",
       "    </tr>\n",
       "  </thead>\n",
       "  <tbody>\n",
       "    <tr>\n",
       "      <th>0</th>\n",
       "      <td>unstructured</td>\n",
       "      <td>L1 norm</td>\n",
       "      <td>80</td>\n",
       "      <td>80.870000</td>\n",
       "      <td>0.062452</td>\n",
       "    </tr>\n",
       "    <tr>\n",
       "      <th>9</th>\n",
       "      <td>unstructured</td>\n",
       "      <td>L1 norm</td>\n",
       "      <td>90</td>\n",
       "      <td>80.716667</td>\n",
       "      <td>0.100663</td>\n",
       "    </tr>\n",
       "    <tr>\n",
       "      <th>5</th>\n",
       "      <td>block</td>\n",
       "      <td>L1 norm</td>\n",
       "      <td>80</td>\n",
       "      <td>79.286664</td>\n",
       "      <td>0.176162</td>\n",
       "    </tr>\n",
       "    <tr>\n",
       "      <th>14</th>\n",
       "      <td>block</td>\n",
       "      <td>L1 norm</td>\n",
       "      <td>90</td>\n",
       "      <td>76.573334</td>\n",
       "      <td>0.480555</td>\n",
       "    </tr>\n",
       "    <tr>\n",
       "      <th>7</th>\n",
       "      <td>block</td>\n",
       "      <td>L2 norm</td>\n",
       "      <td>80</td>\n",
       "      <td>79.696665</td>\n",
       "      <td>0.385271</td>\n",
       "    </tr>\n",
       "    <tr>\n",
       "      <th>16</th>\n",
       "      <td>block</td>\n",
       "      <td>L2 norm</td>\n",
       "      <td>90</td>\n",
       "      <td>77.873334</td>\n",
       "      <td>0.200334</td>\n",
       "    </tr>\n",
       "    <tr>\n",
       "      <th>1</th>\n",
       "      <td>block</td>\n",
       "      <td>abs max</td>\n",
       "      <td>80</td>\n",
       "      <td>80.340001</td>\n",
       "      <td>0.051964</td>\n",
       "    </tr>\n",
       "    <tr>\n",
       "      <th>10</th>\n",
       "      <td>block</td>\n",
       "      <td>abs max</td>\n",
       "      <td>90</td>\n",
       "      <td>78.713336</td>\n",
       "      <td>0.056863</td>\n",
       "    </tr>\n",
       "    <tr>\n",
       "      <th>3</th>\n",
       "      <td>block</td>\n",
       "      <td>abs min</td>\n",
       "      <td>80</td>\n",
       "      <td>78.740000</td>\n",
       "      <td>0.045827</td>\n",
       "    </tr>\n",
       "    <tr>\n",
       "      <th>12</th>\n",
       "      <td>block</td>\n",
       "      <td>abs min</td>\n",
       "      <td>90</td>\n",
       "      <td>76.260000</td>\n",
       "      <td>0.351567</td>\n",
       "    </tr>\n",
       "    <tr>\n",
       "      <th>6</th>\n",
       "      <td>block iterative</td>\n",
       "      <td>L1 norm</td>\n",
       "      <td>80</td>\n",
       "      <td>79.453331</td>\n",
       "      <td>0.158218</td>\n",
       "    </tr>\n",
       "    <tr>\n",
       "      <th>15</th>\n",
       "      <td>block iterative</td>\n",
       "      <td>L1 norm</td>\n",
       "      <td>90</td>\n",
       "      <td>78.590001</td>\n",
       "      <td>0.389743</td>\n",
       "    </tr>\n",
       "    <tr>\n",
       "      <th>8</th>\n",
       "      <td>block iterative</td>\n",
       "      <td>L2 norm</td>\n",
       "      <td>80</td>\n",
       "      <td>80.083333</td>\n",
       "      <td>0.156311</td>\n",
       "    </tr>\n",
       "    <tr>\n",
       "      <th>17</th>\n",
       "      <td>block iterative</td>\n",
       "      <td>L2 norm</td>\n",
       "      <td>90</td>\n",
       "      <td>78.976667</td>\n",
       "      <td>0.297377</td>\n",
       "    </tr>\n",
       "    <tr>\n",
       "      <th>2</th>\n",
       "      <td>block iterative</td>\n",
       "      <td>abs max</td>\n",
       "      <td>80</td>\n",
       "      <td>80.503334</td>\n",
       "      <td>0.095041</td>\n",
       "    </tr>\n",
       "    <tr>\n",
       "      <th>11</th>\n",
       "      <td>block iterative</td>\n",
       "      <td>abs max</td>\n",
       "      <td>90</td>\n",
       "      <td>79.589999</td>\n",
       "      <td>0.151328</td>\n",
       "    </tr>\n",
       "    <tr>\n",
       "      <th>4</th>\n",
       "      <td>block iterative</td>\n",
       "      <td>abs min</td>\n",
       "      <td>80</td>\n",
       "      <td>79.136665</td>\n",
       "      <td>0.361155</td>\n",
       "    </tr>\n",
       "    <tr>\n",
       "      <th>13</th>\n",
       "      <td>block iterative</td>\n",
       "      <td>abs min</td>\n",
       "      <td>90</td>\n",
       "      <td>78.103333</td>\n",
       "      <td>0.581062</td>\n",
       "    </tr>\n",
       "  </tbody>\n",
       "</table>\n",
       "</div>"
      ],
      "text/plain": [
       "     pruning_method   metric  sparsity  mean_valid_accuracy  \\\n",
       "0      unstructured  L1 norm        80            80.870000   \n",
       "9      unstructured  L1 norm        90            80.716667   \n",
       "5             block  L1 norm        80            79.286664   \n",
       "14            block  L1 norm        90            76.573334   \n",
       "7             block  L2 norm        80            79.696665   \n",
       "16            block  L2 norm        90            77.873334   \n",
       "1             block  abs max        80            80.340001   \n",
       "10            block  abs max        90            78.713336   \n",
       "3             block  abs min        80            78.740000   \n",
       "12            block  abs min        90            76.260000   \n",
       "6   block iterative  L1 norm        80            79.453331   \n",
       "15  block iterative  L1 norm        90            78.590001   \n",
       "8   block iterative  L2 norm        80            80.083333   \n",
       "17  block iterative  L2 norm        90            78.976667   \n",
       "2   block iterative  abs max        80            80.503334   \n",
       "11  block iterative  abs max        90            79.589999   \n",
       "4   block iterative  abs min        80            79.136665   \n",
       "13  block iterative  abs min        90            78.103333   \n",
       "\n",
       "    std_valid_accuracy  \n",
       "0             0.062452  \n",
       "9             0.100663  \n",
       "5             0.176162  \n",
       "14            0.480555  \n",
       "7             0.385271  \n",
       "16            0.200334  \n",
       "1             0.051964  \n",
       "10            0.056863  \n",
       "3             0.045827  \n",
       "12            0.351567  \n",
       "6             0.158218  \n",
       "15            0.389743  \n",
       "8             0.156311  \n",
       "17            0.297377  \n",
       "2             0.095041  \n",
       "11            0.151328  \n",
       "4             0.361155  \n",
       "13            0.581062  "
      ]
     },
     "execution_count": 3,
     "metadata": {},
     "output_type": "execute_result"
    }
   ],
   "source": [
    "# I need to sort according to pruning_method: first unstructured, then block, then block iterative\n",
    "df['pruning_method'] = pd.Categorical(df['pruning_method'], ['unstructured', 'block', 'block iterative'])\n",
    "df = df.sort_values(['pruning_method', 'metric'])\n",
    "\n",
    "df\n"
   ]
  },
  {
   "cell_type": "code",
   "execution_count": 4,
   "id": "01f6b95e",
   "metadata": {},
   "outputs": [],
   "source": [
    "baseline_accuracy = 80.96000163"
   ]
  },
  {
   "cell_type": "code",
   "execution_count": 5,
   "id": "8718e4d1",
   "metadata": {},
   "outputs": [],
   "source": [
    "def create_plot(data_for_plot, title, sparsity_col_name='sparsity', sparsity_axis_name='Sparsity [%]',\n",
    "                y_axis_name='Validation accuracy [%]'):\n",
    "    fig = px.line(data_for_plot, x=sparsity_col_name, y='mean_valid_accuracy', color='pruning_method', \n",
    "              line_group='pruning_method', line_dash='metric', symbol='metric',\n",
    "              title=title,\n",
    "              labels={'sparsity': sparsity_axis_name, 'mean_valid_accuracy': y_axis_name},\n",
    "              markers=True)\n",
    "\n",
    "    # Add a horizontal line at the baseline_accuracy\n",
    "    fig.add_shape(type='line', x0=79.25, x1=90.75,\n",
    "                  y0=baseline_accuracy, y1=baseline_accuracy,\n",
    "                  line=dict(color='black',  width=1, dash='dash'),\n",
    "                  xref='x', yref='y')\n",
    "    # Add annotation for the baseline line\n",
    "    fig.add_annotation(xref='paper', x=1, y=baseline_accuracy+0.13, xanchor='right', \n",
    "                    text='Baseline accuracy of the unpruned network',\n",
    "                    showarrow=False, font=dict(color='black'))\n",
    "    \n",
    "    # Set y-axis range\n",
    "    fig.update_yaxes(range=[75.9, 81.35])\n",
    "    fig.update_xaxes(range=[79.25, 90.75])\n",
    "    # Update legend titles\n",
    "    fig.update_layout(\n",
    "        plot_bgcolor='rgba(240, 240, 240, 1)',  # Change the plot area background color\n",
    "        paper_bgcolor='rgba(255, 255, 255, 1)',  # Change the overall figure background color\n",
    "        legend_title_text='Pruning method, Metric',\n",
    "        width=800, height=750,\n",
    "        legend=dict(x=1.1, y=1),  # Move the legend slightly to the right\n",
    "        title_font=dict(size=22), \n",
    "        xaxis_title_font=dict(size=19),  \n",
    "        yaxis_title_font=dict(size=19), \n",
    "        legend_font=dict(size=17),  \n",
    "        font=dict(size=19),\n",
    "        margin=dict(\n",
    "            l=50,  # Left margin\n",
    "            r=50,  # Right margin\n",
    "            t=100,  # Top margin\n",
    "            b=50   # Bottom margin\n",
    "        )  \n",
    "    )\n",
    "\n",
    "    # Set specific ticks on the x-axis for 80 and 90\n",
    "    fig.update_xaxes(tickvals=[80, 90], ticktext=['80', '90'])\n",
    "\n",
    "    # Make the symbols (markers) bigger\n",
    "    fig.update_traces(marker=dict(size=12)) \n",
    "\n",
    "    return fig"
   ]
  },
  {
   "cell_type": "code",
   "execution_count": 6,
   "id": "7eb3ec40",
   "metadata": {},
   "outputs": [
    {
     "data": {
      "application/vnd.plotly.v1+json": {
       "config": {
        "plotlyServerURL": "https://plot.ly"
       },
       "data": [
        {
         "hovertemplate": "pruning_method=unstructured<br>metric=L1 norm<br>Sparsity [%]=%{x}<br>Validation accuracy [%]=%{y}<extra></extra>",
         "legendgroup": "unstructured, L1 norm",
         "line": {
          "color": "#636efa",
          "dash": "solid"
         },
         "marker": {
          "size": 12,
          "symbol": "circle"
         },
         "mode": "lines+markers",
         "name": "unstructured, L1 norm",
         "orientation": "v",
         "showlegend": true,
         "type": "scatter",
         "x": [
          80,
          90
         ],
         "xaxis": "x",
         "y": [
          80.87,
          80.71666718
         ],
         "yaxis": "y"
        },
        {
         "hovertemplate": "pruning_method=block<br>metric=L1 norm<br>Sparsity [%]=%{x}<br>Validation accuracy [%]=%{y}<extra></extra>",
         "legendgroup": "block, L1 norm",
         "line": {
          "color": "#EF553B",
          "dash": "solid"
         },
         "marker": {
          "size": 12,
          "symbol": "circle"
         },
         "mode": "lines+markers",
         "name": "block, L1 norm",
         "orientation": "v",
         "showlegend": true,
         "type": "scatter",
         "x": [
          80,
          90
         ],
         "xaxis": "x",
         "y": [
          79.28666433,
          76.57333374
         ],
         "yaxis": "y"
        },
        {
         "hovertemplate": "pruning_method=block<br>metric=L2 norm<br>Sparsity [%]=%{x}<br>Validation accuracy [%]=%{y}<extra></extra>",
         "legendgroup": "block, L2 norm",
         "line": {
          "color": "#EF553B",
          "dash": "dot"
         },
         "marker": {
          "size": 12,
          "symbol": "diamond"
         },
         "mode": "lines+markers",
         "name": "block, L2 norm",
         "orientation": "v",
         "showlegend": true,
         "type": "scatter",
         "x": [
          80,
          90
         ],
         "xaxis": "x",
         "y": [
          79.69666545,
          77.87333425
         ],
         "yaxis": "y"
        },
        {
         "hovertemplate": "pruning_method=block<br>metric=abs max<br>Sparsity [%]=%{x}<br>Validation accuracy [%]=%{y}<extra></extra>",
         "legendgroup": "block, abs max",
         "line": {
          "color": "#EF553B",
          "dash": "dash"
         },
         "marker": {
          "size": 12,
          "symbol": "square"
         },
         "mode": "lines+markers",
         "name": "block, abs max",
         "orientation": "v",
         "showlegend": true,
         "type": "scatter",
         "x": [
          80,
          90
         ],
         "xaxis": "x",
         "y": [
          80.34000142,
          78.71333567
         ],
         "yaxis": "y"
        },
        {
         "hovertemplate": "pruning_method=block<br>metric=abs min<br>Sparsity [%]=%{x}<br>Validation accuracy [%]=%{y}<extra></extra>",
         "legendgroup": "block, abs min",
         "line": {
          "color": "#EF553B",
          "dash": "longdash"
         },
         "marker": {
          "size": 12,
          "symbol": "x"
         },
         "mode": "lines+markers",
         "name": "block, abs min",
         "orientation": "v",
         "showlegend": true,
         "type": "scatter",
         "x": [
          80,
          90
         ],
         "xaxis": "x",
         "y": [
          78.74000041,
          76.25999959
         ],
         "yaxis": "y"
        },
        {
         "hovertemplate": "pruning_method=block iterative<br>metric=L1 norm<br>Sparsity [%]=%{x}<br>Validation accuracy [%]=%{y}<extra></extra>",
         "legendgroup": "block iterative, L1 norm",
         "line": {
          "color": "#00cc96",
          "dash": "solid"
         },
         "marker": {
          "size": 12,
          "symbol": "circle"
         },
         "mode": "lines+markers",
         "name": "block iterative, L1 norm",
         "orientation": "v",
         "showlegend": true,
         "type": "scatter",
         "x": [
          80,
          90
         ],
         "xaxis": "x",
         "y": [
          79.45333099,
          78.59000142
         ],
         "yaxis": "y"
        },
        {
         "hovertemplate": "pruning_method=block iterative<br>metric=L2 norm<br>Sparsity [%]=%{x}<br>Validation accuracy [%]=%{y}<extra></extra>",
         "legendgroup": "block iterative, L2 norm",
         "line": {
          "color": "#00cc96",
          "dash": "dot"
         },
         "marker": {
          "size": 12,
          "symbol": "diamond"
         },
         "mode": "lines+markers",
         "name": "block iterative, L2 norm",
         "orientation": "v",
         "showlegend": true,
         "type": "scatter",
         "x": [
          80,
          90
         ],
         "xaxis": "x",
         "y": [
          80.08333333,
          78.97666677
         ],
         "yaxis": "y"
        },
        {
         "hovertemplate": "pruning_method=block iterative<br>metric=abs max<br>Sparsity [%]=%{x}<br>Validation accuracy [%]=%{y}<extra></extra>",
         "legendgroup": "block iterative, abs max",
         "line": {
          "color": "#00cc96",
          "dash": "dash"
         },
         "marker": {
          "size": 12,
          "symbol": "square"
         },
         "mode": "lines+markers",
         "name": "block iterative, abs max",
         "orientation": "v",
         "showlegend": true,
         "type": "scatter",
         "x": [
          80,
          90
         ],
         "xaxis": "x",
         "y": [
          80.50333405,
          79.58999888
         ],
         "yaxis": "y"
        },
        {
         "hovertemplate": "pruning_method=block iterative<br>metric=abs min<br>Sparsity [%]=%{x}<br>Validation accuracy [%]=%{y}<extra></extra>",
         "legendgroup": "block iterative, abs min",
         "line": {
          "color": "#00cc96",
          "dash": "longdash"
         },
         "marker": {
          "size": 12,
          "symbol": "x"
         },
         "mode": "lines+markers",
         "name": "block iterative, abs min",
         "orientation": "v",
         "showlegend": true,
         "type": "scatter",
         "x": [
          80,
          90
         ],
         "xaxis": "x",
         "y": [
          79.13666534,
          78.10333252
         ],
         "yaxis": "y"
        }
       ],
       "layout": {
        "annotations": [
         {
          "font": {
           "color": "black"
          },
          "showarrow": false,
          "text": "Baseline accuracy of the unpruned network",
          "x": 1,
          "xanchor": "right",
          "xref": "paper",
          "y": 81.09000162999999
         }
        ],
        "font": {
         "size": 19
        },
        "height": 750,
        "legend": {
         "font": {
          "size": 17
         },
         "title": {
          "text": "Pruning method, Metric"
         },
         "tracegroupgap": 0,
         "x": 1.1,
         "y": 1
        },
        "margin": {
         "b": 50,
         "l": 50,
         "r": 50,
         "t": 100
        },
        "paper_bgcolor": "rgba(255, 255, 255, 1)",
        "plot_bgcolor": "rgba(240, 240, 240, 1)",
        "shapes": [
         {
          "line": {
           "color": "black",
           "dash": "dash",
           "width": 1
          },
          "type": "line",
          "x0": 79.25,
          "x1": 90.75,
          "xref": "x",
          "y0": 80.96000163,
          "y1": 80.96000163,
          "yref": "y"
         }
        ],
        "template": {
         "data": {
          "bar": [
           {
            "error_x": {
             "color": "#2a3f5f"
            },
            "error_y": {
             "color": "#2a3f5f"
            },
            "marker": {
             "line": {
              "color": "#E5ECF6",
              "width": 0.5
             },
             "pattern": {
              "fillmode": "overlay",
              "size": 10,
              "solidity": 0.2
             }
            },
            "type": "bar"
           }
          ],
          "barpolar": [
           {
            "marker": {
             "line": {
              "color": "#E5ECF6",
              "width": 0.5
             },
             "pattern": {
              "fillmode": "overlay",
              "size": 10,
              "solidity": 0.2
             }
            },
            "type": "barpolar"
           }
          ],
          "carpet": [
           {
            "aaxis": {
             "endlinecolor": "#2a3f5f",
             "gridcolor": "white",
             "linecolor": "white",
             "minorgridcolor": "white",
             "startlinecolor": "#2a3f5f"
            },
            "baxis": {
             "endlinecolor": "#2a3f5f",
             "gridcolor": "white",
             "linecolor": "white",
             "minorgridcolor": "white",
             "startlinecolor": "#2a3f5f"
            },
            "type": "carpet"
           }
          ],
          "choropleth": [
           {
            "colorbar": {
             "outlinewidth": 0,
             "ticks": ""
            },
            "type": "choropleth"
           }
          ],
          "contour": [
           {
            "colorbar": {
             "outlinewidth": 0,
             "ticks": ""
            },
            "colorscale": [
             [
              0,
              "#0d0887"
             ],
             [
              0.1111111111111111,
              "#46039f"
             ],
             [
              0.2222222222222222,
              "#7201a8"
             ],
             [
              0.3333333333333333,
              "#9c179e"
             ],
             [
              0.4444444444444444,
              "#bd3786"
             ],
             [
              0.5555555555555556,
              "#d8576b"
             ],
             [
              0.6666666666666666,
              "#ed7953"
             ],
             [
              0.7777777777777778,
              "#fb9f3a"
             ],
             [
              0.8888888888888888,
              "#fdca26"
             ],
             [
              1,
              "#f0f921"
             ]
            ],
            "type": "contour"
           }
          ],
          "contourcarpet": [
           {
            "colorbar": {
             "outlinewidth": 0,
             "ticks": ""
            },
            "type": "contourcarpet"
           }
          ],
          "heatmap": [
           {
            "colorbar": {
             "outlinewidth": 0,
             "ticks": ""
            },
            "colorscale": [
             [
              0,
              "#0d0887"
             ],
             [
              0.1111111111111111,
              "#46039f"
             ],
             [
              0.2222222222222222,
              "#7201a8"
             ],
             [
              0.3333333333333333,
              "#9c179e"
             ],
             [
              0.4444444444444444,
              "#bd3786"
             ],
             [
              0.5555555555555556,
              "#d8576b"
             ],
             [
              0.6666666666666666,
              "#ed7953"
             ],
             [
              0.7777777777777778,
              "#fb9f3a"
             ],
             [
              0.8888888888888888,
              "#fdca26"
             ],
             [
              1,
              "#f0f921"
             ]
            ],
            "type": "heatmap"
           }
          ],
          "heatmapgl": [
           {
            "colorbar": {
             "outlinewidth": 0,
             "ticks": ""
            },
            "colorscale": [
             [
              0,
              "#0d0887"
             ],
             [
              0.1111111111111111,
              "#46039f"
             ],
             [
              0.2222222222222222,
              "#7201a8"
             ],
             [
              0.3333333333333333,
              "#9c179e"
             ],
             [
              0.4444444444444444,
              "#bd3786"
             ],
             [
              0.5555555555555556,
              "#d8576b"
             ],
             [
              0.6666666666666666,
              "#ed7953"
             ],
             [
              0.7777777777777778,
              "#fb9f3a"
             ],
             [
              0.8888888888888888,
              "#fdca26"
             ],
             [
              1,
              "#f0f921"
             ]
            ],
            "type": "heatmapgl"
           }
          ],
          "histogram": [
           {
            "marker": {
             "pattern": {
              "fillmode": "overlay",
              "size": 10,
              "solidity": 0.2
             }
            },
            "type": "histogram"
           }
          ],
          "histogram2d": [
           {
            "colorbar": {
             "outlinewidth": 0,
             "ticks": ""
            },
            "colorscale": [
             [
              0,
              "#0d0887"
             ],
             [
              0.1111111111111111,
              "#46039f"
             ],
             [
              0.2222222222222222,
              "#7201a8"
             ],
             [
              0.3333333333333333,
              "#9c179e"
             ],
             [
              0.4444444444444444,
              "#bd3786"
             ],
             [
              0.5555555555555556,
              "#d8576b"
             ],
             [
              0.6666666666666666,
              "#ed7953"
             ],
             [
              0.7777777777777778,
              "#fb9f3a"
             ],
             [
              0.8888888888888888,
              "#fdca26"
             ],
             [
              1,
              "#f0f921"
             ]
            ],
            "type": "histogram2d"
           }
          ],
          "histogram2dcontour": [
           {
            "colorbar": {
             "outlinewidth": 0,
             "ticks": ""
            },
            "colorscale": [
             [
              0,
              "#0d0887"
             ],
             [
              0.1111111111111111,
              "#46039f"
             ],
             [
              0.2222222222222222,
              "#7201a8"
             ],
             [
              0.3333333333333333,
              "#9c179e"
             ],
             [
              0.4444444444444444,
              "#bd3786"
             ],
             [
              0.5555555555555556,
              "#d8576b"
             ],
             [
              0.6666666666666666,
              "#ed7953"
             ],
             [
              0.7777777777777778,
              "#fb9f3a"
             ],
             [
              0.8888888888888888,
              "#fdca26"
             ],
             [
              1,
              "#f0f921"
             ]
            ],
            "type": "histogram2dcontour"
           }
          ],
          "mesh3d": [
           {
            "colorbar": {
             "outlinewidth": 0,
             "ticks": ""
            },
            "type": "mesh3d"
           }
          ],
          "parcoords": [
           {
            "line": {
             "colorbar": {
              "outlinewidth": 0,
              "ticks": ""
             }
            },
            "type": "parcoords"
           }
          ],
          "pie": [
           {
            "automargin": true,
            "type": "pie"
           }
          ],
          "scatter": [
           {
            "fillpattern": {
             "fillmode": "overlay",
             "size": 10,
             "solidity": 0.2
            },
            "type": "scatter"
           }
          ],
          "scatter3d": [
           {
            "line": {
             "colorbar": {
              "outlinewidth": 0,
              "ticks": ""
             }
            },
            "marker": {
             "colorbar": {
              "outlinewidth": 0,
              "ticks": ""
             }
            },
            "type": "scatter3d"
           }
          ],
          "scattercarpet": [
           {
            "marker": {
             "colorbar": {
              "outlinewidth": 0,
              "ticks": ""
             }
            },
            "type": "scattercarpet"
           }
          ],
          "scattergeo": [
           {
            "marker": {
             "colorbar": {
              "outlinewidth": 0,
              "ticks": ""
             }
            },
            "type": "scattergeo"
           }
          ],
          "scattergl": [
           {
            "marker": {
             "colorbar": {
              "outlinewidth": 0,
              "ticks": ""
             }
            },
            "type": "scattergl"
           }
          ],
          "scattermapbox": [
           {
            "marker": {
             "colorbar": {
              "outlinewidth": 0,
              "ticks": ""
             }
            },
            "type": "scattermapbox"
           }
          ],
          "scatterpolar": [
           {
            "marker": {
             "colorbar": {
              "outlinewidth": 0,
              "ticks": ""
             }
            },
            "type": "scatterpolar"
           }
          ],
          "scatterpolargl": [
           {
            "marker": {
             "colorbar": {
              "outlinewidth": 0,
              "ticks": ""
             }
            },
            "type": "scatterpolargl"
           }
          ],
          "scatterternary": [
           {
            "marker": {
             "colorbar": {
              "outlinewidth": 0,
              "ticks": ""
             }
            },
            "type": "scatterternary"
           }
          ],
          "surface": [
           {
            "colorbar": {
             "outlinewidth": 0,
             "ticks": ""
            },
            "colorscale": [
             [
              0,
              "#0d0887"
             ],
             [
              0.1111111111111111,
              "#46039f"
             ],
             [
              0.2222222222222222,
              "#7201a8"
             ],
             [
              0.3333333333333333,
              "#9c179e"
             ],
             [
              0.4444444444444444,
              "#bd3786"
             ],
             [
              0.5555555555555556,
              "#d8576b"
             ],
             [
              0.6666666666666666,
              "#ed7953"
             ],
             [
              0.7777777777777778,
              "#fb9f3a"
             ],
             [
              0.8888888888888888,
              "#fdca26"
             ],
             [
              1,
              "#f0f921"
             ]
            ],
            "type": "surface"
           }
          ],
          "table": [
           {
            "cells": {
             "fill": {
              "color": "#EBF0F8"
             },
             "line": {
              "color": "white"
             }
            },
            "header": {
             "fill": {
              "color": "#C8D4E3"
             },
             "line": {
              "color": "white"
             }
            },
            "type": "table"
           }
          ]
         },
         "layout": {
          "annotationdefaults": {
           "arrowcolor": "#2a3f5f",
           "arrowhead": 0,
           "arrowwidth": 1
          },
          "autotypenumbers": "strict",
          "coloraxis": {
           "colorbar": {
            "outlinewidth": 0,
            "ticks": ""
           }
          },
          "colorscale": {
           "diverging": [
            [
             0,
             "#8e0152"
            ],
            [
             0.1,
             "#c51b7d"
            ],
            [
             0.2,
             "#de77ae"
            ],
            [
             0.3,
             "#f1b6da"
            ],
            [
             0.4,
             "#fde0ef"
            ],
            [
             0.5,
             "#f7f7f7"
            ],
            [
             0.6,
             "#e6f5d0"
            ],
            [
             0.7,
             "#b8e186"
            ],
            [
             0.8,
             "#7fbc41"
            ],
            [
             0.9,
             "#4d9221"
            ],
            [
             1,
             "#276419"
            ]
           ],
           "sequential": [
            [
             0,
             "#0d0887"
            ],
            [
             0.1111111111111111,
             "#46039f"
            ],
            [
             0.2222222222222222,
             "#7201a8"
            ],
            [
             0.3333333333333333,
             "#9c179e"
            ],
            [
             0.4444444444444444,
             "#bd3786"
            ],
            [
             0.5555555555555556,
             "#d8576b"
            ],
            [
             0.6666666666666666,
             "#ed7953"
            ],
            [
             0.7777777777777778,
             "#fb9f3a"
            ],
            [
             0.8888888888888888,
             "#fdca26"
            ],
            [
             1,
             "#f0f921"
            ]
           ],
           "sequentialminus": [
            [
             0,
             "#0d0887"
            ],
            [
             0.1111111111111111,
             "#46039f"
            ],
            [
             0.2222222222222222,
             "#7201a8"
            ],
            [
             0.3333333333333333,
             "#9c179e"
            ],
            [
             0.4444444444444444,
             "#bd3786"
            ],
            [
             0.5555555555555556,
             "#d8576b"
            ],
            [
             0.6666666666666666,
             "#ed7953"
            ],
            [
             0.7777777777777778,
             "#fb9f3a"
            ],
            [
             0.8888888888888888,
             "#fdca26"
            ],
            [
             1,
             "#f0f921"
            ]
           ]
          },
          "colorway": [
           "#636efa",
           "#EF553B",
           "#00cc96",
           "#ab63fa",
           "#FFA15A",
           "#19d3f3",
           "#FF6692",
           "#B6E880",
           "#FF97FF",
           "#FECB52"
          ],
          "font": {
           "color": "#2a3f5f"
          },
          "geo": {
           "bgcolor": "white",
           "lakecolor": "white",
           "landcolor": "#E5ECF6",
           "showlakes": true,
           "showland": true,
           "subunitcolor": "white"
          },
          "hoverlabel": {
           "align": "left"
          },
          "hovermode": "closest",
          "mapbox": {
           "style": "light"
          },
          "paper_bgcolor": "white",
          "plot_bgcolor": "#E5ECF6",
          "polar": {
           "angularaxis": {
            "gridcolor": "white",
            "linecolor": "white",
            "ticks": ""
           },
           "bgcolor": "#E5ECF6",
           "radialaxis": {
            "gridcolor": "white",
            "linecolor": "white",
            "ticks": ""
           }
          },
          "scene": {
           "xaxis": {
            "backgroundcolor": "#E5ECF6",
            "gridcolor": "white",
            "gridwidth": 2,
            "linecolor": "white",
            "showbackground": true,
            "ticks": "",
            "zerolinecolor": "white"
           },
           "yaxis": {
            "backgroundcolor": "#E5ECF6",
            "gridcolor": "white",
            "gridwidth": 2,
            "linecolor": "white",
            "showbackground": true,
            "ticks": "",
            "zerolinecolor": "white"
           },
           "zaxis": {
            "backgroundcolor": "#E5ECF6",
            "gridcolor": "white",
            "gridwidth": 2,
            "linecolor": "white",
            "showbackground": true,
            "ticks": "",
            "zerolinecolor": "white"
           }
          },
          "shapedefaults": {
           "line": {
            "color": "#2a3f5f"
           }
          },
          "ternary": {
           "aaxis": {
            "gridcolor": "white",
            "linecolor": "white",
            "ticks": ""
           },
           "baxis": {
            "gridcolor": "white",
            "linecolor": "white",
            "ticks": ""
           },
           "bgcolor": "#E5ECF6",
           "caxis": {
            "gridcolor": "white",
            "linecolor": "white",
            "ticks": ""
           }
          },
          "title": {
           "x": 0.05
          },
          "xaxis": {
           "automargin": true,
           "gridcolor": "white",
           "linecolor": "white",
           "ticks": "",
           "title": {
            "standoff": 15
           },
           "zerolinecolor": "white",
           "zerolinewidth": 2
          },
          "yaxis": {
           "automargin": true,
           "gridcolor": "white",
           "linecolor": "white",
           "ticks": "",
           "title": {
            "standoff": 15
           },
           "zerolinecolor": "white",
           "zerolinewidth": 2
          }
         }
        },
        "title": {
         "font": {
          "size": 22
         },
         "text": "Mean validation accuracy comparison of base experiments"
        },
        "width": 800,
        "xaxis": {
         "anchor": "y",
         "domain": [
          0,
          1
         ],
         "range": [
          79.25,
          90.75
         ],
         "ticktext": [
          "80",
          "90"
         ],
         "tickvals": [
          80,
          90
         ],
         "title": {
          "font": {
           "size": 19
          },
          "text": "Sparsity [%]"
         }
        },
        "yaxis": {
         "anchor": "x",
         "domain": [
          0,
          1
         ],
         "range": [
          75.9,
          81.35
         ],
         "title": {
          "font": {
           "size": 19
          },
          "text": "Validation accuracy [%]"
         }
        }
       }
      }
     },
     "metadata": {},
     "output_type": "display_data"
    }
   ],
   "source": [
    "create_plot(df, 'Mean validation accuracy comparison of base experiments').show()"
   ]
  }
 ],
 "metadata": {
  "kernelspec": {
   "display_name": "diplomovka_new",
   "language": "python",
   "name": "python3"
  },
  "language_info": {
   "codemirror_mode": {
    "name": "ipython",
    "version": 3
   },
   "file_extension": ".py",
   "mimetype": "text/x-python",
   "name": "python",
   "nbconvert_exporter": "python",
   "pygments_lexer": "ipython3",
   "version": "3.11.11"
  }
 },
 "nbformat": 4,
 "nbformat_minor": 5
}
